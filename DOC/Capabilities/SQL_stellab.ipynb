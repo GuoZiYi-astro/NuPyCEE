{
 "cells": [
  {
   "cell_type": "markdown",
   "metadata": {
    "deletable": true,
    "editable": true
   },
   "source": [
    "# The SQL database for Stellab"
   ]
  },
  {
   "cell_type": "markdown",
   "metadata": {
    "deletable": true,
    "editable": true
   },
   "source": [
    "SQL code to create stellab database. The table structure is shown below."
   ]
  },
  {
   "cell_type": "markdown",
   "metadata": {
    "deletable": true,
    "editable": true
   },
   "source": [
    "Tables:\n",
    "* refs: Table with literature references:\n",
    "    * refid: unique reference id (PK)\n",
    "    * fauthor: first author\n",
    "    * year\n",
    "    * nasaads: link to nasa ads page\n",
    "\n",
    "* galaxies\n",
    "    * gali: unique ref id\n",
    "    * name: galaxy name\n",
    "\n",
    "* solarnorms\n",
    "    * normid: unique reference id (PK)\n",
    "    * H, He... abundance entries\n",
    "    * refids\n",
    "* abu_table_reg\n",
    "    * abu_reg_id uniqure reference\n",
    "    * refid to look up literature\n",
    "    * table name to look up abundance table\n",
    "    * normid to look up normalization used\n",
    "\n",
    "* multiple abundance tables, all with\n",
    "    * abuid: unique reference id\n",
    "    * element ratio1, element ratio2...\n",
    "    * error1, errror2 ...\n",
    "\n",
    "Tips:\n",
    "* Use not null\n",
    "* fixed lenght type arrays are faster"
   ]
  },
  {
   "cell_type": "code",
   "execution_count": 1,
   "metadata": {
    "collapsed": true,
    "deletable": true,
    "editable": true
   },
   "outputs": [],
   "source": [
    "#We choose sqlite3 because it does not require to install mysql or run a server.\n",
    "import sqlite3\n",
    "import pandas as pd\n",
    "import stellab as st"
   ]
  },
  {
   "cell_type": "markdown",
   "metadata": {
    "deletable": true,
    "editable": true
   },
   "source": [
    "SQLite is a C library that provides a lightweight disk-based database that doesn’t require a separate server process and allows accessing the database using a nonstandard variant of the SQL query language. "
   ]
  },
  {
   "cell_type": "markdown",
   "metadata": {
    "deletable": true,
    "editable": true
   },
   "source": [
    "Creating database and table refs"
   ]
  },
  {
   "cell_type": "markdown",
   "metadata": {
    "deletable": true,
    "editable": true
   },
   "source": [
    "### Add references"
   ]
  },
  {
   "cell_type": "code",
   "execution_count": 2,
   "metadata": {
    "collapsed": false,
    "deletable": true,
    "editable": true
   },
   "outputs": [],
   "source": [
    "st1=st.stellab()\n",
    "#papers=st1.list_ref_papers()\n",
    "legs=st1.leg\n",
    "\n",
    "name=[]\n",
    "year=[]\n",
    "for i,labels in enumerate(legs):\n",
    "    name.append(labels.split('(')[0].strip())\n",
    "    year.append(labels.split('(')[1].strip()[:-1])"
   ]
  },
  {
   "cell_type": "code",
   "execution_count": 3,
   "metadata": {
    "collapsed": false,
    "deletable": true,
    "editable": true
   },
   "outputs": [
    {
     "name": "stdout",
     "output_type": "stream",
     "text": [
      "Anders_Grevesse_1989\n",
      "Grevesse_Noels_1993\n",
      "Grevesse_Sauval_1998\n",
      "Asplund_et_al_2009\n",
      "Asplund_et_al_2005\n",
      "Lodders_et_al_2009\n"
     ]
    }
   ],
   "source": [
    "st1.list_solar_norm()"
   ]
  },
  {
   "cell_type": "markdown",
   "metadata": {},
   "source": [
    "## I. Code to build database"
   ]
  },
  {
   "cell_type": "code",
   "execution_count": 4,
   "metadata": {
    "collapsed": false,
    "deletable": true,
    "editable": true
   },
   "outputs": [],
   "source": [
    "#create table\n",
    "!rm stellab.db\n",
    "db=sqlite3.connect('stellab.db')\n",
    "curser=db.cursor()\n",
    "curser.execute('''CREATE TABLE IF NOT EXISTS refs (refid integer primary key autoincrement, fauthor text, year year, nasads text)''')\n",
    "curser.execute('''CREATE TABLE IF NOT EXISTS galaxies (galid integer primary key autoincrement, name text)''')\n",
    "curser.execute('''CREATE TABLE IF NOT EXISTS solarnorms (normid integer primary key autoincrement, H float, He float, refid integer)''')\n",
    "curser.execute('''CREATE TABLE IF NOT EXISTS abu_table_reg (abu_reg_id integer primary key autoincrement, refid integer, normid integer,abutable text)''')\n",
    "db.commit()"
   ]
  },
  {
   "cell_type": "code",
   "execution_count": 5,
   "metadata": {
    "collapsed": false,
    "deletable": true,
    "editable": true
   },
   "outputs": [],
   "source": [
    "def get_column_names(table):\n",
    "    tmp=db.execute(\"PRAGMA table_info(%s)\" % table).fetchall()\n",
    "    return [entry[1] for entry in tmp]"
   ]
  },
  {
   "cell_type": "code",
   "execution_count": 19,
   "metadata": {
    "collapsed": false,
    "deletable": true,
    "editable": true
   },
   "outputs": [],
   "source": [
    "def check_solar_normalization(name,year):\n",
    "    '''\n",
    "    Check if normalization data is available in table solarnorms. Only for internal use.\n",
    "    '''        \n",
    "    #check if paper for normalization data exists already.\n",
    "    results = db.execute('''SELECT refid FROM refs WHERE (fauthor = '%s' and year = '%s' )''' % (name,year))  #% ('Anders','1989'))\n",
    "    refid = results.fetchall()\n",
    "    if len(refid)==1:\n",
    "        #print 'Paper related to solar normalization is available.'\n",
    "        refid = refid[0][0]\n",
    "        results = db.execute('''SELECT normid FROM solarnorms WHERE (refid = %s )''' %(refid))\n",
    "        normid = results.fetchall()\n",
    "        if len(normid)==1:\n",
    "            print 'found corresponding normalization data.'\n",
    "            return normid[0][0]\n",
    "        else:\n",
    "            #add normalization data\n",
    "            print 'normalization data is missing. Add the data first by using add_normalization().'\n",
    "            return -1\n",
    "    else:\n",
    "        print 'Solar normalization data is not in database. Add the data first by using add_normalization().'\n",
    "        #print 'paper for normalization not available. Add paper reference first.'\n",
    "        return -1"
   ]
  },
  {
   "cell_type": "code",
   "execution_count": 7,
   "metadata": {
    "collapsed": false,
    "deletable": true,
    "editable": true
   },
   "outputs": [],
   "source": [
    "def add_normalization(norm_paper,norm_label,norm_data):\n",
    "    '''\n",
    "    Add data to normalization table solarnorms and corresponding paper to table refs.\n",
    "    E.g.\n",
    "    norm_paper=['Venn',2012,'http://adsabs.harvard.edu/abs/2012ApJ...751..102V']\n",
    "    norm_label=['H','He']\n",
    "    norm_data = [-2.81,0.34,]\n",
    "\n",
    "    '''\n",
    "    #check if paper for normalization data exists already.\n",
    "    name=norm_paper[0]\n",
    "    year=norm_paper[1]\n",
    "    nasads=norm_paper[2]\n",
    "    results = db.execute('''SELECT refid FROM refs WHERE (fauthor = '%s' and year = '%s' )''' % (name,year))  #% ('Anders','1989'))\n",
    "    refid = results.fetchall()\n",
    "\n",
    "    if len(refid)==0:\n",
    "        print 'add paper for solar normalization to table refs.'\n",
    "        add_paper_ref(name,year,nasads)\n",
    "        results = db.execute('''SELECT refid FROM refs WHERE (fauthor = '%s' and year = '%s' )''' % (name,year))  #% ('Anders','1989'))\n",
    "        refid = results.fetchall()        \n",
    "        \n",
    "    refid = refid[0][0]\n",
    "    results = db.execute('''SELECT normid FROM solarnorms WHERE (refid = %s )''' %(refid))\n",
    "    normid = results.fetchall()\n",
    "    \n",
    "    if len(normid)==1:\n",
    "        print 'normalization data is already available.'\n",
    "    else:\n",
    "            \n",
    "        #check if columns of solarnorms include matches to norm_label\n",
    "        columns= get_column_names('solarnorms') \n",
    "        for k in range(len(norm_label)):\n",
    "            if not norm_label[k] in columns:\n",
    "                #print norm_label[k],'missing in columns, add new column'\n",
    "                db.execute('''ALTER TABLE solarnorms ADD %s float''' %norm_label[k])\n",
    "                    \n",
    "        #add normalization data\n",
    "        str_tmp = 'refid, '\n",
    "        #print norm_label\n",
    "        #print norm_data\n",
    "        for k in range(len(norm_label)):\n",
    "                str_tmp+= (norm_label[k] + ',')\n",
    "        str_tmp = str_tmp[:-1]\n",
    "        sql_prepr = tuple([str_tmp])\n",
    "        #print 'test 1',sql_prepr\n",
    "        str_tmp = str(refid)+', '\n",
    "        for k in range(len(norm_data)):\n",
    "                str_tmp+= str(norm_data[k]) + ','\n",
    "        str_tmp = str_tmp[:-1]\n",
    "        sql_prepr = sql_prepr + tuple([str_tmp])\n",
    "        #print sql_prepr\n",
    "        db.execute('''INSERT INTO solarnorms (%s) VALUES (%s)''' % sql_prepr)\n"
   ]
  },
  {
   "cell_type": "code",
   "execution_count": 8,
   "metadata": {
    "collapsed": true,
    "deletable": true,
    "editable": true
   },
   "outputs": [],
   "source": [
    "def add_paper_ref(name,year,nasads):\n",
    "    '''\n",
    "    Add a new paper to the table refs.\n",
    "    e.g.\n",
    "    name='Anders'\n",
    "    year=1989\n",
    "    nasads='http://ukads.nottingham.ac.uk/abs/1993A%26A...271..587G'\n",
    "    '''   \n",
    "    results = db.execute('''SELECT refid FROM refs WHERE (fauthor = '%s' and year = '%s' )''' % \n",
    "                         (name,year))\n",
    "    results = results.fetchall()\n",
    "    if len(results)==0:\n",
    "            print 'add paper related to abundance to table refs.'\n",
    "            db.execute('''INSERT INTO refs (fauthor, year,nasads) VALUES ('%s','%s','%s') ''' % (name,year,nasads))\n",
    "            db.commit()\n",
    "            #key=db.execute('''SELECT LAST_INSERT_ID()''')\n",
    "            results=db.execute('''SELECT refid FROM refs WHERE (fauthor='%s' and year='%s') ''' % (name,year))\n",
    "            ref_id=results.fetchall()[0][0]\n",
    "    else:\n",
    "        print 'abu data paper exists already. do nothing'\n",
    "        ref_id = results[0][0]\n",
    "    return ref_id"
   ]
  },
  {
   "cell_type": "code",
   "execution_count": 25,
   "metadata": {
    "collapsed": false,
    "deletable": true,
    "editable": true
   },
   "outputs": [],
   "source": [
    "def add_abundance_data(abu_paper,abu_norm,abu_label,abu_data):\n",
    "    '''\n",
    "    Adding new abundance data to database. Creates new table. Requires corresponding solar normalization to be available\n",
    "    in database.\n",
    "    e.g.\n",
    "    abundance_paper=['Venn',2012,'http://adsabs.harvard.edu/abs/2012ApJ...751..102V','Milky Way']\n",
    "    abundance_norm=['Anders','1989']\n",
    "    abundance_label=['[Fe/H]','err']\n",
    "    abundance_data = [-2.81,0.34]    \n",
    "    '''\n",
    "    \n",
    "    ######check if solar normalization paper and data already exists in database\n",
    "    norm_id = check_solar_normalization(abu_norm[0],abu_norm[1])\n",
    "    if norm_id == -1: return\n",
    "    \n",
    "    ######check if abundance paper into database, if it does not exist, add it.\n",
    "    ref_id = add_paper_ref(abu_paper[0],abu_paper[1],abu_paper[2])\n",
    "\n",
    "    ###### add abundance data    \n",
    "    table_name = ''\n",
    "    #check if table already exists in registry table for abundance tables\n",
    "    results = curser.execute('''SELECT abu_reg_id FROM abu_table_reg WHERE (normid = '%s' and refid = '%s')''' % \n",
    "                             (norm_id,ref_id))\n",
    "    results = results.fetchall()\n",
    "    if len(results)==0:\n",
    "        \n",
    "        #get the latest key entry\n",
    "        abu_reg_ids = curser.execute('''SELECT abu_reg_id FROM abu_table_reg''')\n",
    "        abu_reg_ids = abu_reg_ids.fetchall()\n",
    "\n",
    "        if len(abu_reg_ids)==0:\n",
    "            abu_reg_id = 0\n",
    "        else:\n",
    "            abu_reg_id = abu_reg_ids[0][-1]\n",
    "        #create new key entry\n",
    "        abu_reg_id = abu_reg_id + 1\n",
    "        \n",
    "        #name table according to numbering of abu_reg_id\n",
    "        tablename = 'abu_table_%s' % abu_reg_id\n",
    "        #add new table\n",
    "                             \n",
    "        #create table\n",
    "        str_tmp=''\n",
    "        for k in range(len(abu_label)):\n",
    "            str_tmp+=' , '+abu_label[k] +' float '\n",
    "                             \n",
    "        sql_prepr = tuple([tablename])+tuple([str_tmp])\n",
    "                             \n",
    "        #create database\n",
    "        #print 'create abu table entry'\n",
    "        curser.execute('''CREATE TABLE IF NOT EXISTS %s (abuid integer primary key autoincrement %s )''' %\n",
    "                            sql_prepr)\n",
    "                             \n",
    "        #### add abundance data: 1 entry line        \n",
    "        str_tmp1=''\n",
    "        for k in range(len(abu_label)):\n",
    "                str_tmp1+=abu_label[k]+','\n",
    "        str_tmp1 = str_tmp1[:-1]\n",
    "        str_tmp2=''\n",
    "        for k in range(len(abu_data)):\n",
    "                str_tmp2+=str(abu_data[k])+','\n",
    "        str_tmp2 = str_tmp2[:-1]        \n",
    "        \n",
    "        #create tuple for SQL input\n",
    "        sql_prepr = tuple([tablename]) + tuple([str_tmp1]) + tuple([str_tmp2])\n",
    "        #print sql_prepr           \n",
    "        curser.execute('''INSERT INTO %s (%s) VALUES (%s)''' %sql_prepr)\n",
    "        \n",
    "        #insert into table registry last, after abundance table was created successfully.                     \n",
    "        curser.execute('''INSERT INTO abu_table_reg (refid, normid,abutable) VALUES ('%s','%s','%s') ''' %\n",
    "                             (ref_id,norm_id,tablename))\n",
    "        #print 'Table ',sql_prepr,' , ',' created!'\n",
    "    else:\n",
    "        print 'abundance table with same paper reference and solar normalization exists already! Do nothing.'"
   ]
  },
  {
   "cell_type": "markdown",
   "metadata": {},
   "source": [
    "#### the following functions are for data retrieval and display (we use popular pandas package)"
   ]
  },
  {
   "cell_type": "code",
   "execution_count": 10,
   "metadata": {
    "collapsed": true
   },
   "outputs": [],
   "source": [
    "# style of pandas sheet to allow nasads link to be clickable\n",
    "def make_clickable(val):\n",
    "    '''\n",
    "    internal function for pandas display\n",
    "    '''\n",
    "    if 'http' in str(val):\n",
    "        return '<a href=\"{}\">{}</a>'.format(val,val)\n",
    "    else:\n",
    "        return val"
   ]
  },
  {
   "cell_type": "code",
   "execution_count": 11,
   "metadata": {
    "collapsed": false
   },
   "outputs": [],
   "source": [
    "def get_solar_normalizations(norm_paper=[],data_x_y=False):\n",
    "    '''\n",
    "    Access either specific solar normalization data, specified through norm_paper or all solar normalization\n",
    "    data when norm_paper=[].\n",
    "    e.g. norm_paper=['Anders',1989]\n",
    "    '''\n",
    "    \n",
    "    all_data= db.execute('''SELECT sn.*,r.fauthor,r.year,r.nasads FROM solarnorms sn INNER JOIN refs as r ON sn.refid = r.refid''').fetchall()\n",
    "    columns = get_column_names('solarnorms')\n",
    "    columns=columns + ['fauthor','year','nasaads']\n",
    " \n",
    "    if not len(norm_paper) == 0:\n",
    "        idx=-1\n",
    "        for k in range(len(all_data)):\n",
    "            print all_data[k]\n",
    "            if norm_paper[0] in all_data[k] and norm_paper[1] in all_data[k]:\n",
    "                idx=k\n",
    "                break\n",
    "        if idx == -1: return 'normalization table not found.'\n",
    "        data = [all_data[idx]]\n",
    "    else:\n",
    "        data = all_data\n",
    "    if data_x_y:\n",
    "        return columns,data        \n",
    "    else:    \n",
    "        return pd.DataFrame(data=data,columns=columns).style.format(make_clickable)"
   ]
  },
  {
   "cell_type": "code",
   "execution_count": 12,
   "metadata": {
    "collapsed": false
   },
   "outputs": [],
   "source": [
    "def get_paper_refs():\n",
    "    '''\n",
    "    Access all the paper references available in the database.\n",
    "    '''\n",
    "    data= db.execute('''SELECT * FROM refs''').fetchall()\n",
    "    columns = get_column_names('refs')\n",
    "    return pd.DataFrame(data=data,columns=columns).style.format(make_clickable)"
   ]
  },
  {
   "cell_type": "code",
   "execution_count": 13,
   "metadata": {
    "collapsed": true
   },
   "outputs": [],
   "source": [
    "def get_overview_abundance_tables(data_x_y=False):\n",
    "    '''\n",
    "    Overview over all available abundance tables. \n",
    "    '''\n",
    "    data= db.execute('''SELECT a.*,r.fauthor,r.year,r.nasads FROM abu_table_reg a INNER JOIN refs r ON a.refid = r.refid''').fetchall()\n",
    "    columns = get_column_names('abu_table_reg')\n",
    "    columns=columns + ['fauthor','year','nasaads']\n",
    "    if data_x_y:\n",
    "        return columns,data\n",
    "    \n",
    "    else:\n",
    "        return pd.DataFrame(data=data,columns=columns).style.format(make_clickable)"
   ]
  },
  {
   "cell_type": "code",
   "execution_count": 14,
   "metadata": {
    "collapsed": false
   },
   "outputs": [],
   "source": [
    "def get_abundance_data(abu_paper,data_x_y=False):\n",
    "    '''\n",
    "    Access abundance data from specific paper abu_paper\n",
    "    e.g. abu_paper=['Venn',2012]   \n",
    "    '''\n",
    "    \n",
    "    #check for availability\n",
    "    columns,all_data = get_overview_abundance_tables(data_x_y=True)\n",
    "    idx=-1\n",
    "    for k in range(len(all_data)):\n",
    "        if abu_paper[0] in all_data[k] and abu_paper[1] in all_data[k]:\n",
    "            idx=k\n",
    "            break\n",
    "    if idx==-1: return 'abundance table not found in database.'\n",
    "    data= all_data[idx]\n",
    "    idx=columns.index('abutable')\n",
    "    tablename = data[idx]\n",
    "    #get the abundance data from specific table tablename\n",
    "    data= db.execute('''SELECT * FROM %s ''' % tablename).fetchall()    \n",
    "    columns=get_column_names(tablename)\n",
    "    if data_x_y:\n",
    "        return columns,data\n",
    "    else:\n",
    "        return pd.DataFrame(data=data,columns=columns)   "
   ]
  },
  {
   "cell_type": "markdown",
   "metadata": {
    "deletable": true,
    "editable": true
   },
   "source": [
    "## II. Examples how to add and retrieve data."
   ]
  },
  {
   "cell_type": "markdown",
   "metadata": {
    "deletable": true,
    "editable": true
   },
   "source": [
    "#### Before we add abundance data we need to add a related solar normalization data and (paper) reference. The solar normalization data goes in one table (solarnorms table) and the paper reference in another (refs table)."
   ]
  },
  {
   "cell_type": "code",
   "execution_count": 15,
   "metadata": {
    "collapsed": false,
    "deletable": true,
    "editable": true
   },
   "outputs": [
    {
     "name": "stdout",
     "output_type": "stream",
     "text": [
      "add paper for solar normalization to table refs.\n",
      "add paper related to abundance to table refs.\n"
     ]
    }
   ],
   "source": [
    "#add normalization data\n",
    "normalization_paper=['Anders',1989,'http://ukads.nottingham.ac.uk/abs/1993A%26A...271..587G']\n",
    "normalization_label=['H','He','Fe']\n",
    "normalization_data = [-2.81,0.34,0.01]\n",
    "add_normalization(normalization_paper,normalization_label,normalization_data)"
   ]
  },
  {
   "cell_type": "markdown",
   "metadata": {
    "deletable": true,
    "editable": true
   },
   "source": [
    "check correct input:"
   ]
  },
  {
   "cell_type": "code",
   "execution_count": 16,
   "metadata": {
    "collapsed": false,
    "deletable": true,
    "editable": true,
    "scrolled": true
   },
   "outputs": [
    {
     "data": {
      "text/html": [
       "\n",
       "        <style  type=\"text/css\" >\n",
       "        \n",
       "        \n",
       "        </style>\n",
       "\n",
       "        <table id=\"T_27121826_a3bd_11e7_be10_c869cda175ec\" None>\n",
       "        \n",
       "\n",
       "        <thead>\n",
       "            \n",
       "            <tr>\n",
       "                \n",
       "                \n",
       "                <th class=\"blank level0\" >\n",
       "                  \n",
       "                \n",
       "                \n",
       "                \n",
       "                <th class=\"col_heading level0 col0\" colspan=1>\n",
       "                  normid\n",
       "                \n",
       "                \n",
       "                \n",
       "                <th class=\"col_heading level0 col1\" colspan=1>\n",
       "                  H\n",
       "                \n",
       "                \n",
       "                \n",
       "                <th class=\"col_heading level0 col2\" colspan=1>\n",
       "                  He\n",
       "                \n",
       "                \n",
       "                \n",
       "                <th class=\"col_heading level0 col3\" colspan=1>\n",
       "                  refid\n",
       "                \n",
       "                \n",
       "                \n",
       "                <th class=\"col_heading level0 col4\" colspan=1>\n",
       "                  Fe\n",
       "                \n",
       "                \n",
       "                \n",
       "                <th class=\"col_heading level0 col5\" colspan=1>\n",
       "                  fauthor\n",
       "                \n",
       "                \n",
       "                \n",
       "                <th class=\"col_heading level0 col6\" colspan=1>\n",
       "                  year\n",
       "                \n",
       "                \n",
       "                \n",
       "                <th class=\"col_heading level0 col7\" colspan=1>\n",
       "                  nasaads\n",
       "                \n",
       "                \n",
       "            </tr>\n",
       "            \n",
       "        </thead>\n",
       "        <tbody>\n",
       "            \n",
       "            <tr>\n",
       "                \n",
       "                \n",
       "                <th id=\"T_27121826_a3bd_11e7_be10_c869cda175ec\"\n",
       "                 class=\"row_heading level0 row0\" rowspan=1>\n",
       "                    0\n",
       "                \n",
       "                \n",
       "                \n",
       "                <td id=\"T_27121826_a3bd_11e7_be10_c869cda175ecrow0_col0\"\n",
       "                 class=\"data row0 col0\" >\n",
       "                    1\n",
       "                \n",
       "                \n",
       "                \n",
       "                <td id=\"T_27121826_a3bd_11e7_be10_c869cda175ecrow0_col1\"\n",
       "                 class=\"data row0 col1\" >\n",
       "                    -2.81\n",
       "                \n",
       "                \n",
       "                \n",
       "                <td id=\"T_27121826_a3bd_11e7_be10_c869cda175ecrow0_col2\"\n",
       "                 class=\"data row0 col2\" >\n",
       "                    0.34\n",
       "                \n",
       "                \n",
       "                \n",
       "                <td id=\"T_27121826_a3bd_11e7_be10_c869cda175ecrow0_col3\"\n",
       "                 class=\"data row0 col3\" >\n",
       "                    1\n",
       "                \n",
       "                \n",
       "                \n",
       "                <td id=\"T_27121826_a3bd_11e7_be10_c869cda175ecrow0_col4\"\n",
       "                 class=\"data row0 col4\" >\n",
       "                    0.01\n",
       "                \n",
       "                \n",
       "                \n",
       "                <td id=\"T_27121826_a3bd_11e7_be10_c869cda175ecrow0_col5\"\n",
       "                 class=\"data row0 col5\" >\n",
       "                    Anders\n",
       "                \n",
       "                \n",
       "                \n",
       "                <td id=\"T_27121826_a3bd_11e7_be10_c869cda175ecrow0_col6\"\n",
       "                 class=\"data row0 col6\" >\n",
       "                    1989\n",
       "                \n",
       "                \n",
       "                \n",
       "                <td id=\"T_27121826_a3bd_11e7_be10_c869cda175ecrow0_col7\"\n",
       "                 class=\"data row0 col7\" >\n",
       "                    <a href=\"http://ukads.nottingham.ac.uk/abs/1993A%26A...271..587G\">http://ukads.nottingham.ac.uk/abs/1993A%26A...271..587G</a>\n",
       "                \n",
       "                \n",
       "            </tr>\n",
       "            \n",
       "        </tbody>\n",
       "        </table>\n",
       "        "
      ],
      "text/plain": [
       "<pandas.formats.style.Styler at 0x119f21790>"
      ]
     },
     "execution_count": 16,
     "metadata": {},
     "output_type": "execute_result"
    }
   ],
   "source": [
    "#did we successfully created database entry in solar normalization table?\n",
    "get_solar_normalizations()"
   ]
  },
  {
   "cell_type": "code",
   "execution_count": 17,
   "metadata": {
    "collapsed": false,
    "deletable": true,
    "editable": true
   },
   "outputs": [
    {
     "data": {
      "text/html": [
       "\n",
       "        <style  type=\"text/css\" >\n",
       "        \n",
       "        \n",
       "        </style>\n",
       "\n",
       "        <table id=\"T_2786b8de_a3bd_11e7_a973_c869cda175ec\" None>\n",
       "        \n",
       "\n",
       "        <thead>\n",
       "            \n",
       "            <tr>\n",
       "                \n",
       "                \n",
       "                <th class=\"blank level0\" >\n",
       "                  \n",
       "                \n",
       "                \n",
       "                \n",
       "                <th class=\"col_heading level0 col0\" colspan=1>\n",
       "                  refid\n",
       "                \n",
       "                \n",
       "                \n",
       "                <th class=\"col_heading level0 col1\" colspan=1>\n",
       "                  fauthor\n",
       "                \n",
       "                \n",
       "                \n",
       "                <th class=\"col_heading level0 col2\" colspan=1>\n",
       "                  year\n",
       "                \n",
       "                \n",
       "                \n",
       "                <th class=\"col_heading level0 col3\" colspan=1>\n",
       "                  nasads\n",
       "                \n",
       "                \n",
       "            </tr>\n",
       "            \n",
       "        </thead>\n",
       "        <tbody>\n",
       "            \n",
       "            <tr>\n",
       "                \n",
       "                \n",
       "                <th id=\"T_2786b8de_a3bd_11e7_a973_c869cda175ec\"\n",
       "                 class=\"row_heading level0 row0\" rowspan=1>\n",
       "                    0\n",
       "                \n",
       "                \n",
       "                \n",
       "                <td id=\"T_2786b8de_a3bd_11e7_a973_c869cda175ecrow0_col0\"\n",
       "                 class=\"data row0 col0\" >\n",
       "                    1\n",
       "                \n",
       "                \n",
       "                \n",
       "                <td id=\"T_2786b8de_a3bd_11e7_a973_c869cda175ecrow0_col1\"\n",
       "                 class=\"data row0 col1\" >\n",
       "                    Anders\n",
       "                \n",
       "                \n",
       "                \n",
       "                <td id=\"T_2786b8de_a3bd_11e7_a973_c869cda175ecrow0_col2\"\n",
       "                 class=\"data row0 col2\" >\n",
       "                    1989\n",
       "                \n",
       "                \n",
       "                \n",
       "                <td id=\"T_2786b8de_a3bd_11e7_a973_c869cda175ecrow0_col3\"\n",
       "                 class=\"data row0 col3\" >\n",
       "                    <a href=\"http://ukads.nottingham.ac.uk/abs/1993A%26A...271..587G\">http://ukads.nottingham.ac.uk/abs/1993A%26A...271..587G</a>\n",
       "                \n",
       "                \n",
       "            </tr>\n",
       "            \n",
       "        </tbody>\n",
       "        </table>\n",
       "        "
      ],
      "text/plain": [
       "<pandas.formats.style.Styler at 0x11dc42b50>"
      ]
     },
     "execution_count": 17,
     "metadata": {},
     "output_type": "execute_result"
    }
   ],
   "source": [
    "#lets see if there is an entry for the paper referene in the refs table\n",
    "get_paper_refs()"
   ]
  },
  {
   "cell_type": "markdown",
   "metadata": {
    "deletable": true,
    "editable": true
   },
   "source": [
    "#### Add one abundance data table. A new table with abundance data is created and an entry added to the abu_table_reg table. The latter table holds the names and info about all abundance data tables."
   ]
  },
  {
   "cell_type": "code",
   "execution_count": 20,
   "metadata": {
    "collapsed": false,
    "deletable": true,
    "editable": true
   },
   "outputs": [
    {
     "name": "stdout",
     "output_type": "stream",
     "text": [
      "found corresponding normalization data.\n",
      "abu data paper exists already. do nothing\n",
      "abundance table with same paper reference and solar normalization exists already! Do nothing.\n"
     ]
    }
   ],
   "source": [
    "#add abundance data\n",
    "abundance_paper=['Venn',2012,'http://adsabs.harvard.edu/abs/2012ApJ...751..102V','Milky Way']\n",
    "#corresponding normalization for abundance data. Must be existant in database, else use add_normalization() above.\n",
    "abundance_norm=['Anders','1989']\n",
    "#plain data\n",
    "abundance_label=['[Fe/H]','err']\n",
    "abundance_data = [-2.81,0.34]\n",
    "add_abundance_data(abundance_paper,abundance_norm,abundance_label,abundance_data)"
   ]
  },
  {
   "cell_type": "code",
   "execution_count": 21,
   "metadata": {
    "collapsed": false
   },
   "outputs": [
    {
     "data": {
      "text/html": [
       "<div>\n",
       "<table border=\"1\" class=\"dataframe\">\n",
       "  <thead>\n",
       "    <tr style=\"text-align: right;\">\n",
       "      <th></th>\n",
       "      <th>abuid</th>\n",
       "      <th>Fe/H</th>\n",
       "      <th>err</th>\n",
       "    </tr>\n",
       "  </thead>\n",
       "  <tbody>\n",
       "    <tr>\n",
       "      <th>0</th>\n",
       "      <td>1</td>\n",
       "      <td>-2.81</td>\n",
       "      <td>0.34</td>\n",
       "    </tr>\n",
       "  </tbody>\n",
       "</table>\n",
       "</div>"
      ],
      "text/plain": [
       "   abuid  Fe/H   err\n",
       "0      1 -2.81  0.34"
      ]
     },
     "execution_count": 21,
     "metadata": {},
     "output_type": "execute_result"
    }
   ],
   "source": [
    "#check if table exists\n",
    "get_abundance_data(abu_paper=abundance_paper)"
   ]
  },
  {
   "cell_type": "code",
   "execution_count": 22,
   "metadata": {
    "collapsed": false
   },
   "outputs": [
    {
     "data": {
      "text/html": [
       "\n",
       "        <style  type=\"text/css\" >\n",
       "        \n",
       "        \n",
       "        </style>\n",
       "\n",
       "        <table id=\"T_5975f847_a3bd_11e7_94fc_c869cda175ec\" None>\n",
       "        \n",
       "\n",
       "        <thead>\n",
       "            \n",
       "            <tr>\n",
       "                \n",
       "                \n",
       "                <th class=\"blank level0\" >\n",
       "                  \n",
       "                \n",
       "                \n",
       "                \n",
       "                <th class=\"col_heading level0 col0\" colspan=1>\n",
       "                  abu_reg_id\n",
       "                \n",
       "                \n",
       "                \n",
       "                <th class=\"col_heading level0 col1\" colspan=1>\n",
       "                  refid\n",
       "                \n",
       "                \n",
       "                \n",
       "                <th class=\"col_heading level0 col2\" colspan=1>\n",
       "                  normid\n",
       "                \n",
       "                \n",
       "                \n",
       "                <th class=\"col_heading level0 col3\" colspan=1>\n",
       "                  abutable\n",
       "                \n",
       "                \n",
       "                \n",
       "                <th class=\"col_heading level0 col4\" colspan=1>\n",
       "                  fauthor\n",
       "                \n",
       "                \n",
       "                \n",
       "                <th class=\"col_heading level0 col5\" colspan=1>\n",
       "                  year\n",
       "                \n",
       "                \n",
       "                \n",
       "                <th class=\"col_heading level0 col6\" colspan=1>\n",
       "                  nasaads\n",
       "                \n",
       "                \n",
       "            </tr>\n",
       "            \n",
       "        </thead>\n",
       "        <tbody>\n",
       "            \n",
       "            <tr>\n",
       "                \n",
       "                \n",
       "                <th id=\"T_5975f847_a3bd_11e7_94fc_c869cda175ec\"\n",
       "                 class=\"row_heading level0 row0\" rowspan=1>\n",
       "                    0\n",
       "                \n",
       "                \n",
       "                \n",
       "                <td id=\"T_5975f847_a3bd_11e7_94fc_c869cda175ecrow0_col0\"\n",
       "                 class=\"data row0 col0\" >\n",
       "                    1\n",
       "                \n",
       "                \n",
       "                \n",
       "                <td id=\"T_5975f847_a3bd_11e7_94fc_c869cda175ecrow0_col1\"\n",
       "                 class=\"data row0 col1\" >\n",
       "                    2\n",
       "                \n",
       "                \n",
       "                \n",
       "                <td id=\"T_5975f847_a3bd_11e7_94fc_c869cda175ecrow0_col2\"\n",
       "                 class=\"data row0 col2\" >\n",
       "                    1\n",
       "                \n",
       "                \n",
       "                \n",
       "                <td id=\"T_5975f847_a3bd_11e7_94fc_c869cda175ecrow0_col3\"\n",
       "                 class=\"data row0 col3\" >\n",
       "                    abu_table_1\n",
       "                \n",
       "                \n",
       "                \n",
       "                <td id=\"T_5975f847_a3bd_11e7_94fc_c869cda175ecrow0_col4\"\n",
       "                 class=\"data row0 col4\" >\n",
       "                    Venn\n",
       "                \n",
       "                \n",
       "                \n",
       "                <td id=\"T_5975f847_a3bd_11e7_94fc_c869cda175ecrow0_col5\"\n",
       "                 class=\"data row0 col5\" >\n",
       "                    2012\n",
       "                \n",
       "                \n",
       "                \n",
       "                <td id=\"T_5975f847_a3bd_11e7_94fc_c869cda175ecrow0_col6\"\n",
       "                 class=\"data row0 col6\" >\n",
       "                    <a href=\"http://adsabs.harvard.edu/abs/2012ApJ...751..102V\">http://adsabs.harvard.edu/abs/2012ApJ...751..102V</a>\n",
       "                \n",
       "                \n",
       "            </tr>\n",
       "            \n",
       "        </tbody>\n",
       "        </table>\n",
       "        "
      ],
      "text/plain": [
       "<pandas.formats.style.Styler at 0x11dc28c10>"
      ]
     },
     "execution_count": 22,
     "metadata": {},
     "output_type": "execute_result"
    }
   ],
   "source": [
    "#check if table exists in abu_table_reg, the registration table. \n",
    "#refid is the id which refers to the paper reference in the refs table which holds all references.\n",
    "get_overview_abundance_tables()"
   ]
  },
  {
   "cell_type": "code",
   "execution_count": 23,
   "metadata": {
    "collapsed": false
   },
   "outputs": [
    {
     "data": {
      "text/html": [
       "\n",
       "        <style  type=\"text/css\" >\n",
       "        \n",
       "        \n",
       "        </style>\n",
       "\n",
       "        <table id=\"T_59d612b5_a3bd_11e7_899d_c869cda175ec\" None>\n",
       "        \n",
       "\n",
       "        <thead>\n",
       "            \n",
       "            <tr>\n",
       "                \n",
       "                \n",
       "                <th class=\"blank level0\" >\n",
       "                  \n",
       "                \n",
       "                \n",
       "                \n",
       "                <th class=\"col_heading level0 col0\" colspan=1>\n",
       "                  refid\n",
       "                \n",
       "                \n",
       "                \n",
       "                <th class=\"col_heading level0 col1\" colspan=1>\n",
       "                  fauthor\n",
       "                \n",
       "                \n",
       "                \n",
       "                <th class=\"col_heading level0 col2\" colspan=1>\n",
       "                  year\n",
       "                \n",
       "                \n",
       "                \n",
       "                <th class=\"col_heading level0 col3\" colspan=1>\n",
       "                  nasads\n",
       "                \n",
       "                \n",
       "            </tr>\n",
       "            \n",
       "        </thead>\n",
       "        <tbody>\n",
       "            \n",
       "            <tr>\n",
       "                \n",
       "                \n",
       "                <th id=\"T_59d612b5_a3bd_11e7_899d_c869cda175ec\"\n",
       "                 class=\"row_heading level0 row0\" rowspan=1>\n",
       "                    0\n",
       "                \n",
       "                \n",
       "                \n",
       "                <td id=\"T_59d612b5_a3bd_11e7_899d_c869cda175ecrow0_col0\"\n",
       "                 class=\"data row0 col0\" >\n",
       "                    1\n",
       "                \n",
       "                \n",
       "                \n",
       "                <td id=\"T_59d612b5_a3bd_11e7_899d_c869cda175ecrow0_col1\"\n",
       "                 class=\"data row0 col1\" >\n",
       "                    Anders\n",
       "                \n",
       "                \n",
       "                \n",
       "                <td id=\"T_59d612b5_a3bd_11e7_899d_c869cda175ecrow0_col2\"\n",
       "                 class=\"data row0 col2\" >\n",
       "                    1989\n",
       "                \n",
       "                \n",
       "                \n",
       "                <td id=\"T_59d612b5_a3bd_11e7_899d_c869cda175ecrow0_col3\"\n",
       "                 class=\"data row0 col3\" >\n",
       "                    <a href=\"http://ukads.nottingham.ac.uk/abs/1993A%26A...271..587G\">http://ukads.nottingham.ac.uk/abs/1993A%26A...271..587G</a>\n",
       "                \n",
       "                \n",
       "            </tr>\n",
       "            \n",
       "            <tr>\n",
       "                \n",
       "                \n",
       "                <th id=\"T_59d612b5_a3bd_11e7_899d_c869cda175ec\"\n",
       "                 class=\"row_heading level0 row1\" rowspan=1>\n",
       "                    1\n",
       "                \n",
       "                \n",
       "                \n",
       "                <td id=\"T_59d612b5_a3bd_11e7_899d_c869cda175ecrow1_col0\"\n",
       "                 class=\"data row1 col0\" >\n",
       "                    2\n",
       "                \n",
       "                \n",
       "                \n",
       "                <td id=\"T_59d612b5_a3bd_11e7_899d_c869cda175ecrow1_col1\"\n",
       "                 class=\"data row1 col1\" >\n",
       "                    Venn\n",
       "                \n",
       "                \n",
       "                \n",
       "                <td id=\"T_59d612b5_a3bd_11e7_899d_c869cda175ecrow1_col2\"\n",
       "                 class=\"data row1 col2\" >\n",
       "                    2012\n",
       "                \n",
       "                \n",
       "                \n",
       "                <td id=\"T_59d612b5_a3bd_11e7_899d_c869cda175ecrow1_col3\"\n",
       "                 class=\"data row1 col3\" >\n",
       "                    <a href=\"http://adsabs.harvard.edu/abs/2012ApJ...751..102V\">http://adsabs.harvard.edu/abs/2012ApJ...751..102V</a>\n",
       "                \n",
       "                \n",
       "            </tr>\n",
       "            \n",
       "        </tbody>\n",
       "        </table>\n",
       "        "
      ],
      "text/plain": [
       "<pandas.formats.style.Styler at 0x119f31150>"
      ]
     },
     "execution_count": 23,
     "metadata": {},
     "output_type": "execute_result"
    }
   ],
   "source": [
    "#lets see the refs table. Indeed the refid of 2 refers to the Venn et al paper.\n",
    "get_paper_refs()"
   ]
  },
  {
   "cell_type": "markdown",
   "metadata": {
    "deletable": true,
    "editable": true
   },
   "source": [
    "#### Example to add a second abundance data table"
   ]
  },
  {
   "cell_type": "code",
   "execution_count": 26,
   "metadata": {
    "collapsed": false
   },
   "outputs": [
    {
     "name": "stdout",
     "output_type": "stream",
     "text": [
      "found corresponding normalization data.\n",
      "abu data paper exists already. do nothing\n",
      "abundance table with same paper reference and solar normalization exists already! Do nothing.\n"
     ]
    }
   ],
   "source": [
    "#add abundance data\n",
    "abundance_paper=['BeersFun',2008,'http://adsabs.harvard.edu/abs/2012ApJ...751..102V','Milky Way']\n",
    "abundance_norm=['Anders','1989']\n",
    "abundance_label=['[Fe/H]','err']\n",
    "abundance_data = [-99,0.8]\n",
    "add_abundance_data(abundance_paper,abundance_norm,abundance_label,abundance_data)"
   ]
  },
  {
   "cell_type": "code",
   "execution_count": 27,
   "metadata": {
    "collapsed": false
   },
   "outputs": [
    {
     "data": {
      "text/html": [
       "<div>\n",
       "<table border=\"1\" class=\"dataframe\">\n",
       "  <thead>\n",
       "    <tr style=\"text-align: right;\">\n",
       "      <th></th>\n",
       "      <th>abuid</th>\n",
       "      <th>Fe/H</th>\n",
       "      <th>err</th>\n",
       "    </tr>\n",
       "  </thead>\n",
       "  <tbody>\n",
       "    <tr>\n",
       "      <th>0</th>\n",
       "      <td>1</td>\n",
       "      <td>-99.0</td>\n",
       "      <td>0.8</td>\n",
       "    </tr>\n",
       "  </tbody>\n",
       "</table>\n",
       "</div>"
      ],
      "text/plain": [
       "   abuid  Fe/H  err\n",
       "0      1 -99.0  0.8"
      ]
     },
     "execution_count": 27,
     "metadata": {},
     "output_type": "execute_result"
    }
   ],
   "source": [
    "#as expected, the new table exists\n",
    "get_abundance_data(abu_paper=abundance_paper)"
   ]
  },
  {
   "cell_type": "code",
   "execution_count": 28,
   "metadata": {
    "collapsed": false
   },
   "outputs": [
    {
     "data": {
      "text/html": [
       "\n",
       "        <style  type=\"text/css\" >\n",
       "        \n",
       "        \n",
       "        </style>\n",
       "\n",
       "        <table id=\"T_75325d61_a3bd_11e7_aaeb_c869cda175ec\" None>\n",
       "        \n",
       "\n",
       "        <thead>\n",
       "            \n",
       "            <tr>\n",
       "                \n",
       "                \n",
       "                <th class=\"blank level0\" >\n",
       "                  \n",
       "                \n",
       "                \n",
       "                \n",
       "                <th class=\"col_heading level0 col0\" colspan=1>\n",
       "                  abu_reg_id\n",
       "                \n",
       "                \n",
       "                \n",
       "                <th class=\"col_heading level0 col1\" colspan=1>\n",
       "                  refid\n",
       "                \n",
       "                \n",
       "                \n",
       "                <th class=\"col_heading level0 col2\" colspan=1>\n",
       "                  normid\n",
       "                \n",
       "                \n",
       "                \n",
       "                <th class=\"col_heading level0 col3\" colspan=1>\n",
       "                  abutable\n",
       "                \n",
       "                \n",
       "                \n",
       "                <th class=\"col_heading level0 col4\" colspan=1>\n",
       "                  fauthor\n",
       "                \n",
       "                \n",
       "                \n",
       "                <th class=\"col_heading level0 col5\" colspan=1>\n",
       "                  year\n",
       "                \n",
       "                \n",
       "                \n",
       "                <th class=\"col_heading level0 col6\" colspan=1>\n",
       "                  nasaads\n",
       "                \n",
       "                \n",
       "            </tr>\n",
       "            \n",
       "        </thead>\n",
       "        <tbody>\n",
       "            \n",
       "            <tr>\n",
       "                \n",
       "                \n",
       "                <th id=\"T_75325d61_a3bd_11e7_aaeb_c869cda175ec\"\n",
       "                 class=\"row_heading level0 row0\" rowspan=1>\n",
       "                    0\n",
       "                \n",
       "                \n",
       "                \n",
       "                <td id=\"T_75325d61_a3bd_11e7_aaeb_c869cda175ecrow0_col0\"\n",
       "                 class=\"data row0 col0\" >\n",
       "                    1\n",
       "                \n",
       "                \n",
       "                \n",
       "                <td id=\"T_75325d61_a3bd_11e7_aaeb_c869cda175ecrow0_col1\"\n",
       "                 class=\"data row0 col1\" >\n",
       "                    2\n",
       "                \n",
       "                \n",
       "                \n",
       "                <td id=\"T_75325d61_a3bd_11e7_aaeb_c869cda175ecrow0_col2\"\n",
       "                 class=\"data row0 col2\" >\n",
       "                    1\n",
       "                \n",
       "                \n",
       "                \n",
       "                <td id=\"T_75325d61_a3bd_11e7_aaeb_c869cda175ecrow0_col3\"\n",
       "                 class=\"data row0 col3\" >\n",
       "                    abu_table_1\n",
       "                \n",
       "                \n",
       "                \n",
       "                <td id=\"T_75325d61_a3bd_11e7_aaeb_c869cda175ecrow0_col4\"\n",
       "                 class=\"data row0 col4\" >\n",
       "                    Venn\n",
       "                \n",
       "                \n",
       "                \n",
       "                <td id=\"T_75325d61_a3bd_11e7_aaeb_c869cda175ecrow0_col5\"\n",
       "                 class=\"data row0 col5\" >\n",
       "                    2012\n",
       "                \n",
       "                \n",
       "                \n",
       "                <td id=\"T_75325d61_a3bd_11e7_aaeb_c869cda175ecrow0_col6\"\n",
       "                 class=\"data row0 col6\" >\n",
       "                    <a href=\"http://adsabs.harvard.edu/abs/2012ApJ...751..102V\">http://adsabs.harvard.edu/abs/2012ApJ...751..102V</a>\n",
       "                \n",
       "                \n",
       "            </tr>\n",
       "            \n",
       "            <tr>\n",
       "                \n",
       "                \n",
       "                <th id=\"T_75325d61_a3bd_11e7_aaeb_c869cda175ec\"\n",
       "                 class=\"row_heading level0 row1\" rowspan=1>\n",
       "                    1\n",
       "                \n",
       "                \n",
       "                \n",
       "                <td id=\"T_75325d61_a3bd_11e7_aaeb_c869cda175ecrow1_col0\"\n",
       "                 class=\"data row1 col0\" >\n",
       "                    2\n",
       "                \n",
       "                \n",
       "                \n",
       "                <td id=\"T_75325d61_a3bd_11e7_aaeb_c869cda175ecrow1_col1\"\n",
       "                 class=\"data row1 col1\" >\n",
       "                    3\n",
       "                \n",
       "                \n",
       "                \n",
       "                <td id=\"T_75325d61_a3bd_11e7_aaeb_c869cda175ecrow1_col2\"\n",
       "                 class=\"data row1 col2\" >\n",
       "                    1\n",
       "                \n",
       "                \n",
       "                \n",
       "                <td id=\"T_75325d61_a3bd_11e7_aaeb_c869cda175ecrow1_col3\"\n",
       "                 class=\"data row1 col3\" >\n",
       "                    abu_table_2\n",
       "                \n",
       "                \n",
       "                \n",
       "                <td id=\"T_75325d61_a3bd_11e7_aaeb_c869cda175ecrow1_col4\"\n",
       "                 class=\"data row1 col4\" >\n",
       "                    BeersFun\n",
       "                \n",
       "                \n",
       "                \n",
       "                <td id=\"T_75325d61_a3bd_11e7_aaeb_c869cda175ecrow1_col5\"\n",
       "                 class=\"data row1 col5\" >\n",
       "                    2008\n",
       "                \n",
       "                \n",
       "                \n",
       "                <td id=\"T_75325d61_a3bd_11e7_aaeb_c869cda175ecrow1_col6\"\n",
       "                 class=\"data row1 col6\" >\n",
       "                    <a href=\"http://adsabs.harvard.edu/abs/2012ApJ...751..102V\">http://adsabs.harvard.edu/abs/2012ApJ...751..102V</a>\n",
       "                \n",
       "                \n",
       "            </tr>\n",
       "            \n",
       "        </tbody>\n",
       "        </table>\n",
       "        "
      ],
      "text/plain": [
       "<pandas.formats.style.Styler at 0x11dc28950>"
      ]
     },
     "execution_count": 28,
     "metadata": {},
     "output_type": "execute_result"
    }
   ],
   "source": [
    "#check if table exists in abu_table_reg, the registration table. Yes, it exists as the second entry.\n",
    "get_overview_abundance_tables()"
   ]
  },
  {
   "cell_type": "code",
   "execution_count": null,
   "metadata": {
    "collapsed": true
   },
   "outputs": [],
   "source": []
  },
  {
   "cell_type": "markdown",
   "metadata": {
    "deletable": true,
    "editable": true
   },
   "source": [
    "### Add galaxies"
   ]
  },
  {
   "cell_type": "code",
   "execution_count": null,
   "metadata": {
    "collapsed": true,
    "deletable": true,
    "editable": true
   },
   "outputs": [],
   "source": [
    "#create table\n",
    "db=sqlite3.connect('stellab.db')\n",
    "curser=db.cursor()\n",
    "curser.execute('''CREATE TABLE IF NOT EXISTS galaxies (galid integer primary key autoincrement, name text)''')"
   ]
  },
  {
   "cell_type": "code",
   "execution_count": 15,
   "metadata": {
    "collapsed": true,
    "deletable": true,
    "editable": true
   },
   "outputs": [],
   "source": [
    "#add data\n",
    "#db.commit()"
   ]
  },
  {
   "cell_type": "code",
   "execution_count": null,
   "metadata": {
    "collapsed": true,
    "deletable": true,
    "editable": true
   },
   "outputs": [],
   "source": [
    "#add data\n",
    "curser.execute('''CREATE TABLE IF NOT EXISTS solarnorms (normid integer primary key autoincrement, H float, He float, refid integer)''')\n"
   ]
  }
 ],
 "metadata": {
  "kernelspec": {
   "display_name": "Python 2",
   "language": "python",
   "name": "python2"
  },
  "language_info": {
   "codemirror_mode": {
    "name": "ipython",
    "version": 2
   },
   "file_extension": ".py",
   "mimetype": "text/x-python",
   "name": "python",
   "nbconvert_exporter": "python",
   "pygments_lexer": "ipython2",
   "version": "2.7.13"
  }
 },
 "nbformat": 4,
 "nbformat_minor": 2
}
