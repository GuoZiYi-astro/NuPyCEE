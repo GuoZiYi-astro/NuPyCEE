{
 "cells": [
  {
   "cell_type": "markdown",
   "metadata": {},
   "source": [
    "# STELLAB test notebook"
   ]
  },
  {
   "cell_type": "markdown",
   "metadata": {},
   "source": [
    "The STELLAB module (which is a contraction for Stellar Abundances) enables to plot observational data for comparison with galactic chemical evolution (GCE) predictions.  The abundance ratios are presented in the following spectroscopic notation :"
   ]
  },
  {
   "cell_type": "markdown",
   "metadata": {},
   "source": [
    "$$[A/B]=\\log(n_A/n_B)-\\log(n_A/n_B)_\\odot.$$"
   ]
  },
  {
   "cell_type": "markdown",
   "metadata": {},
   "source": [
    "The following sections describe how to use the code."
   ]
  },
  {
   "cell_type": "code",
   "execution_count": 1,
   "metadata": {
    "collapsed": false
   },
   "outputs": [],
   "source": [
    "# Import the needed packages\n",
    "import matplotlib\n",
    "import matplotlib.pyplot as plt"
   ]
  },
  {
   "cell_type": "code",
   "execution_count": 2,
   "metadata": {
    "collapsed": false
   },
   "outputs": [
    {
     "data": {
      "text/plain": [
       "<module 'stellab' from '/Volumes/ExtDrive64/NuGrid/NuPyCEE/stellab.pyc'>"
      ]
     },
     "execution_count": 2,
     "metadata": {},
     "output_type": "execute_result"
    }
   ],
   "source": [
    "# Import the observational data module\n",
    "import stellab\n",
    "reload(stellab)"
   ]
  },
  {
   "cell_type": "code",
   "execution_count": 3,
   "metadata": {
    "collapsed": false
   },
   "outputs": [],
   "source": [
    "import sys\n",
    "# Trigger interactive or non-interactive depending on command line argument\n",
    "__RUNIPY__ = sys.argv[0]\n",
    "\n",
    "if __RUNIPY__:\n",
    "    %matplotlib inline\n",
    "else:\n",
    "    %pylab nbagg"
   ]
  },
  {
   "cell_type": "markdown",
   "metadata": {},
   "source": [
    "## Simple Plot"
   ]
  },
  {
   "cell_type": "markdown",
   "metadata": {},
   "source": [
    "In order to plot observed stellar abundances, you just need to enter the wanted ratios with the *xaxis* and *yaxis* parameters.  Stellab has been coded in a way that any abundance ratio can be plotted (see Appendix A below), as long as the considered data sets contain the elements.  In this example, we consider the Milky Way."
   ]
  },
  {
   "cell_type": "code",
   "execution_count": 4,
   "metadata": {
    "collapsed": false
   },
   "outputs": [],
   "source": [
    "# Create an instance of Stellab\n",
    "s = stellab.stellab()"
   ]
  },
  {
   "cell_type": "code",
   "execution_count": 5,
   "metadata": {
    "collapsed": false,
    "scrolled": false
   },
   "outputs": [
    {
     "data": {
      "application/javascript": [
       "/* Put everything inside the global mpl namespace */\n",
       "window.mpl = {};\n",
       "\n",
       "mpl.get_websocket_type = function() {\n",
       "    if (typeof(WebSocket) !== 'undefined') {\n",
       "        return WebSocket;\n",
       "    } else if (typeof(MozWebSocket) !== 'undefined') {\n",
       "        return MozWebSocket;\n",
       "    } else {\n",
       "        alert('Your browser does not have WebSocket support.' +\n",
       "              'Please try Chrome, Safari or Firefox ≥ 6. ' +\n",
       "              'Firefox 4 and 5 are also supported but you ' +\n",
       "              'have to enable WebSockets in about:config.');\n",
       "    };\n",
       "}\n",
       "\n",
       "mpl.figure = function(figure_id, websocket, ondownload, parent_element) {\n",
       "    this.id = figure_id;\n",
       "\n",
       "    this.ws = websocket;\n",
       "\n",
       "    this.supports_binary = (this.ws.binaryType != undefined);\n",
       "\n",
       "    if (!this.supports_binary) {\n",
       "        var warnings = document.getElementById(\"mpl-warnings\");\n",
       "        if (warnings) {\n",
       "            warnings.style.display = 'block';\n",
       "            warnings.textContent = (\n",
       "                \"This browser does not support binary websocket messages. \" +\n",
       "                    \"Performance may be slow.\");\n",
       "        }\n",
       "    }\n",
       "\n",
       "    this.imageObj = new Image();\n",
       "\n",
       "    this.context = undefined;\n",
       "    this.message = undefined;\n",
       "    this.canvas = undefined;\n",
       "    this.rubberband_canvas = undefined;\n",
       "    this.rubberband_context = undefined;\n",
       "    this.format_dropdown = undefined;\n",
       "\n",
       "    this.image_mode = 'full';\n",
       "\n",
       "    this.root = $('<div/>');\n",
       "    this._root_extra_style(this.root)\n",
       "    this.root.attr('style', 'display: inline-block');\n",
       "\n",
       "    $(parent_element).append(this.root);\n",
       "\n",
       "    this._init_header(this);\n",
       "    this._init_canvas(this);\n",
       "    this._init_toolbar(this);\n",
       "\n",
       "    var fig = this;\n",
       "\n",
       "    this.waiting = false;\n",
       "\n",
       "    this.ws.onopen =  function () {\n",
       "            fig.send_message(\"supports_binary\", {value: fig.supports_binary});\n",
       "            fig.send_message(\"send_image_mode\", {});\n",
       "            fig.send_message(\"refresh\", {});\n",
       "        }\n",
       "\n",
       "    this.imageObj.onload = function() {\n",
       "            if (fig.image_mode == 'full') {\n",
       "                // Full images could contain transparency (where diff images\n",
       "                // almost always do), so we need to clear the canvas so that\n",
       "                // there is no ghosting.\n",
       "                fig.context.clearRect(0, 0, fig.canvas.width, fig.canvas.height);\n",
       "            }\n",
       "            fig.context.drawImage(fig.imageObj, 0, 0);\n",
       "        };\n",
       "\n",
       "    this.imageObj.onunload = function() {\n",
       "        this.ws.close();\n",
       "    }\n",
       "\n",
       "    this.ws.onmessage = this._make_on_message_function(this);\n",
       "\n",
       "    this.ondownload = ondownload;\n",
       "}\n",
       "\n",
       "mpl.figure.prototype._init_header = function() {\n",
       "    var titlebar = $(\n",
       "        '<div class=\"ui-dialog-titlebar ui-widget-header ui-corner-all ' +\n",
       "        'ui-helper-clearfix\"/>');\n",
       "    var titletext = $(\n",
       "        '<div class=\"ui-dialog-title\" style=\"width: 100%; ' +\n",
       "        'text-align: center; padding: 3px;\"/>');\n",
       "    titlebar.append(titletext)\n",
       "    this.root.append(titlebar);\n",
       "    this.header = titletext[0];\n",
       "}\n",
       "\n",
       "\n",
       "\n",
       "mpl.figure.prototype._canvas_extra_style = function(canvas_div) {\n",
       "\n",
       "}\n",
       "\n",
       "\n",
       "mpl.figure.prototype._root_extra_style = function(canvas_div) {\n",
       "\n",
       "}\n",
       "\n",
       "mpl.figure.prototype._init_canvas = function() {\n",
       "    var fig = this;\n",
       "\n",
       "    var canvas_div = $('<div/>');\n",
       "\n",
       "    canvas_div.attr('style', 'position: relative; clear: both; outline: 0');\n",
       "\n",
       "    function canvas_keyboard_event(event) {\n",
       "        return fig.key_event(event, event['data']);\n",
       "    }\n",
       "\n",
       "    canvas_div.keydown('key_press', canvas_keyboard_event);\n",
       "    canvas_div.keyup('key_release', canvas_keyboard_event);\n",
       "    this.canvas_div = canvas_div\n",
       "    this._canvas_extra_style(canvas_div)\n",
       "    this.root.append(canvas_div);\n",
       "\n",
       "    var canvas = $('<canvas/>');\n",
       "    canvas.addClass('mpl-canvas');\n",
       "    canvas.attr('style', \"left: 0; top: 0; z-index: 0; outline: 0\")\n",
       "\n",
       "    this.canvas = canvas[0];\n",
       "    this.context = canvas[0].getContext(\"2d\");\n",
       "\n",
       "    var rubberband = $('<canvas/>');\n",
       "    rubberband.attr('style', \"position: absolute; left: 0; top: 0; z-index: 1;\")\n",
       "\n",
       "    var pass_mouse_events = true;\n",
       "\n",
       "    canvas_div.resizable({\n",
       "        start: function(event, ui) {\n",
       "            pass_mouse_events = false;\n",
       "        },\n",
       "        resize: function(event, ui) {\n",
       "            fig.request_resize(ui.size.width, ui.size.height);\n",
       "        },\n",
       "        stop: function(event, ui) {\n",
       "            pass_mouse_events = true;\n",
       "            fig.request_resize(ui.size.width, ui.size.height);\n",
       "        },\n",
       "    });\n",
       "\n",
       "    function mouse_event_fn(event) {\n",
       "        if (pass_mouse_events)\n",
       "            return fig.mouse_event(event, event['data']);\n",
       "    }\n",
       "\n",
       "    rubberband.mousedown('button_press', mouse_event_fn);\n",
       "    rubberband.mouseup('button_release', mouse_event_fn);\n",
       "    // Throttle sequential mouse events to 1 every 20ms.\n",
       "    rubberband.mousemove('motion_notify', mouse_event_fn);\n",
       "\n",
       "    rubberband.mouseenter('figure_enter', mouse_event_fn);\n",
       "    rubberband.mouseleave('figure_leave', mouse_event_fn);\n",
       "\n",
       "    canvas_div.on(\"wheel\", function (event) {\n",
       "        event = event.originalEvent;\n",
       "        event['data'] = 'scroll'\n",
       "        if (event.deltaY < 0) {\n",
       "            event.step = 1;\n",
       "        } else {\n",
       "            event.step = -1;\n",
       "        }\n",
       "        mouse_event_fn(event);\n",
       "    });\n",
       "\n",
       "    canvas_div.append(canvas);\n",
       "    canvas_div.append(rubberband);\n",
       "\n",
       "    this.rubberband = rubberband;\n",
       "    this.rubberband_canvas = rubberband[0];\n",
       "    this.rubberband_context = rubberband[0].getContext(\"2d\");\n",
       "    this.rubberband_context.strokeStyle = \"#000000\";\n",
       "\n",
       "    this._resize_canvas = function(width, height) {\n",
       "        // Keep the size of the canvas, canvas container, and rubber band\n",
       "        // canvas in synch.\n",
       "        canvas_div.css('width', width)\n",
       "        canvas_div.css('height', height)\n",
       "\n",
       "        canvas.attr('width', width);\n",
       "        canvas.attr('height', height);\n",
       "\n",
       "        rubberband.attr('width', width);\n",
       "        rubberband.attr('height', height);\n",
       "    }\n",
       "\n",
       "    // Set the figure to an initial 600x600px, this will subsequently be updated\n",
       "    // upon first draw.\n",
       "    this._resize_canvas(600, 600);\n",
       "\n",
       "    // Disable right mouse context menu.\n",
       "    $(this.rubberband_canvas).bind(\"contextmenu\",function(e){\n",
       "        return false;\n",
       "    });\n",
       "\n",
       "    function set_focus () {\n",
       "        canvas.focus();\n",
       "        canvas_div.focus();\n",
       "    }\n",
       "\n",
       "    window.setTimeout(set_focus, 100);\n",
       "}\n",
       "\n",
       "mpl.figure.prototype._init_toolbar = function() {\n",
       "    var fig = this;\n",
       "\n",
       "    var nav_element = $('<div/>')\n",
       "    nav_element.attr('style', 'width: 100%');\n",
       "    this.root.append(nav_element);\n",
       "\n",
       "    // Define a callback function for later on.\n",
       "    function toolbar_event(event) {\n",
       "        return fig.toolbar_button_onclick(event['data']);\n",
       "    }\n",
       "    function toolbar_mouse_event(event) {\n",
       "        return fig.toolbar_button_onmouseover(event['data']);\n",
       "    }\n",
       "\n",
       "    for(var toolbar_ind in mpl.toolbar_items) {\n",
       "        var name = mpl.toolbar_items[toolbar_ind][0];\n",
       "        var tooltip = mpl.toolbar_items[toolbar_ind][1];\n",
       "        var image = mpl.toolbar_items[toolbar_ind][2];\n",
       "        var method_name = mpl.toolbar_items[toolbar_ind][3];\n",
       "\n",
       "        if (!name) {\n",
       "            // put a spacer in here.\n",
       "            continue;\n",
       "        }\n",
       "        var button = $('<button/>');\n",
       "        button.addClass('ui-button ui-widget ui-state-default ui-corner-all ' +\n",
       "                        'ui-button-icon-only');\n",
       "        button.attr('role', 'button');\n",
       "        button.attr('aria-disabled', 'false');\n",
       "        button.click(method_name, toolbar_event);\n",
       "        button.mouseover(tooltip, toolbar_mouse_event);\n",
       "\n",
       "        var icon_img = $('<span/>');\n",
       "        icon_img.addClass('ui-button-icon-primary ui-icon');\n",
       "        icon_img.addClass(image);\n",
       "        icon_img.addClass('ui-corner-all');\n",
       "\n",
       "        var tooltip_span = $('<span/>');\n",
       "        tooltip_span.addClass('ui-button-text');\n",
       "        tooltip_span.html(tooltip);\n",
       "\n",
       "        button.append(icon_img);\n",
       "        button.append(tooltip_span);\n",
       "\n",
       "        nav_element.append(button);\n",
       "    }\n",
       "\n",
       "    var fmt_picker_span = $('<span/>');\n",
       "\n",
       "    var fmt_picker = $('<select/>');\n",
       "    fmt_picker.addClass('mpl-toolbar-option ui-widget ui-widget-content');\n",
       "    fmt_picker_span.append(fmt_picker);\n",
       "    nav_element.append(fmt_picker_span);\n",
       "    this.format_dropdown = fmt_picker[0];\n",
       "\n",
       "    for (var ind in mpl.extensions) {\n",
       "        var fmt = mpl.extensions[ind];\n",
       "        var option = $(\n",
       "            '<option/>', {selected: fmt === mpl.default_extension}).html(fmt);\n",
       "        fmt_picker.append(option)\n",
       "    }\n",
       "\n",
       "    // Add hover states to the ui-buttons\n",
       "    $( \".ui-button\" ).hover(\n",
       "        function() { $(this).addClass(\"ui-state-hover\");},\n",
       "        function() { $(this).removeClass(\"ui-state-hover\");}\n",
       "    );\n",
       "\n",
       "    var status_bar = $('<span class=\"mpl-message\"/>');\n",
       "    nav_element.append(status_bar);\n",
       "    this.message = status_bar[0];\n",
       "}\n",
       "\n",
       "mpl.figure.prototype.request_resize = function(x_pixels, y_pixels) {\n",
       "    // Request matplotlib to resize the figure. Matplotlib will then trigger a resize in the client,\n",
       "    // which will in turn request a refresh of the image.\n",
       "    this.send_message('resize', {'width': x_pixels, 'height': y_pixels});\n",
       "}\n",
       "\n",
       "mpl.figure.prototype.send_message = function(type, properties) {\n",
       "    properties['type'] = type;\n",
       "    properties['figure_id'] = this.id;\n",
       "    this.ws.send(JSON.stringify(properties));\n",
       "}\n",
       "\n",
       "mpl.figure.prototype.send_draw_message = function() {\n",
       "    if (!this.waiting) {\n",
       "        this.waiting = true;\n",
       "        this.ws.send(JSON.stringify({type: \"draw\", figure_id: this.id}));\n",
       "    }\n",
       "}\n",
       "\n",
       "\n",
       "mpl.figure.prototype.handle_save = function(fig, msg) {\n",
       "    var format_dropdown = fig.format_dropdown;\n",
       "    var format = format_dropdown.options[format_dropdown.selectedIndex].value;\n",
       "    fig.ondownload(fig, format);\n",
       "}\n",
       "\n",
       "\n",
       "mpl.figure.prototype.handle_resize = function(fig, msg) {\n",
       "    var size = msg['size'];\n",
       "    if (size[0] != fig.canvas.width || size[1] != fig.canvas.height) {\n",
       "        fig._resize_canvas(size[0], size[1]);\n",
       "        fig.send_message(\"refresh\", {});\n",
       "    };\n",
       "}\n",
       "\n",
       "mpl.figure.prototype.handle_rubberband = function(fig, msg) {\n",
       "    var x0 = msg['x0'];\n",
       "    var y0 = fig.canvas.height - msg['y0'];\n",
       "    var x1 = msg['x1'];\n",
       "    var y1 = fig.canvas.height - msg['y1'];\n",
       "    x0 = Math.floor(x0) + 0.5;\n",
       "    y0 = Math.floor(y0) + 0.5;\n",
       "    x1 = Math.floor(x1) + 0.5;\n",
       "    y1 = Math.floor(y1) + 0.5;\n",
       "    var min_x = Math.min(x0, x1);\n",
       "    var min_y = Math.min(y0, y1);\n",
       "    var width = Math.abs(x1 - x0);\n",
       "    var height = Math.abs(y1 - y0);\n",
       "\n",
       "    fig.rubberband_context.clearRect(\n",
       "        0, 0, fig.canvas.width, fig.canvas.height);\n",
       "\n",
       "    fig.rubberband_context.strokeRect(min_x, min_y, width, height);\n",
       "}\n",
       "\n",
       "mpl.figure.prototype.handle_figure_label = function(fig, msg) {\n",
       "    // Updates the figure title.\n",
       "    fig.header.textContent = msg['label'];\n",
       "}\n",
       "\n",
       "mpl.figure.prototype.handle_cursor = function(fig, msg) {\n",
       "    var cursor = msg['cursor'];\n",
       "    switch(cursor)\n",
       "    {\n",
       "    case 0:\n",
       "        cursor = 'pointer';\n",
       "        break;\n",
       "    case 1:\n",
       "        cursor = 'default';\n",
       "        break;\n",
       "    case 2:\n",
       "        cursor = 'crosshair';\n",
       "        break;\n",
       "    case 3:\n",
       "        cursor = 'move';\n",
       "        break;\n",
       "    }\n",
       "    fig.rubberband_canvas.style.cursor = cursor;\n",
       "}\n",
       "\n",
       "mpl.figure.prototype.handle_message = function(fig, msg) {\n",
       "    fig.message.textContent = msg['message'];\n",
       "}\n",
       "\n",
       "mpl.figure.prototype.handle_draw = function(fig, msg) {\n",
       "    // Request the server to send over a new figure.\n",
       "    fig.send_draw_message();\n",
       "}\n",
       "\n",
       "mpl.figure.prototype.handle_image_mode = function(fig, msg) {\n",
       "    fig.image_mode = msg['mode'];\n",
       "}\n",
       "\n",
       "mpl.figure.prototype.updated_canvas_event = function() {\n",
       "    // Called whenever the canvas gets updated.\n",
       "    this.send_message(\"ack\", {});\n",
       "}\n",
       "\n",
       "// A function to construct a web socket function for onmessage handling.\n",
       "// Called in the figure constructor.\n",
       "mpl.figure.prototype._make_on_message_function = function(fig) {\n",
       "    return function socket_on_message(evt) {\n",
       "        if (evt.data instanceof Blob) {\n",
       "            /* FIXME: We get \"Resource interpreted as Image but\n",
       "             * transferred with MIME type text/plain:\" errors on\n",
       "             * Chrome.  But how to set the MIME type?  It doesn't seem\n",
       "             * to be part of the websocket stream */\n",
       "            evt.data.type = \"image/png\";\n",
       "\n",
       "            /* Free the memory for the previous frames */\n",
       "            if (fig.imageObj.src) {\n",
       "                (window.URL || window.webkitURL).revokeObjectURL(\n",
       "                    fig.imageObj.src);\n",
       "            }\n",
       "\n",
       "            fig.imageObj.src = (window.URL || window.webkitURL).createObjectURL(\n",
       "                evt.data);\n",
       "            fig.updated_canvas_event();\n",
       "            fig.waiting = false;\n",
       "            return;\n",
       "        }\n",
       "        else if (typeof evt.data === 'string' && evt.data.slice(0, 21) == \"data:image/png;base64\") {\n",
       "            fig.imageObj.src = evt.data;\n",
       "            fig.updated_canvas_event();\n",
       "            fig.waiting = false;\n",
       "            return;\n",
       "        }\n",
       "\n",
       "        var msg = JSON.parse(evt.data);\n",
       "        var msg_type = msg['type'];\n",
       "\n",
       "        // Call the  \"handle_{type}\" callback, which takes\n",
       "        // the figure and JSON message as its only arguments.\n",
       "        try {\n",
       "            var callback = fig[\"handle_\" + msg_type];\n",
       "        } catch (e) {\n",
       "            console.log(\"No handler for the '\" + msg_type + \"' message type: \", msg);\n",
       "            return;\n",
       "        }\n",
       "\n",
       "        if (callback) {\n",
       "            try {\n",
       "                // console.log(\"Handling '\" + msg_type + \"' message: \", msg);\n",
       "                callback(fig, msg);\n",
       "            } catch (e) {\n",
       "                console.log(\"Exception inside the 'handler_\" + msg_type + \"' callback:\", e, e.stack, msg);\n",
       "            }\n",
       "        }\n",
       "    };\n",
       "}\n",
       "\n",
       "// from http://stackoverflow.com/questions/1114465/getting-mouse-location-in-canvas\n",
       "mpl.findpos = function(e) {\n",
       "    //this section is from http://www.quirksmode.org/js/events_properties.html\n",
       "    var targ;\n",
       "    if (!e)\n",
       "        e = window.event;\n",
       "    if (e.target)\n",
       "        targ = e.target;\n",
       "    else if (e.srcElement)\n",
       "        targ = e.srcElement;\n",
       "    if (targ.nodeType == 3) // defeat Safari bug\n",
       "        targ = targ.parentNode;\n",
       "\n",
       "    // jQuery normalizes the pageX and pageY\n",
       "    // pageX,Y are the mouse positions relative to the document\n",
       "    // offset() returns the position of the element relative to the document\n",
       "    var x = e.pageX - $(targ).offset().left;\n",
       "    var y = e.pageY - $(targ).offset().top;\n",
       "\n",
       "    return {\"x\": x, \"y\": y};\n",
       "};\n",
       "\n",
       "/*\n",
       " * return a copy of an object with only non-object keys\n",
       " * we need this to avoid circular references\n",
       " * http://stackoverflow.com/a/24161582/3208463\n",
       " */\n",
       "function simpleKeys (original) {\n",
       "  return Object.keys(original).reduce(function (obj, key) {\n",
       "    if (typeof original[key] !== 'object')\n",
       "        obj[key] = original[key]\n",
       "    return obj;\n",
       "  }, {});\n",
       "}\n",
       "\n",
       "mpl.figure.prototype.mouse_event = function(event, name) {\n",
       "    var canvas_pos = mpl.findpos(event)\n",
       "\n",
       "    if (name === 'button_press')\n",
       "    {\n",
       "        this.canvas.focus();\n",
       "        this.canvas_div.focus();\n",
       "    }\n",
       "\n",
       "    var x = canvas_pos.x;\n",
       "    var y = canvas_pos.y;\n",
       "\n",
       "    this.send_message(name, {x: x, y: y, button: event.button,\n",
       "                             step: event.step,\n",
       "                             guiEvent: simpleKeys(event)});\n",
       "\n",
       "    /* This prevents the web browser from automatically changing to\n",
       "     * the text insertion cursor when the button is pressed.  We want\n",
       "     * to control all of the cursor setting manually through the\n",
       "     * 'cursor' event from matplotlib */\n",
       "    event.preventDefault();\n",
       "    return false;\n",
       "}\n",
       "\n",
       "mpl.figure.prototype._key_event_extra = function(event, name) {\n",
       "    // Handle any extra behaviour associated with a key event\n",
       "}\n",
       "\n",
       "mpl.figure.prototype.key_event = function(event, name) {\n",
       "\n",
       "    // Prevent repeat events\n",
       "    if (name == 'key_press')\n",
       "    {\n",
       "        if (event.which === this._key)\n",
       "            return;\n",
       "        else\n",
       "            this._key = event.which;\n",
       "    }\n",
       "    if (name == 'key_release')\n",
       "        this._key = null;\n",
       "\n",
       "    var value = '';\n",
       "    if (event.ctrlKey && event.which != 17)\n",
       "        value += \"ctrl+\";\n",
       "    if (event.altKey && event.which != 18)\n",
       "        value += \"alt+\";\n",
       "    if (event.shiftKey && event.which != 16)\n",
       "        value += \"shift+\";\n",
       "\n",
       "    value += 'k';\n",
       "    value += event.which.toString();\n",
       "\n",
       "    this._key_event_extra(event, name);\n",
       "\n",
       "    this.send_message(name, {key: value,\n",
       "                             guiEvent: simpleKeys(event)});\n",
       "    return false;\n",
       "}\n",
       "\n",
       "mpl.figure.prototype.toolbar_button_onclick = function(name) {\n",
       "    if (name == 'download') {\n",
       "        this.handle_save(this, null);\n",
       "    } else {\n",
       "        this.send_message(\"toolbar_button\", {name: name});\n",
       "    }\n",
       "};\n",
       "\n",
       "mpl.figure.prototype.toolbar_button_onmouseover = function(tooltip) {\n",
       "    this.message.textContent = tooltip;\n",
       "};\n",
       "mpl.toolbar_items = [[\"Home\", \"Reset original view\", \"fa fa-home icon-home\", \"home\"], [\"Back\", \"Back to  previous view\", \"fa fa-arrow-left icon-arrow-left\", \"back\"], [\"Forward\", \"Forward to next view\", \"fa fa-arrow-right icon-arrow-right\", \"forward\"], [\"\", \"\", \"\", \"\"], [\"Pan\", \"Pan axes with left mouse, zoom with right\", \"fa fa-arrows icon-move\", \"pan\"], [\"Zoom\", \"Zoom to rectangle\", \"fa fa-square-o icon-check-empty\", \"zoom\"], [\"\", \"\", \"\", \"\"], [\"Download\", \"Download plot\", \"fa fa-floppy-o icon-save\", \"download\"]];\n",
       "\n",
       "mpl.extensions = [\"eps\", \"jpeg\", \"pdf\", \"png\", \"ps\", \"raw\", \"svg\", \"tif\"];\n",
       "\n",
       "mpl.default_extension = \"png\";var comm_websocket_adapter = function(comm) {\n",
       "    // Create a \"websocket\"-like object which calls the given IPython comm\n",
       "    // object with the appropriate methods. Currently this is a non binary\n",
       "    // socket, so there is still some room for performance tuning.\n",
       "    var ws = {};\n",
       "\n",
       "    ws.close = function() {\n",
       "        comm.close()\n",
       "    };\n",
       "    ws.send = function(m) {\n",
       "        //console.log('sending', m);\n",
       "        comm.send(m);\n",
       "    };\n",
       "    // Register the callback with on_msg.\n",
       "    comm.on_msg(function(msg) {\n",
       "        //console.log('receiving', msg['content']['data'], msg);\n",
       "        // Pass the mpl event to the overriden (by mpl) onmessage function.\n",
       "        ws.onmessage(msg['content']['data'])\n",
       "    });\n",
       "    return ws;\n",
       "}\n",
       "\n",
       "mpl.mpl_figure_comm = function(comm, msg) {\n",
       "    // This is the function which gets called when the mpl process\n",
       "    // starts-up an IPython Comm through the \"matplotlib\" channel.\n",
       "\n",
       "    var id = msg.content.data.id;\n",
       "    // Get hold of the div created by the display call when the Comm\n",
       "    // socket was opened in Python.\n",
       "    var element = $(\"#\" + id);\n",
       "    var ws_proxy = comm_websocket_adapter(comm)\n",
       "\n",
       "    function ondownload(figure, format) {\n",
       "        window.open(figure.imageObj.src);\n",
       "    }\n",
       "\n",
       "    var fig = new mpl.figure(id, ws_proxy,\n",
       "                           ondownload,\n",
       "                           element.get(0));\n",
       "\n",
       "    // Call onopen now - mpl needs it, as it is assuming we've passed it a real\n",
       "    // web socket which is closed, not our websocket->open comm proxy.\n",
       "    ws_proxy.onopen();\n",
       "\n",
       "    fig.parent_element = element.get(0);\n",
       "    fig.cell_info = mpl.find_output_cell(\"<div id='\" + id + \"'></div>\");\n",
       "    if (!fig.cell_info) {\n",
       "        console.error(\"Failed to find cell for figure\", id, fig);\n",
       "        return;\n",
       "    }\n",
       "\n",
       "    var output_index = fig.cell_info[2]\n",
       "    var cell = fig.cell_info[0];\n",
       "\n",
       "};\n",
       "\n",
       "mpl.figure.prototype.handle_close = function(fig, msg) {\n",
       "    fig.root.unbind('remove')\n",
       "\n",
       "    // Update the output cell to use the data from the current canvas.\n",
       "    fig.push_to_output();\n",
       "    var dataURL = fig.canvas.toDataURL();\n",
       "    // Re-enable the keyboard manager in IPython - without this line, in FF,\n",
       "    // the notebook keyboard shortcuts fail.\n",
       "    IPython.keyboard_manager.enable()\n",
       "    $(fig.parent_element).html('<img src=\"' + dataURL + '\">');\n",
       "    fig.close_ws(fig, msg);\n",
       "}\n",
       "\n",
       "mpl.figure.prototype.close_ws = function(fig, msg){\n",
       "    fig.send_message('closing', msg);\n",
       "    // fig.ws.close()\n",
       "}\n",
       "\n",
       "mpl.figure.prototype.push_to_output = function(remove_interactive) {\n",
       "    // Turn the data on the canvas into data in the output cell.\n",
       "    var dataURL = this.canvas.toDataURL();\n",
       "    this.cell_info[1]['text/html'] = '<img src=\"' + dataURL + '\">';\n",
       "}\n",
       "\n",
       "mpl.figure.prototype.updated_canvas_event = function() {\n",
       "    // Tell IPython that the notebook contents must change.\n",
       "    IPython.notebook.set_dirty(true);\n",
       "    this.send_message(\"ack\", {});\n",
       "    var fig = this;\n",
       "    // Wait a second, then push the new image to the DOM so\n",
       "    // that it is saved nicely (might be nice to debounce this).\n",
       "    setTimeout(function () { fig.push_to_output() }, 1000);\n",
       "}\n",
       "\n",
       "mpl.figure.prototype._init_toolbar = function() {\n",
       "    var fig = this;\n",
       "\n",
       "    var nav_element = $('<div/>')\n",
       "    nav_element.attr('style', 'width: 100%');\n",
       "    this.root.append(nav_element);\n",
       "\n",
       "    // Define a callback function for later on.\n",
       "    function toolbar_event(event) {\n",
       "        return fig.toolbar_button_onclick(event['data']);\n",
       "    }\n",
       "    function toolbar_mouse_event(event) {\n",
       "        return fig.toolbar_button_onmouseover(event['data']);\n",
       "    }\n",
       "\n",
       "    for(var toolbar_ind in mpl.toolbar_items){\n",
       "        var name = mpl.toolbar_items[toolbar_ind][0];\n",
       "        var tooltip = mpl.toolbar_items[toolbar_ind][1];\n",
       "        var image = mpl.toolbar_items[toolbar_ind][2];\n",
       "        var method_name = mpl.toolbar_items[toolbar_ind][3];\n",
       "\n",
       "        if (!name) { continue; };\n",
       "\n",
       "        var button = $('<button class=\"btn btn-default\" href=\"#\" title=\"' + name + '\"><i class=\"fa ' + image + ' fa-lg\"></i></button>');\n",
       "        button.click(method_name, toolbar_event);\n",
       "        button.mouseover(tooltip, toolbar_mouse_event);\n",
       "        nav_element.append(button);\n",
       "    }\n",
       "\n",
       "    // Add the status bar.\n",
       "    var status_bar = $('<span class=\"mpl-message\" style=\"text-align:right; float: right;\"/>');\n",
       "    nav_element.append(status_bar);\n",
       "    this.message = status_bar[0];\n",
       "\n",
       "    // Add the close button to the window.\n",
       "    var buttongrp = $('<div class=\"btn-group inline pull-right\"></div>');\n",
       "    var button = $('<button class=\"btn btn-mini btn-primary\" href=\"#\" title=\"Stop Interaction\"><i class=\"fa fa-power-off icon-remove icon-large\"></i></button>');\n",
       "    button.click(function (evt) { fig.handle_close(fig, {}); } );\n",
       "    button.mouseover('Stop Interaction', toolbar_mouse_event);\n",
       "    buttongrp.append(button);\n",
       "    var titlebar = this.root.find($('.ui-dialog-titlebar'));\n",
       "    titlebar.prepend(buttongrp);\n",
       "}\n",
       "\n",
       "mpl.figure.prototype._root_extra_style = function(el){\n",
       "    var fig = this\n",
       "    el.on(\"remove\", function(){\n",
       "\tfig.close_ws(fig, {});\n",
       "    });\n",
       "}\n",
       "\n",
       "mpl.figure.prototype._canvas_extra_style = function(el){\n",
       "    // this is important to make the div 'focusable\n",
       "    el.attr('tabindex', 0)\n",
       "    // reach out to IPython and tell the keyboard manager to turn it's self\n",
       "    // off when our div gets focus\n",
       "\n",
       "    // location in version 3\n",
       "    if (IPython.notebook.keyboard_manager) {\n",
       "        IPython.notebook.keyboard_manager.register_events(el);\n",
       "    }\n",
       "    else {\n",
       "        // location in version 2\n",
       "        IPython.keyboard_manager.register_events(el);\n",
       "    }\n",
       "\n",
       "}\n",
       "\n",
       "mpl.figure.prototype._key_event_extra = function(event, name) {\n",
       "    var manager = IPython.notebook.keyboard_manager;\n",
       "    if (!manager)\n",
       "        manager = IPython.keyboard_manager;\n",
       "\n",
       "    // Check for shift+enter\n",
       "    if (event.shiftKey && event.which == 13) {\n",
       "        this.canvas_div.blur();\n",
       "        event.shiftKey = false;\n",
       "        // Send a \"J\" for go to next cell\n",
       "        event.which = 74;\n",
       "        event.keyCode = 74;\n",
       "        manager.command_mode();\n",
       "        manager.handle_keydown(event);\n",
       "    }\n",
       "}\n",
       "\n",
       "mpl.figure.prototype.handle_save = function(fig, msg) {\n",
       "    fig.ondownload(fig, null);\n",
       "}\n",
       "\n",
       "\n",
       "mpl.find_output_cell = function(html_output) {\n",
       "    // Return the cell and output element which can be found *uniquely* in the notebook.\n",
       "    // Note - this is a bit hacky, but it is done because the \"notebook_saving.Notebook\"\n",
       "    // IPython event is triggered only after the cells have been serialised, which for\n",
       "    // our purposes (turning an active figure into a static one), is too late.\n",
       "    var cells = IPython.notebook.get_cells();\n",
       "    var ncells = cells.length;\n",
       "    for (var i=0; i<ncells; i++) {\n",
       "        var cell = cells[i];\n",
       "        if (cell.cell_type === 'code'){\n",
       "            for (var j=0; j<cell.output_area.outputs.length; j++) {\n",
       "                var data = cell.output_area.outputs[j];\n",
       "                if (data.data) {\n",
       "                    // IPython >= 3 moved mimebundle to data attribute of output\n",
       "                    data = data.data;\n",
       "                }\n",
       "                if (data['text/html'] == html_output) {\n",
       "                    return [cell, data, j];\n",
       "                }\n",
       "            }\n",
       "        }\n",
       "    }\n",
       "}\n",
       "\n",
       "// Register the function which deals with the matplotlib target/channel.\n",
       "// The kernel may be null if the page has been refreshed.\n",
       "if (IPython.notebook.kernel != null) {\n",
       "    IPython.notebook.kernel.comm_manager.register_target('matplotlib', mpl.mpl_figure_comm);\n",
       "}\n"
      ],
      "text/plain": [
       "<IPython.core.display.Javascript object>"
      ]
     },
     "metadata": {},
     "output_type": "display_data"
    },
    {
     "data": {
      "text/html": [
       "<img src=\"data:image/png;base64,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\">"
      ],
      "text/plain": [
       "<IPython.core.display.HTML object>"
      ]
     },
     "metadata": {},
     "output_type": "display_data"
    },
    {
     "data": {
      "text/plain": [
       "(-1.6, 1.6)"
      ]
     },
     "execution_count": 5,
     "metadata": {},
     "output_type": "execute_result"
    }
   ],
   "source": [
    "# Plot observational data (you can try all the ratios you want)\n",
    "%matplotlib nbagg\n",
    "s.plot_spectro(xaxis='[Fe/H]', yaxis='[Eu/Fe]')\n",
    "plt.xlim(-4.5,0.75)\n",
    "plt.ylim(-1.6,1.6)"
   ]
  },
  {
   "cell_type": "markdown",
   "metadata": {},
   "source": [
    "## Solar Normalization"
   ]
  },
  {
   "cell_type": "markdown",
   "metadata": {},
   "source": [
    "By default, the solar normalization $\\log(n_A/n_B)_\\odot$ is taken from the reference paper that provide the data set.  But every data point can be re-normalized to any other solar values (see Appendix B), using the *norm* parameter.  This is highly recommended, since the original data points may not have the same solar normalization."
   ]
  },
  {
   "cell_type": "code",
   "execution_count": null,
   "metadata": {
    "collapsed": false
   },
   "outputs": [],
   "source": [
    "# First, you can see the list of the available solar abundances\n",
    "s.list_solar_norm()"
   ]
  },
  {
   "cell_type": "markdown",
   "metadata": {},
   "source": [
    "Here is an example of how the observational data can be re-normalized."
   ]
  },
  {
   "cell_type": "code",
   "execution_count": null,
   "metadata": {
    "collapsed": false
   },
   "outputs": [],
   "source": [
    "# Plot using the default solar normalization of each data set\n",
    "%matplotlib nbagg\n",
    "s.plot_spectro(xaxis='[Fe/H]', yaxis='[Ca/Fe]')\n",
    "plt.xlim(-4.5,0.75)\n",
    "plt.ylim(-1.4,1.6)"
   ]
  },
  {
   "cell_type": "code",
   "execution_count": null,
   "metadata": {
    "collapsed": false
   },
   "outputs": [],
   "source": [
    "# Plot using the same solar normalization for all data sets\n",
    "%matplotlib nbagg\n",
    "s.plot_spectro(xaxis='[Fe/H]', yaxis='[Ca/Fe]',norm='Asplund_et_al_2009')\n",
    "plt.xlim(-4.5,0.75)\n",
    "plt.ylim(-1.4,1.6)"
   ]
  },
  {
   "cell_type": "markdown",
   "metadata": {},
   "source": [
    "#### Important Note\n",
    "\n",
    "In some papers, I had a hard time finding the solar normalization used by the authors.  This means I cannot apply the re-normalization for their data set.  When that happens, I print a warning below the plot and add two asterisk after the reference paper in the legend."
   ]
  },
  {
   "cell_type": "markdown",
   "metadata": {},
   "source": [
    "## Personal Selection"
   ]
  },
  {
   "cell_type": "markdown",
   "metadata": {},
   "source": [
    "You can select a subset of the observational data implemented in Stellab."
   ]
  },
  {
   "cell_type": "code",
   "execution_count": null,
   "metadata": {
    "collapsed": false
   },
   "outputs": [],
   "source": [
    "# First, you can see the list of the available reference papers\n",
    "s.list_ref_papers()"
   ]
  },
  {
   "cell_type": "code",
   "execution_count": null,
   "metadata": {
    "collapsed": false
   },
   "outputs": [],
   "source": [
    "# Create a list of reference papers\n",
    "%matplotlib nbagg\n",
    "obs = ['stellab_data/milky_way_data/Jacobson_et_al_2015_stellab',\\\n",
    "       'stellab_data/milky_way_data/Venn_et_al_2004_stellab',\\\n",
    "       'stellab_data/milky_way_data/Yong_et_al_2013_stellab',\\\n",
    "       'stellab_data/milky_way_data/Bensby_et_al_2014_stellab']\n",
    "\n",
    "# Plot data using your selection of data points\n",
    "s.plot_spectro(xaxis='[Fe/H]', yaxis='[Ca/Fe]', norm='Asplund_et_al_2009', obs=obs)\n",
    "\n",
    "plt.xlim(-4.5,0.7)\n",
    "plt.ylim(-1.4,1.6)"
   ]
  },
  {
   "cell_type": "markdown",
   "metadata": {},
   "source": [
    "## Galaxy Selection"
   ]
  },
  {
   "cell_type": "markdown",
   "metadata": {},
   "source": [
    "The Milky Way (milky_way) is the default galaxy.  But you can select another galaxy among Sculptor, Fornax, and Carina (use lower case letters)."
   ]
  },
  {
   "cell_type": "code",
   "execution_count": null,
   "metadata": {
    "collapsed": false
   },
   "outputs": [],
   "source": [
    "# Plot data using a specific galaxy\n",
    "%matplotlib nbagg\n",
    "s.plot_spectro(xaxis='[Fe/H]', yaxis='[Si/Fe]',norm='Asplund_et_al_2009', galaxy='fornax')\n",
    "plt.xlim(-4.5,0.75)\n",
    "plt.ylim(-1.4,1.4)"
   ]
  },
  {
   "cell_type": "markdown",
   "metadata": {},
   "source": [
    "## Plot Error Bars"
   ]
  },
  {
   "cell_type": "markdown",
   "metadata": {},
   "source": [
    "It is possible to plot error bars with the **show_err** parameter, and print the mean errors with the **show_mean_err** parameter."
   ]
  },
  {
   "cell_type": "code",
   "execution_count": null,
   "metadata": {
    "collapsed": false
   },
   "outputs": [],
   "source": [
    "# Plot error bars for a specific galaxy\n",
    "%matplotlib nbagg\n",
    "s.plot_spectro(xaxis='[Fe/H]',yaxis='[Ti/Fe]',\\\n",
    "       norm='Asplund_et_al_2009', galaxy='sculptor', show_err=True, show_mean_err=True)\n",
    "plt.xlim(-4.5,0.75)\n",
    "plt.ylim(-1.4,1.4)"
   ]
  },
  {
   "cell_type": "markdown",
   "metadata": {},
   "source": [
    "# Appendix A - Abundance Ratios"
   ]
  },
  {
   "cell_type": "markdown",
   "metadata": {},
   "source": [
    "Let's consider that a data set provides stellar abundances in the form of [X/Y], where Y is the reference element (often H or Fe) and X represents any element.  It is possible to change the reference element by using simple substractions and additions."
   ]
  },
  {
   "cell_type": "markdown",
   "metadata": {},
   "source": [
    "### Substraction"
   ]
  },
  {
   "cell_type": "markdown",
   "metadata": {},
   "source": [
    "Let's say we want [Ca/Mg] from [Ca/Fe] and [Mg/Fe]."
   ]
  },
  {
   "cell_type": "markdown",
   "metadata": {},
   "source": [
    "$$[\\mathrm{Ca}/\\mathrm{Mg}]=\\log(n_\\mathrm{Ca}/n_\\mathrm{Mg})-\\log(n_\\mathrm{Ca}/n_\\mathrm{Mg})_\\odot$$"
   ]
  },
  {
   "cell_type": "markdown",
   "metadata": {},
   "source": [
    "$$=\\log\\left(\\frac{n_\\mathrm{Ca}/n_\\mathrm{Fe}}{n_\\mathrm{Mg}/n_\\mathrm{Fe}}\\right)-\\log\\left(\\frac{n_\\mathrm{Ca}/n_\\mathrm{Fe}}{n_\\mathrm{Mg}/n_\\mathrm{Fe}}\\right)_\\odot$$"
   ]
  },
  {
   "cell_type": "markdown",
   "metadata": {},
   "source": [
    "$$=\\log(n_\\mathrm{Ca}/n_\\mathrm{Fe})-\\log(n_\\mathrm{Mg}/n_\\mathrm{Fe})-\\log(n_\\mathrm{Ca}/n_\\mathrm{Fe})_\\odot+\\log(n_\\mathrm{Mg}/n_\\mathrm{Fe})_\\odot$$"
   ]
  },
  {
   "cell_type": "markdown",
   "metadata": {},
   "source": [
    "$$=[\\mathrm{Ca}/\\mathrm{Fe}]-[\\mathrm{Mg}/\\mathrm{Fe}]$$"
   ]
  },
  {
   "cell_type": "markdown",
   "metadata": {},
   "source": [
    "### Addition"
   ]
  },
  {
   "cell_type": "markdown",
   "metadata": {},
   "source": [
    "Let's say we want [Mg/H] from [Fe/H] and [Mg/Fe]."
   ]
  },
  {
   "cell_type": "markdown",
   "metadata": {},
   "source": [
    "$$[\\mathrm{Mg}/\\mathrm{H}]=\\log(n_\\mathrm{Mg}/n_\\mathrm{H})-\\log(n_\\mathrm{Mg}/n_\\mathrm{H})_\\odot$$"
   ]
  },
  {
   "cell_type": "markdown",
   "metadata": {},
   "source": [
    "$$=\\log\\left(\\frac{n_\\mathrm{Mg}/n_\\mathrm{Fe}}{n_\\mathrm{H}/n_\\mathrm{Fe}}\\right)-\\log\\left(\\frac{n_\\mathrm{Mg}/n_\\mathrm{Fe}}{n_\\mathrm{H}/n_\\mathrm{Fe}}\\right)_\\odot$$"
   ]
  },
  {
   "cell_type": "markdown",
   "metadata": {},
   "source": [
    "$$=\\log(n_\\mathrm{Mg}/n_\\mathrm{Fe})-\\log(n_\\mathrm{H}/n_\\mathrm{Fe})-\\log(n_\\mathrm{Mg}/n_\\mathrm{Fe})_\\odot+\\log(n_\\mathrm{H}/n_\\mathrm{Fe})_\\odot$$"
   ]
  },
  {
   "cell_type": "markdown",
   "metadata": {},
   "source": [
    "$$=\\log(n_\\mathrm{Mg}/n_\\mathrm{Fe})+\\log(n_\\mathrm{Fe}/n_\\mathrm{H})-\\log(n_\\mathrm{Mg}/n_\\mathrm{Fe})_\\odot-\\log(n_\\mathrm{Fe}/n_\\mathrm{H})_\\odot$$"
   ]
  },
  {
   "cell_type": "markdown",
   "metadata": {},
   "source": [
    "$$=[\\mathrm{Mg}/\\mathrm{Fe}]+[\\mathrm{Fe}/\\mathrm{H}]$$"
   ]
  },
  {
   "cell_type": "markdown",
   "metadata": {},
   "source": [
    "### Test"
   ]
  },
  {
   "cell_type": "code",
   "execution_count": null,
   "metadata": {
    "collapsed": false
   },
   "outputs": [],
   "source": [
    "# Everything should be on a horizontal line\n",
    "%matplotlib nbagg\n",
    "s.plot_spectro(xaxis='[Mg/H]', yaxis='[Ti/Ti]')\n",
    "plt.xlim(-1,1)\n",
    "plt.ylim(-1,1)"
   ]
  },
  {
   "cell_type": "code",
   "execution_count": null,
   "metadata": {
    "collapsed": false
   },
   "outputs": [],
   "source": [
    "# Everything should be on a vertical line\n",
    "%matplotlib nbagg\n",
    "s.plot_spectro(xaxis='[Mg/Mg]', yaxis='[Ti/Mg]')\n",
    "plt.xlim(-1,1)\n",
    "plt.ylim(-1,1)"
   ]
  },
  {
   "cell_type": "code",
   "execution_count": null,
   "metadata": {
    "collapsed": false
   },
   "outputs": [],
   "source": [
    "# Everything should be at zero\n",
    "%matplotlib nbagg\n",
    "s.plot_spectro(xaxis='[Mg/Mg]', yaxis='[Ti/Ti]')\n",
    "plt.xlim(-1,1)\n",
    "plt.ylim(-1,1)"
   ]
  },
  {
   "cell_type": "markdown",
   "metadata": {},
   "source": [
    "# Appendix B - Solar Re-Normalization"
   ]
  },
  {
   "cell_type": "markdown",
   "metadata": {},
   "source": [
    "Changing the solar normalization is a very straightforward operation."
   ]
  },
  {
   "cell_type": "markdown",
   "metadata": {},
   "source": [
    "$$[\\mathrm{Mg}/\\mathrm{H}]=\\log(n_\\mathrm{Mg}/n_\\mathrm{H})-\\log(n_\\mathrm{Mg}/n_\\mathrm{H})^{\\mathrm{paper}}_\\odot+\\log(n_\\mathrm{Mg}/n_\\mathrm{H})^{\\mathrm{paper}}_\\odot-\\log(n_\\mathrm{Mg}/n_\\mathrm{H})^{\\mathrm{re-norm}}_\\odot$$"
   ]
  },
  {
   "cell_type": "markdown",
   "metadata": {},
   "source": [
    "$$=[\\mathrm{Mg}/\\mathrm{H}]_\\mathrm{paper}+\\log(n_\\mathrm{Mg}/n_\\mathrm{H})^{\\mathrm{paper}}_\\odot-\\log(n_\\mathrm{Mg}/n_\\mathrm{H})^{\\mathrm{re-norm}}_\\odot$$"
   ]
  },
  {
   "cell_type": "markdown",
   "metadata": {},
   "source": [
    "In these two last equations, *paper* refers to the reference paper that provides the data set, and *re-norm* refers to the new solar abundances you want for your re-normalization."
   ]
  }
 ],
 "metadata": {
  "kernelspec": {
   "display_name": "Python 2",
   "language": "python",
   "name": "python2"
  },
  "language_info": {
   "codemirror_mode": {
    "name": "ipython",
    "version": 2
   },
   "file_extension": ".py",
   "mimetype": "text/x-python",
   "name": "python",
   "nbconvert_exporter": "python",
   "pygments_lexer": "ipython2",
   "version": "2.7.11"
  }
 },
 "nbformat": 4,
 "nbformat_minor": 0
}
