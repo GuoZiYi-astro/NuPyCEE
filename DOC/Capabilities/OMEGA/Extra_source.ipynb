{
 "cells": [
  {
   "cell_type": "markdown",
   "metadata": {},
   "source": [
    "# Demonstration of extra source capabilties."
   ]
  },
  {
   "cell_type": "code",
   "execution_count": 1,
   "metadata": {
    "collapsed": false
   },
   "outputs": [
    {
     "name": "stdout",
     "output_type": "stream",
     "text": [
      "/Users/christian/ExtDrive64/NuGrid/NuPyCEE/\n"
     ]
    }
   ],
   "source": [
    "%matplotlib nbagg\n",
    "import matplotlib.pyplot as plt\n",
    "import sys\n",
    "import sygma as s\n",
    "reload(s)\n",
    "import omega as o\n",
    "reload(o)\n",
    "import numpy as np\n",
    "print s.global_path\n",
    "#%matplotlib inline\n",
    "import stellab\n",
    "import read_yields as ry\n",
    "import matplotlib"
   ]
  },
  {
   "cell_type": "markdown",
   "metadata": {
    "collapsed": true
   },
   "source": [
    "### Setup with different f_extra_source factors. For each factor exists a separate list entry in the lists below."
   ]
  },
  {
   "cell_type": "code",
   "execution_count": 2,
   "metadata": {
    "collapsed": true
   },
   "outputs": [],
   "source": [
    "#path to nupycee\n",
    "paper_path=s.global_path\n",
    "# two factors are applied\n",
    "f_extra_source=[1.0,0.5]\n",
    "\n",
    "# yields come from these 2 tables (the same tables)\n",
    "extra_source_table=2*[paper_path+'/yield_tables/extra_source.txt']\n",
    "\n",
    "\n",
    "# in which initial mass range are the factors applied?\n",
    "extra_source_mass_range = [[8,30],[22.5,30]]\n",
    "\n",
    "# at which Z (Z from yield input tables) are the factors NOT applied.\n",
    "extra_source_exclude_Z = [[0.01],[0.0001,0.001,0.006,0.02]] "
   ]
  },
  {
   "cell_type": "code",
   "execution_count": 3,
   "metadata": {
    "collapsed": false
   },
   "outputs": [
    {
     "name": "stdout",
     "output_type": "stream",
     "text": [
      "OMEGA run in progress..\n",
      "   OMEGA run completed - Run time: 7.5s\n"
     ]
    }
   ],
   "source": [
    "# Initial metallicity\n",
    "iniZ = 0.0\n",
    "\n",
    "# 10% of all massive stars at all Z have shell merger yields\n",
    "o_NG_0_1 = o.omega(galaxy='milky_way', \\\n",
    "         special_timesteps=60, exp_ml=1.0, mass_frac_SSP=0.35, nb_1a_per_m=1.5e-3, DM_evolution=True, sfe=0.04,\\\n",
    "           t_sf_z_dep=0.3, mass_loading=1.02, iniZ=iniZ,\n",
    "          extra_source_on=True, extra_source_table=extra_source_table,extra_source_mass_range=extra_source_mass_range,\n",
    "           f_extra_source=f_extra_source,extra_source_exclude_Z=extra_source_exclude_Z)            "
   ]
  },
  {
   "cell_type": "code",
   "execution_count": null,
   "metadata": {
    "collapsed": true
   },
   "outputs": [],
   "source": []
  }
 ],
 "metadata": {
  "kernelspec": {
   "display_name": "Python 2",
   "language": "python",
   "name": "python2"
  },
  "language_info": {
   "codemirror_mode": {
    "name": "ipython",
    "version": 2
   },
   "file_extension": ".py",
   "mimetype": "text/x-python",
   "name": "python",
   "nbconvert_exporter": "python",
   "pygments_lexer": "ipython2",
   "version": "2.7.11"
  }
 },
 "nbformat": 4,
 "nbformat_minor": 0
}
