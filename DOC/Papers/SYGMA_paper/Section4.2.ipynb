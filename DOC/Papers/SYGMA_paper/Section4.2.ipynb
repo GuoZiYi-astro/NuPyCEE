{
 "cells": [
  {
   "cell_type": "markdown",
   "metadata": {
    "deletable": true,
    "editable": true
   },
   "source": [
    "# Figures of section 4.2 of the SYGMA paper"
   ]
  },
  {
   "cell_type": "code",
   "execution_count": 7,
   "metadata": {
    "collapsed": false,
    "deletable": true,
    "editable": true
   },
   "outputs": [
    {
     "name": "stdout",
     "output_type": "stream",
     "text": [
      "/Volumes/Untitled/NuPyCEE-2.0/sygma.py\n"
     ]
    }
   ],
   "source": [
    "import matplotlib.pyplot as plt\n",
    "%matplotlib inline\n",
    "import numpy as np\n",
    "import sygma as s\n",
    "print s.__file__\n",
    "import os"
   ]
  },
  {
   "cell_type": "code",
   "execution_count": 2,
   "metadata": {
    "collapsed": true,
    "deletable": true,
    "editable": true
   },
   "outputs": [],
   "source": [
    "## Parameter for standard best fit\n",
    "iniZ_st=0.0126\n",
    "imf_type_st='chabrier'\n",
    "imf_bdys_st=[0.1,100] #based on paper p. 18 (and tests on p.19)\n",
    "imf_yields_range_st=[0.8,100]  #0.8 based on calculations in paper p.19, paper uses 40Msun but then messses up plots, 100Msun good agreement.\n",
    "sn1a_rate_st='exp' #based on paper .p. 23\n",
    "exp_dtd_st=2e9  #based on paper p. 23\n",
    "direct_norm_1a_st=0.016 #better fit #0.02, #based on paper p. 23 (a parameter, see also p22)\n",
    "dt_st=1e6\n",
    "tend=1e8\n",
    "transitionmass_st=8 #6.8 #chosen to match the AGB and massive star  intersection.\n",
    "yield_interp_st='wiersma' # means we correct for initial abundance as in wiersma (independent if yields are net yields or not.)\n",
    "netyields_on_st=True #tells the code we actual use tabula.ted net yields. \n",
    "wiersmamod_st=True\n",
    "exclude_masses_st=[] #needs to be empty else 60Msun exlcuded!, cannot justify NOT to use 6,7Msun\n",
    "sn1a_table_st='yield_tables/sn1a_t03.txt'\n",
    "iniabu_table_st='yield_tables/iniabu/iniab_solar_Wiersma.ppn'\n",
    "special_timesteps=100"
   ]
  },
  {
   "cell_type": "code",
   "execution_count": 3,
   "metadata": {
    "collapsed": false,
    "deletable": true,
    "editable": true
   },
   "outputs": [
    {
     "name": "stdout",
     "output_type": "stream",
     "text": [
      "SYGMA run in progress..\n",
      "   SYGMA run completed - Run time: 4.51s\n",
      "SYGMA run in progress..\n",
      "   SYGMA run completed - Run time: 3.2s\n",
      "SYGMA run in progress..\n",
      "   SYGMA run completed - Run time: 3.25s\n",
      "SYGMA run in progress..\n",
      "   SYGMA run completed - Run time: 3.49s\n"
     ]
    }
   ],
   "source": [
    "s0n_d=s.sygma(iolevel=0,iniZ=0.02,imf_type=imf_type_st,\n",
    "           imf_bdys=imf_bdys_st, \n",
    "           imf_yields_range=[1,30],\n",
    "           sn1a_rate=sn1a_rate_st, \n",
    "           exp_dtd=exp_dtd_st, \n",
    "           direct_norm_1a=direct_norm_1a_st, \n",
    "            dt=dt_st,\n",
    "            special_timesteps=special_timesteps,\n",
    "            tend=tend,\n",
    "           transitionmass=transitionmass_st,\n",
    "           yield_interp='lin',\n",
    "           netyields_on=False,\n",
    "            wiersmamod=False,\n",
    "           table='yield_tables/agb_and_massive_stars_nugrid_MESAonly_fryer12delay.txt',\n",
    "           exclude_masses=exclude_masses_st,\n",
    "           sn1a_table=sn1a_table_st,iniabu_table='yield_tables/iniabu/iniab2.0E-02GN93.ppn')\n",
    "\n",
    "s0n_r=s.sygma(iolevel=0,iniZ=0.02,imf_type=imf_type_st,\n",
    "           imf_bdys=imf_bdys_st, \n",
    "           imf_yields_range=[1,30],\n",
    "           sn1a_rate=sn1a_rate_st, \n",
    "           exp_dtd=exp_dtd_st, \n",
    "           direct_norm_1a=direct_norm_1a_st, \n",
    "            dt=dt_st,\n",
    "            special_timesteps=special_timesteps,\n",
    "            tend=tend,\n",
    "           transitionmass=transitionmass_st,\n",
    "           yield_interp='lin',\n",
    "           netyields_on=False,\n",
    "            wiersmamod=False,\n",
    "           table='yield_tables/agb_and_massive_stars_nugrid_MESAonly_fryer12rapid.txt',\n",
    "           exclude_masses=exclude_masses_st,\n",
    "           sn1a_table=sn1a_table_st,iniabu_table='yield_tables/iniabu/iniab2.0E-02GN93.ppn')\n",
    "\n",
    "\n",
    "s1n_d=s.sygma(iolevel=0,iniZ=0.001,imf_type=imf_type_st,\n",
    "           imf_bdys=imf_bdys_st, \n",
    "           imf_yields_range=[1,30],\n",
    "           sn1a_rate=sn1a_rate_st, \n",
    "           exp_dtd=exp_dtd_st, \n",
    "           direct_norm_1a=direct_norm_1a_st, \n",
    "            dt=dt_st,\n",
    "            special_timesteps=special_timesteps,\n",
    "            tend=tend,\n",
    "           transitionmass=transitionmass_st,\n",
    "           yield_interp='lin',\n",
    "           netyields_on=False,\n",
    "            wiersmamod=False,\n",
    "           table='yield_tables/agb_and_massive_stars_nugrid_MESAonly_fryer12delay.txt',\n",
    "           exclude_masses=exclude_masses_st,\n",
    "           sn1a_table=sn1a_table_st,iniabu_table='yield_tables/iniabu/iniab1.0E-03GN93_alpha.ppn')\n",
    "\n",
    "\n",
    "s1n_r=s.sygma(iolevel=0,iniZ=0.001,imf_type=imf_type_st,\n",
    "           imf_bdys=imf_bdys_st, \n",
    "           imf_yields_range=[1,30],\n",
    "           sn1a_rate=sn1a_rate_st, \n",
    "           exp_dtd=exp_dtd_st, \n",
    "           direct_norm_1a=direct_norm_1a_st, \n",
    "            dt=dt_st,\n",
    "           special_timesteps=special_timesteps,\n",
    "            tend=tend,\n",
    "           transitionmass=transitionmass_st,\n",
    "           yield_interp='lin',\n",
    "           netyields_on=False,\n",
    "            wiersmamod=False,\n",
    "           table='yield_tables/agb_and_massive_stars_nugrid_MESAonly_fryer12rapid.txt',\n",
    "           exclude_masses=exclude_masses_st,\n",
    "           sn1a_table=sn1a_table_st,iniabu_table='yield_tables/iniabu/iniab1.0E-03GN93_alpha.ppn')\n",
    "               "
   ]
  },
  {
   "cell_type": "markdown",
   "metadata": {
    "deletable": true,
    "editable": true
   },
   "source": [
    "## Fig. 15"
   ]
  },
  {
   "cell_type": "code",
   "execution_count": 4,
   "metadata": {
    "collapsed": false,
    "deletable": true,
    "editable": true
   },
   "outputs": [
    {
     "data": {
      "image/png": "[encoded data removed]",
      "text/plain": [
       "<matplotlib.figure.Figure at 0x116e5a1d0>"
      ]
     },
     "metadata": {},
     "output_type": "display_data"
    }
   ],
   "source": [
    "%matplotlib inline\n",
    "fign=1\n",
    "plt.close(fign)\n",
    "fig=plt.figure(fign)\n",
    "ax=plt.gca()\n",
    "s0n_d.plot_table_remnant(fig=fign,iniZ=0.02,marker='o',masses=[12,15,20,25],label='delay, Z=0.02',\n",
    "                       table='yield_tables/agb_and_massive_stars_nugrid_MESAonly_fryer12delay.txt',color='b',shape='-')\n",
    "s0n_r.plot_table_remnant(fig=fign,iniZ=0.02,marker='s',masses=[12,15,20,25],label='rapid, Z=0.02',\n",
    "                       table='yield_tables/agb_and_massive_stars_nugrid_MESAonly_fryer12rapid.txt',color='g',shape='-.')\n",
    "s1n_d.plot_table_remnant(fig=fign,iniZ=0.001,marker='^',masses=[12,15,20,25],label='delay, Z=0.001',\n",
    "                       table='yield_tables/agb_and_massive_stars_nugrid_MESAonly_fryer12delay.txt',color='r',shape='--')\n",
    "s1n_r.plot_table_remnant(fig=fign,iniZ=0.001,marker='>',masses=[12,15,20,25],label='rapid, Z=0.001',\n",
    "                       table='yield_tables/agb_and_massive_stars_nugrid_MESAonly_fryer12rapid.txt',color='k',shape=':')\n",
    "plt.legend(loc=2,fontsize=12)\n",
    "plt.xlim(11,27)\n",
    "plt.xlabel('initial mass [M$_{\\odot}$]');plt.ylabel('remnant mass [M$_{\\odot}$]')\n",
    "plt.minorticks_off()\n",
    "props = dict(boxstyle='square', facecolor='w', alpha=1)\n",
    "fig.set_size_inches(6,4,forward=True)\n",
    "plt.ylim(1,14)\n",
    "fig.set_size_inches(6,6,forward=True)    \n",
    "plt.subplots_adjust(hspace=0.1, bottom=0.125,wspace=0.05,left=0.15,right=0.9)\n",
    "ax.set_xticks([12,15,20,25])\n",
    "plt.xlim(11,26)\n",
    "fig.savefig('../figs/mass_cuts_all.png', dpi=100) #save fgure"
   ]
  },
  {
   "cell_type": "markdown",
   "metadata": {
    "deletable": true,
    "editable": true
   },
   "source": [
    "## Fig. 16"
   ]
  },
  {
   "cell_type": "code",
   "execution_count": null,
   "metadata": {
    "collapsed": false,
    "deletable": true,
    "editable": true
   },
   "outputs": [],
   "source": [
    "fign = fign + 1\n",
    "f, axarr = plt.subplots(3, 2,num=fign)\n",
    "fig=f\n",
    "markevery=40\n",
    "props = dict(boxstyle='square', facecolor='w', alpha=1)\n",
    "for specie in ['Total','C','N','O','Si','Fe']:\n",
    "#specie='Ba-132'\n",
    "        if specie=='Total':\n",
    "            plt.sca(axarr[0, 0])\n",
    "        if specie=='C':\n",
    "            plt.sca(axarr[0, 1])\n",
    "        elif specie=='N':\n",
    "            plt.sca(axarr[1, 0])\n",
    "        elif specie=='O':\n",
    "            plt.sca(axarr[1, 1])\n",
    "        elif specie=='Si':\n",
    "            plt.sca(axarr[2, 0])\n",
    "        elif specie=='Fe':\n",
    "            plt.sca(axarr[2, 1])\n",
    "            \n",
    "        if specie == 'Total':\n",
    "            \n",
    "            markevery=8            \n",
    "            s0n_d.plot_totmasses(fig=fign,source='massive',markevery=markevery,color='r',marker='^')\n",
    "            s0n_r.plot_totmasses(fig=fign,source='massive',markevery=markevery+5,color='b',marker='>')\n",
    "            s1n_d.plot_totmasses(fig=fign,source='massive',markevery=markevery,color='r',marker='D')\n",
    "            s1n_r.plot_totmasses(fig=fign,source='massive',markevery=markevery+5,color='b',marker='o')   \n",
    "        else:  \n",
    "            s0n_d.plot_mass(fig=fign,specie=specie,source='massive',norm='no',color='b',label=specie+' (AGB), Z=2e-2',shape='-.',marker='^',markevery=markevery)\n",
    "            s0n_r.plot_mass(fig=fign,specie=specie,source='massive',norm='no',color='r',label=specie+' (AGB), Z=2e-2',shape='-.',marker='>',markevery=markevery+5)\n",
    "            s1n_d.plot_mass(fig=fign,specie=specie,source='massive',norm='no',color='b',label=specie+' (massive), Z=2e-2',shape='-',marker='D',markevery=markevery)\n",
    "            s1n_r.plot_mass(fig=fign,specie=specie,source='massive',norm='no',color='r',label=specie+' (massive), Z=2e-2',shape='-',marker='o',markevery=markevery+5)   \n",
    "            plt.legend(loc=6,fontsize=12).set_visible(False)\n",
    "        if specie in ['C',]:\n",
    "            plt.ylim(1e-2,1e2)\n",
    "        elif specie in ['Si']:\n",
    "            plt.ylim(1e-1,2e1)\n",
    "        elif specie in ['N']:\n",
    "            plt.ylim(1e-1,2e1)\n",
    "        elif specie in ['O']:\n",
    "            plt.ylim(1e0,2e2)       \n",
    "        elif specie in ['Fe']:\n",
    "            plt.ylim(1e-1,1e1)\n",
    "            \n",
    "        #else:\n",
    "        #    plt.ylim(1e5,1e8)\n",
    "        ax=plt.gca()\n",
    "        if specie=='Total':\n",
    "            plt.plot([],[],marker='^',linestyle='-.',color='b',label='AGB')\n",
    "            plt.plot([],[],marker='>',linestyle='-.',color='r',label='Massive')\n",
    "            #plt.plot([],[],marker='+',linestyle=':',color='r',label='SNIa')\n",
    "            plt.plot([],[],marker='D',linestyle='-',color='b',label='AGB')\n",
    "            plt.plot([],[],marker='o',linestyle='-',color='r',label='Massive')\n",
    "            l2=ax.lines[-4:]\n",
    "            plt.legend(l2,('delay, Z=0.02','rapid, Z=0.02','delay, Z=0.001','rapid, Z=0.001'),loc=4,prop={'size': 14})\n",
    "        ax=plt.gca()    \n",
    "        #plt.legend().set_visible(False)\n",
    "        if (specie=='N'):\n",
    "            ax.set_ylabel(r'accumulated ejecta [M$_{\\odot}$]',size=20)\n",
    "        #elif not ( ((specie=='Total') or ( specie=='N')) or ( specie=='Fe')):\n",
    "        #    ax.get_yaxis().set_ticklabels([]) #set_visible(False)\n",
    "        #    plt.ylabel('')\n",
    "        else:\n",
    "            plt.ylabel('')\n",
    "        if specie in ['Total','C','N','O']:\n",
    "            ax.get_xaxis().set_ticklabels([])\n",
    "            plt.xlabel('')    \n",
    "        else:\n",
    "            plt.xlabel('log-scaled age [Myr]',size=20)\n",
    "            ax.get_xaxis().set_ticklabels([5,10,50])\n",
    "            ax.xaxis.set_ticks(np.array([5e6,10e6,50e6]))\n",
    "            plt.yscale('log')    \n",
    "        ax=plt.gca()\n",
    "        ax.text(0.1, 0.85, specie, transform=ax.transAxes, fontsize=16,verticalalignment='top', bbox=props)  \n",
    "        #if not ( ((specie=='Total') or ( specie=='N')) or ( specie=='Fe')):\n",
    "        #    ax.get_yaxis().set_ticklabels([])    \n",
    "        if not specie =='Total':\n",
    "            plt.ylim(1e-2,1e2)\n",
    "        plt.xlim(5e6,5e7)\n",
    "#general settings\n",
    "fig.set_size_inches(20,10)\n",
    "plt.subplots_adjust(hspace=0.1, bottom=0.125,wspace=0.15)#,left=0.1)   \n",
    "plt.subplots_adjust(hspace=0.1, bottom=0.125,wspace=0.15,left=0.1,right=0.9)\n",
    "fig=plt.gcf()        \n",
    "fig.set_size_inches(14,10,forward=True)  \n",
    "fig.set_size_inches(12,10,forward=True)  \n",
    "fig.savefig('../figs/ssp_delay_rapid_yields.png', dpi=100) #save figure"
   ]
  },
  {
   "cell_type": "code",
   "execution_count": null,
   "metadata": {
    "collapsed": true,
    "deletable": true,
    "editable": true
   },
   "outputs": [],
   "source": []
  }
 ],
 "metadata": {
  "kernelspec": {
   "display_name": "Python 2",
   "language": "python",
   "name": "python2"
  },
  "language_info": {
   "codemirror_mode": {
    "name": "ipython",
    "version": 2
   },
   "file_extension": ".py",
   "mimetype": "text/x-python",
   "name": "python",
   "nbconvert_exporter": "python",
   "pygments_lexer": "ipython2",
   "version": "2.7.13"
  }
 },
 "nbformat": 4,
 "nbformat_minor": 0
}
