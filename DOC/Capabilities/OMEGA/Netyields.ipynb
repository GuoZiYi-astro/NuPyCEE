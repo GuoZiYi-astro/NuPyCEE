{
 "cells": [
  {
   "cell_type": "markdown",
   "metadata": {},
   "source": [
    "# Example how to use net yields"
   ]
  },
  {
   "cell_type": "code",
   "execution_count": 2,
   "metadata": {
    "collapsed": false
   },
   "outputs": [
    {
     "name": "stdout",
     "output_type": "stream",
     "text": [
      "/Users/christian/ExtDrive64/NuGrid/NuPyCEE/\n"
     ]
    }
   ],
   "source": [
    "%matplotlib nbagg\n",
    "import matplotlib.pyplot as plt\n",
    "import sys\n",
    "import sygma as s\n",
    "reload(s)\n",
    "import omega as o\n",
    "reload(o)\n",
    "import numpy as np\n",
    "print s.global_path\n",
    "#%matplotlib inline\n",
    "import stellab\n",
    "import read_yields as ry\n",
    "import matplotlib"
   ]
  },
  {
   "cell_type": "code",
   "execution_count": 3,
   "metadata": {
    "collapsed": true
   },
   "outputs": [],
   "source": [
    "table='yield_tables/agb_and_massive_stars_nugrid_MESAonly_fryer12delay.txt'"
   ]
  },
  {
   "cell_type": "markdown",
   "metadata": {},
   "source": [
    "#### Default setup - total yields"
   ]
  },
  {
   "cell_type": "code",
   "execution_count": 8,
   "metadata": {
    "collapsed": false
   },
   "outputs": [
    {
     "name": "stdout",
     "output_type": "stream",
     "text": [
      "OMEGA run in progress..\n",
      "   OMEGA run completed - Run time: 5.79s\n"
     ]
    }
   ],
   "source": [
    "# Initial metallicity 0\n",
    "#includes pop3_table='yield_tables/popIII_heger10.txt',\n",
    "iniZ = 0.0\n",
    "\n",
    "# Original yields\n",
    "o_NG = o.omega(galaxy='milky_way', table=table, \\\n",
    "         special_timesteps=60, exp_ml=1.0, mass_frac_SSP=0.35, nb_1a_per_m=1.5e-3, DM_evolution=True, sfe=0.04,\\\n",
    "           t_sf_z_dep=0.3, mass_loading=1.02, iniZ=iniZ)"
   ]
  },
  {
   "cell_type": "markdown",
   "metadata": {},
   "source": [
    "#### Setup with total yields as input but net yields are calculated in the code and then applied"
   ]
  },
  {
   "cell_type": "code",
   "execution_count": 7,
   "metadata": {
    "collapsed": false
   },
   "outputs": [
    {
     "name": "stdout",
     "output_type": "stream",
     "text": [
      "OMEGA run in progress..\n",
      "Net-yields approach is not applied for PopIII yield input fot time\n",
      "Net-yields approach is not applied for PopIII yield input fot time\n",
      "Net-yields approach is not applied for PopIII yield input fot time\n",
      "Net-yields approach is not applied for PopIII yield input fot time\n",
      "Net-yields approach is not applied for PopIII yield input fot time\n",
      "Net-yields approach is not applied for PopIII yield input fot time\n",
      "Net-yields approach is not applied for PopIII yield input fot time\n",
      "Net-yields approach is not applied for PopIII yield input fot time\n",
      "Net-yields approach is not applied for PopIII yield input fot time\n",
      "Net-yields approach is not applied for PopIII yield input fot time\n",
      "Net-yields approach is not applied for PopIII yield input fot time\n",
      "Net-yields approach is not applied for PopIII yield input fot time\n",
      "Net-yields approach is not applied for PopIII yield input fot time\n"
     ]
    },
    {
     "name": "stderr",
     "output_type": "stream",
     "text": [
      "/Users/christian/ExtDrive64/NuGrid/NuPyCEE/chem_evol.py:5074: RuntimeWarning: divide by zero encountered in double_scalars\n",
      "  relat_corr=abs(X_ymgal_t[p] - X0[p])/X_ymgal_t[p]\n"
     ]
    },
    {
     "name": "stdout",
     "output_type": "stream",
     "text": [
      "   OMEGA run completed - Run time: 6.19s\n"
     ]
    }
   ],
   "source": [
    "# Initial metallicity 0\n",
    "#includes pop3_table='yield_tables/popIII_heger10.txt',\n",
    "iniZ = 0.0\n",
    "\n",
    "#turn on net yield capability\n",
    "yield_interp='wiersma'\n",
    "\n",
    "#yield input not net yields\n",
    "netyields_on=False\n",
    "\n",
    "#should not matter\n",
    "wiersmamod=False\n",
    "\n",
    "Z_trans=1e-20\n",
    "\n",
    "# Original yields\n",
    "o_NG_net = o.omega(galaxy='milky_way', table=table, \\\n",
    "         special_timesteps=60, exp_ml=1.0, mass_frac_SSP=0.35, nb_1a_per_m=1.5e-3, DM_evolution=True, sfe=0.04,\\\n",
    "           t_sf_z_dep=0.3, mass_loading=1.02, iniZ=iniZ,yield_interp=yield_interp,netyields_on=netyields_on)"
   ]
  },
  {
   "cell_type": "code",
   "execution_count": null,
   "metadata": {
    "collapsed": true
   },
   "outputs": [],
   "source": []
  }
 ],
 "metadata": {
  "kernelspec": {
   "display_name": "Python 2",
   "language": "python",
   "name": "python2"
  },
  "language_info": {
   "codemirror_mode": {
    "name": "ipython",
    "version": 2
   },
   "file_extension": ".py",
   "mimetype": "text/x-python",
   "name": "python",
   "nbconvert_exporter": "python",
   "pygments_lexer": "ipython2",
   "version": "2.7.11"
  }
 },
 "nbformat": 4,
 "nbformat_minor": 0
}
