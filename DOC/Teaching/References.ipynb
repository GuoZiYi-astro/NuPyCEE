{
 "cells": [
  {
   "cell_type": "markdown",
   "metadata": {},
   "source": [
    "# Introduction"
   ]
  },
  {
   "cell_type": "markdown",
   "metadata": {},
   "source": [
    "For now we refer for a first introduction to chemical evolution to the extensive list of references below."
   ]
  },
  {
   "cell_type": "markdown",
   "metadata": {
    "collapsed": true
   },
   "source": [
    "## List of references:"
   ]
  },
  {
   "cell_type": "markdown",
   "metadata": {},
   "source": [
    "#### Books:\n"
   ]
  },
  {
   "cell_type": "markdown",
   "metadata": {},
   "source": [
    "'Nucleosynthesis and Chemical Evolution of Galaxies' http://adsabs.harvard.edu/abs/1997nceg.book.....P\n",
    "\n",
    "'The chemical evolution of the Galaxy' http://adsabs.harvard.edu/abs/2001ASSL..253.....M\n",
    "\n",
    "Huge compendium: 'Galaxy Formation and Evolution' http://www.cambridge.org/catalogue/catalogue.asp?isbn=0521857937"
   ]
  },
  {
   "cell_type": "markdown",
   "metadata": {},
   "source": [
    "#### Our literature:"
   ]
  },
  {
   "cell_type": "markdown",
   "metadata": {},
   "source": [
    "Côté, B., Belczynski, K., Fryer, C. L., et al. 2017, ApJ, 836, 230\n",
    "http://adsabs.harvard.edu/abs/2017ApJ...836..230C\n",
    "\n",
    "Côté, B., O’Shea, B. W., Ritter, C., Herwig, F., & Venn, K. A. 2017, ApJ, 835, 128\n",
    "http://adsabs.harvard.edu/abs/2017ApJ...835..128C\n",
    "\n",
    "Côté, B., Ritter, C., Herwig, F., et al. 2016, arXiv:1609.09528\n",
    "http://adsabs.harvard.edu/abs/2016arXiv160909528C\n",
    "\n",
    "Côté, B., West, C., Heger, A., et al. 2016, MNRAS, 463, 3755\n",
    "http://adsabs.harvard.edu/abs/2016MNRAS.463.3755C\n",
    "\n",
    "Côté, B., Ritter, C., O’Shea, B. W., et al. 2016, ApJ, 824, 82\n",
    "http://adsabs.harvard.edu/abs/2016ApJ...824...82C"
   ]
  },
  {
   "cell_type": "code",
   "execution_count": null,
   "metadata": {
    "collapsed": true
   },
   "outputs": [],
   "source": []
  }
 ],
 "metadata": {
  "kernelspec": {
   "display_name": "Python 2",
   "language": "python",
   "name": "python2"
  },
  "language_info": {
   "codemirror_mode": {
    "name": "ipython",
    "version": 2
   },
   "file_extension": ".py",
   "mimetype": "text/x-python",
   "name": "python",
   "nbconvert_exporter": "python",
   "pygments_lexer": "ipython2",
   "version": "2.7.11"
  }
 },
 "nbformat": 4,
 "nbformat_minor": 0
}
