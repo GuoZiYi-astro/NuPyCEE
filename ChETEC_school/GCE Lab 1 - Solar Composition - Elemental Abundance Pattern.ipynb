{
 "cells": [
  {
   "cell_type": "markdown",
   "metadata": {},
   "source": [
    "# GCE Lab 1 - Solar Composition - Elemental Abundance Pattern"
   ]
  },
  {
   "cell_type": "markdown",
   "metadata": {},
   "source": [
    "In this notebook, you will tune the number of Type Ia supernovae and the number of r-process events to match portions of the elemental abundance pattern of the Sun."
   ]
  },
  {
   "cell_type": "code",
   "execution_count": null,
   "metadata": {},
   "outputs": [],
   "source": [
    "# Bypass any already-installed version (useful for AstroHub)\n",
    "import sys\n",
    "if \"/opt/NuPyCEE\" in sys.path:\n",
    "    sys.path.remove(\"/opt/NuPyCEE\")\n",
    "if \"/opt/JINAPyCEE\" in sys.path:\n",
    "    sys.path.remove(\"/opt/JINAPyCEE\")\n",
    "if \"/opt\" in sys.path:\n",
    "    sys.path.remove(\"/opt\")\n",
    "    \n",
    "# Import the OMEGA+ code and standard packages\n",
    "import matplotlib\n",
    "import matplotlib.pyplot as plt\n",
    "import numpy as np\n",
    "\n",
    "# Two-zone galactic chemical evolution code\n",
    "import JINAPyCEE.omega_plus as omega_plus\n",
    "\n",
    "# Run scripts for this notebook\n",
    "%run script_solar_ab.py\n",
    "\n",
    "# Matplotlib option\n",
    "%matplotlib inline"
   ]
  },
  {
   "cell_type": "markdown",
   "metadata": {},
   "source": [
    "## Choice of Stellar Yields"
   ]
  },
  {
   "cell_type": "markdown",
   "metadata": {},
   "source": [
    "The stellar yields for the simulations are taken from:\n",
    "* Low-mass asymptotic-giant-branch (AGB) stars: [Cristallo et al. (2015)](https://ui.adsabs.harvard.edu/abs/2015ApJS..219...40C/abstract)\n",
    "* Massive stars: [Limongi & Chieffi (2018)](https://ui.adsabs.harvard.edu/abs/2018ApJS..237...13L/abstract)\n",
    "* Type Ia supernovae (SNe Ia): [Iwamoto et al. (1999)](https://ui.adsabs.harvard.edu/abs/1999ApJS..125..439I/abstract)\n",
    "* Rapid neutron-capture process (*r*-process): Solar residuals of [Arnould et al. (2007)](https://ui.adsabs.harvard.edu/abs/2007PhR...450...97A/abstract)"
   ]
  },
  {
   "cell_type": "markdown",
   "metadata": {},
   "source": [
    "## 1. Iron-Peak Elements. Contribution of SNe Ia"
   ]
  },
  {
   "cell_type": "code",
   "execution_count": null,
   "metadata": {},
   "outputs": [],
   "source": [
    "# \\\\\\\\\\\\\\\\\\\\ Modify below \\\\\\\\\\\\\\\\\\\\\\\\\n",
    "# ====================================\n",
    "\n",
    "# Number of SNe Ia per units of stellar mass formed.\n",
    "# For every solar mass of stars formed, there will be statistically nb_1a_per_m SNe Ia.\n",
    "# Original value --> 1.0e-1\n",
    "nb_1a_per_m = 1.0e-1\n",
    "\n",
    "# ====================================\n",
    "# ////////// Modify above ////////////\n",
    "\n",
    "# Run the GCE code OMEGA+\n",
    "op = omega_plus.omega_plus(nb_1a_per_m=nb_1a_per_m, **kwargs)\n",
    "\n",
    "# Get source contributions\n",
    "m_el_all, m_el_agb, m_el_massive, m_el_sn1a, m_el_nsm = \\\n",
    "    get_individual_sources(op.inner, i_step_sol=i_t_Sun)"
   ]
  },
  {
   "cell_type": "code",
   "execution_count": null,
   "metadata": {},
   "outputs": [],
   "source": [
    "# Set figure\n",
    "fig = plt.figure(figsize=(8,4))\n",
    "matplotlib.rcParams.update({'font.size': 16.0})\n",
    "\n",
    "# Plot solar abundance data\n",
    "plt.plot(solar_Z, solar_ab, color='k', marker='o', linewidth=6, alpha=0.5, label='Solar')\n",
    "\n",
    "# Plot contribution from Type Ia supernovae\n",
    "plt.plot(Z_charge, m_el_sn1a, color='g', label='SNe Ia', alpha=0.8, linestyle='-', marker='s')\n",
    "\n",
    "# Add element annotations (iron-peak)\n",
    "Z_low, Z_upp = 20, 30\n",
    "for i in range(Z_low, Z_upp+1):\n",
    "    plt.annotate(elements[i], xy=(solar_Z[i],yy[i]), color='k',\\\n",
    "                 fontsize=15, ha='center', va='center')\n",
    "    \n",
    "# Label, legend, and axis\n",
    "plt.legend(fontsize=16, loc='center left', bbox_to_anchor=(1, 0.5))\n",
    "plt.xlabel('Z (charge number)', fontsize=16)\n",
    "plt.ylabel('X (mass fraction)', fontsize=16)\n",
    "plt.xlim(Z_low-0.5, Z_upp+0.5)\n",
    "plt.ylim(1e-9,3e-1)\n",
    "plt.yscale('log')\n",
    "\n",
    "# Frame tuning\n",
    "plt.subplots_adjust(top=0.95)\n",
    "plt.subplots_adjust(right=0.75)\n",
    "plt.subplots_adjust(left=0.15)\n",
    "plt.subplots_adjust(bottom=0.14)"
   ]
  },
  {
   "cell_type": "markdown",
   "metadata": {},
   "source": [
    "## 2. Neutron-Capture Elements. *s*- and *r*-Process Contributions"
   ]
  },
  {
   "cell_type": "code",
   "execution_count": null,
   "metadata": {},
   "outputs": [],
   "source": [
    "# \\\\\\\\\\\\\\\\\\\\ Modify below \\\\\\\\\\\\\\\\\\\\\\\\\n",
    "# ====================================\n",
    "\n",
    "# Number of r-process events per units of stellar mass formed.\n",
    "# Original value --> 1.0e-6\n",
    "nb_nsm_per_m = 1.0e-6\n",
    "\n",
    "# ====================================\n",
    "# ////////// Modify above ////////////\n",
    "\n",
    "# Run the GCE code OMEGA+\n",
    "op = omega_plus.omega_plus(nb_nsm_per_m=nb_nsm_per_m, **kwargs)\n",
    "\n",
    "# Get source contributions\n",
    "m_el_all, m_el_agb, m_el_massive, m_el_sn1a, m_el_nsm = \\\n",
    "    get_individual_sources(op.inner, i_step_sol=i_t_Sun)"
   ]
  },
  {
   "cell_type": "code",
   "execution_count": null,
   "metadata": {},
   "outputs": [],
   "source": [
    "# Set figure\n",
    "fig = plt.figure(figsize=(12,4))\n",
    "matplotlib.rcParams.update({'font.size': 16.0})\n",
    "\n",
    "# Plot solar abundance data\n",
    "plt.plot(solar_Z, solar_ab, color='k', marker='o', linewidth=6, alpha=0.5, label='Solar')\n",
    "\n",
    "# Contribution of the s-process (AGB stars)\n",
    "plt.plot(Z_charge, m_el_agb, color='r', label='s-process (AGB)', alpha=0.8, linestyle='-', marker='x')\n",
    "\n",
    "# Contribution of the r-process\n",
    "plt.plot(Z_charge, m_el_nsm, color='c', label='r-process', alpha=0.8, linestyle='-', marker='^')\n",
    "\n",
    "# Add element annotations (lanthanides)\n",
    "Z_low, Z_upp = 50, 80\n",
    "for i in range(Z_low, Z_upp+1):\n",
    "    plt.annotate(elements[i], xy=(solar_Z[i],yy[i]), color='k',\\\n",
    "                 fontsize=15, ha='center', va='center')\n",
    "    \n",
    "# Label, legend, and axis\n",
    "plt.legend(fontsize=16, loc='center left', bbox_to_anchor=(1, 0.5))\n",
    "plt.xlabel('Z (charge number)', fontsize=16)\n",
    "plt.ylabel('X (mass fraction)', fontsize=16)\n",
    "plt.xlim(Z_low-0.5, Z_upp+0.5)\n",
    "plt.ylim(1e-11,1e-6)\n",
    "plt.yscale('log')\n",
    "\n",
    "# Frame tuning\n",
    "plt.subplots_adjust(top=0.95)\n",
    "plt.subplots_adjust(right=0.75)\n",
    "plt.subplots_adjust(left=0.15)\n",
    "plt.subplots_adjust(bottom=0.14)"
   ]
  },
  {
   "cell_type": "markdown",
   "metadata": {},
   "source": [
    "## Exercises"
   ]
  },
  {
   "cell_type": "markdown",
   "metadata": {},
   "source": [
    "* 1) SNe Ia have synthesized most of the Fe we observed today in the Milky Way. How many SNe Ia, per units of stellar mass formed [M$_\\odot^{-1}$], are needed in the simulation in order to reproduce the Fe solar abundance? You will need to modify the **nb_1a_per_m** parameter.\n",
    "\n",
    "\n",
    "* 2) Neutron-capture elements have mostly been synthesized by the slow neutron-capture process (*s*-process) in AGB stars, and by the rapid neutron-capture process (*r*-process) in rare events such as compact binary mergers and exotic classes of supernovae. How many r-process events, per units of stellar mass formed [M$_\\odot^{-1}$], are needed in the simulation in order to reproduce the solar abundance of lanthanides (e.g., Eu)? You will need to modify the **nb_nsm_per_m** parameter.\n",
    "\n",
    "\n",
    "* 3) There are about $5\\times10^{10}$ M$_\\odot$ of stars in the Milky Way. Using the number you found in Exercises 1) and 2), approximately how many SNe Ia and r-process events have occured within the Milky Way since its formation?"
   ]
  },
  {
   "cell_type": "markdown",
   "metadata": {},
   "source": [
    "## 3. Extra Material - All sources"
   ]
  },
  {
   "cell_type": "code",
   "execution_count": null,
   "metadata": {},
   "outputs": [],
   "source": [
    "# \\\\\\\\\\\\\\\\\\\\ Modify below \\\\\\\\\\\\\\\\\\\\\\\\\n",
    "# ====================================\n",
    "\n",
    "# Number of SNe Ia per units of stellar mass formed.\n",
    "# For every solar mass of stars formed, there will be statistically nb_1a_per_m SNe Ia.\n",
    "nb_1a_per_m = 1.0e-1\n",
    "\n",
    "# Number of r-process events per units of stellar mass formed.\n",
    "nb_nsm_per_m = 1.0e-6\n",
    "\n",
    "# ====================================\n",
    "# ////////// Modify above ////////////\n",
    "\n",
    "# Run the GCE code OMEGA+\n",
    "op = omega_plus.omega_plus(nb_1a_per_m=nb_1a_per_m, nb_nsm_per_m=nb_nsm_per_m, **kwargs)\n",
    "\n",
    "# Get source contributions\n",
    "m_el_all, m_el_agb, m_el_massive, m_el_sn1a, m_el_nsm = \\\n",
    "    get_individual_sources(op.inner, i_step_sol=i_t_Sun)"
   ]
  },
  {
   "cell_type": "code",
   "execution_count": null,
   "metadata": {},
   "outputs": [],
   "source": [
    "# \\\\\\\\\\\\\\\\\\\\ Modify below \\\\\\\\\\\\\\\\\\\\\\\\\n",
    "# ====================================\n",
    "\n",
    "# Select the range of elements (atomic numbers) you want to plot\n",
    "Z_low, Z_upp = 10, 20\n",
    "# NOTE: You might want to modify plt.ylim(..) below.\n",
    "\n",
    "# ====================================\n",
    "# ////////// Modify above ////////////\n",
    "\n",
    "# Set figure\n",
    "fig = plt.figure(figsize=(12,4.0))\n",
    "matplotlib.rcParams.update({'font.size': 16.0})\n",
    "\n",
    "# Plot solar abundance data\n",
    "plt.plot(solar_Z, solar_ab, color='k', marker='o', linewidth=6, alpha=0.5, label='Solar')\n",
    "\n",
    "# All sources combined\n",
    "plt.plot(Z_charge, m_el_all, color='orange', label='All sources', alpha=1.0, linestyle='-', linewidth=2)\n",
    "\n",
    "# Contribution of Type Ia supernovae\n",
    "plt.plot(Z_charge, m_el_sn1a, color='g', label='SNe Ia', alpha=0.8, linestyle='-', marker='s')\n",
    "\n",
    "# Contribution of massive stars (core-collapse supernovae)\n",
    "plt.plot(Z_charge, m_el_massive, color='b', label='Massive stars', alpha=0.8, linestyle='-', marker='^')\n",
    "\n",
    "# Contribution of AGB stars\n",
    "plt.plot(Z_charge, m_el_agb, color='r', label='AGB stars', alpha=0.8, linestyle='-', marker='x')\n",
    "\n",
    "# Contribution of the r-process\n",
    "plt.plot(Z_charge, m_el_nsm, color='c', label='r-process', alpha=0.8, linestyle='-', marker='s')\n",
    "\n",
    "# Add element annotations (lanthanides)\n",
    "for i in range(Z_low, Z_upp+1):\n",
    "    plt.annotate(elements[i], xy=(solar_Z[i],yy[i]), color='k',\\\n",
    "                 fontsize=15, ha='center', va='center')\n",
    "    \n",
    "# Label, legend, and axis\n",
    "plt.legend(fontsize=16, loc='center left', bbox_to_anchor=(1, 0.5))\n",
    "plt.xlabel('Z (charge number)', fontsize=16)\n",
    "plt.ylabel('X (mass fraction)', fontsize=16)\n",
    "plt.xlim(Z_low-0.5, Z_upp+0.5)\n",
    "plt.ylim(1e-8,1)\n",
    "plt.yscale('log')\n",
    "\n",
    "# Frame tuning\n",
    "plt.subplots_adjust(top=0.95)\n",
    "plt.subplots_adjust(right=0.75)\n",
    "plt.subplots_adjust(left=0.15)\n",
    "plt.subplots_adjust(bottom=0.14)"
   ]
  },
  {
   "cell_type": "code",
   "execution_count": null,
   "metadata": {},
   "outputs": [],
   "source": []
  }
 ],
 "metadata": {
  "kernelspec": {
   "display_name": "Python 3",
   "language": "python",
   "name": "python3"
  },
  "language_info": {
   "codemirror_mode": {
    "name": "ipython",
    "version": 3
   },
   "file_extension": ".py",
   "mimetype": "text/x-python",
   "name": "python",
   "nbconvert_exporter": "python",
   "pygments_lexer": "ipython3",
   "version": "3.7.4"
  }
 },
 "nbformat": 4,
 "nbformat_minor": 2
}
