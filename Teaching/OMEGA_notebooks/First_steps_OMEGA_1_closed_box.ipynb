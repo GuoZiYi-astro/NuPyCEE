{
 "cells": [
  {
   "cell_type": "markdown",
   "metadata": {},
   "source": [
    "# First steps with OMEGA - Closed box"
   ]
  },
  {
   "cell_type": "markdown",
   "metadata": {},
   "source": [
    "A closed box in chemical evolution refers to a gas reservoir which does not exchange matter with its surrounding.  There is nothing coming out of the box, and nothing coming in the box.  The star formation and the enrichment process therefore take place in an isolate environment.  This notebook present the basics galaxy ingredients that can modify your chemical evolution predictions."
   ]
  },
  {
   "cell_type": "code",
   "execution_count": null,
   "metadata": {
    "collapsed": false
   },
   "outputs": [],
   "source": [
    "# Python packages\n",
    "%matplotlib nbagg\n",
    "import matplotlib\n",
    "import matplotlib.pyplot as plt\n",
    "import seaborn as sns\n",
    "import numpy as np\n",
    "sns.reset_orig()\n",
    "\n",
    "# Shared class between SYGMA and OMEGA\n",
    "import chem_evol\n",
    "reload(chem_evol)\n",
    "\n",
    "# One-zone galactic chemical evolution code\n",
    "import omega\n",
    "reload(omega)\n",
    "\n",
    "# There may be warning messages here .. but it's all ok!"
   ]
  },
  {
   "cell_type": "markdown",
   "metadata": {},
   "source": [
    "## 1. Initial mass of the gas reservoir"
   ]
  },
  {
   "cell_type": "markdown",
   "metadata": {},
   "source": [
    "The mass of gas plays a crucial role in chemical evolution, as it sets the concentration of metals at each timestep.  For example, for a fixed star formation history, a smaller gas reservoir will lead to a faster enrichment.  In the following examples, we assume a primordial gas composition (only H, He, and Li)."
   ]
  },
  {
   "cell_type": "code",
   "execution_count": null,
   "metadata": {
    "collapsed": false
   },
   "outputs": [],
   "source": [
    "# Run OMEGA simulations\n",
    "# Constant star formation rate of 1 Msun/yr with different gas reservoir (mass)\n",
    "o_res_1e10 = omega.omega(cte_sfr=1.0, mgal=1e10)\n",
    "o_res_1e11 = omega.omega(cte_sfr=1.0, mgal=1e11)\n",
    "o_res_1e12 = omega.omega(cte_sfr=1.0, mgal=1e12)"
   ]
  },
  {
   "cell_type": "code",
   "execution_count": null,
   "metadata": {
    "collapsed": false
   },
   "outputs": [],
   "source": [
    "# Plot the total mass of the gas reservoir as a function of time.\n",
    "%matplotlib nbagg\n",
    "o_res_1e12.plot_totmasses(color='r', label='M_res = 1e12 Msun')\n",
    "o_res_1e11.plot_totmasses(color='g', label='M_res = 1e11 Msun')\n",
    "o_res_1e10.plot_totmasses(color='b', label='M_res = 1e10 Msun')\n",
    "plt.ylim(1e9, 2e12)"
   ]
  },
  {
   "cell_type": "markdown",
   "metadata": {},
   "source": [
    "We can see with the blue line that star formation slowly consumes the galactic gas.  This feature is not seen when the mass of gas reservoir is very large (red line) compared to the total stellar mass formed."
   ]
  },
  {
   "cell_type": "markdown",
   "metadata": {},
   "source": [
    "### 1.1. Evolution of the Fe concentration"
   ]
  },
  {
   "cell_type": "markdown",
   "metadata": {},
   "source": [
    "[Fe/H] is often used as a proxi for time in galactic chemical evolution studies.  But the relation between [Fe/H] and galactic age is not linear, as seen in the plot below."
   ]
  },
  {
   "cell_type": "code",
   "execution_count": null,
   "metadata": {
    "collapsed": false
   },
   "outputs": [],
   "source": [
    "# Plot the iron concentration of the gas reservoir as a function of time\n",
    "%matplotlib nbagg\n",
    "yaxis = '[Fe/H]'\n",
    "o_res_1e12.plot_spectro(yaxis=yaxis, color='r', label='M_res = 1e12 Msun')\n",
    "o_res_1e11.plot_spectro(yaxis=yaxis, color='g', label='M_res = 1e11 Msun')\n",
    "o_res_1e10.plot_spectro(yaxis=yaxis, color='b', label='M_res = 1e10 Msun')\n",
    "#plt.xscale('log')"
   ]
  },
  {
   "cell_type": "markdown",
   "metadata": {},
   "source": [
    "### 1.2. Evolution of chemical abundances"
   ]
  },
  {
   "cell_type": "markdown",
   "metadata": {},
   "source": [
    "Although the mass of gas plays a significant role in the evolution of [Fe/H], the abundances provided by stellar yields are still similar from one case to another, as shown below."
   ]
  },
  {
   "cell_type": "code",
   "execution_count": null,
   "metadata": {
    "collapsed": false
   },
   "outputs": [],
   "source": [
    "# Plot the Si to Fe abundances of the gas reservoir as a function of time (you can try different elements).\n",
    "%matplotlib nbagg\n",
    "xaxis = 'age'\n",
    "yaxis = '[Si/Fe]'\n",
    "o_res_1e12.plot_spectro(xaxis=xaxis, yaxis=yaxis, color='r', label='mgal = 1e12 Msun')\n",
    "o_res_1e11.plot_spectro(xaxis=xaxis, yaxis=yaxis, color='g', label='mgal = 1e11 Msun')\n",
    "o_res_1e10.plot_spectro(xaxis=xaxis, yaxis=yaxis, color='b', label='mgal = 1e10 Msun')"
   ]
  },
  {
   "cell_type": "markdown",
   "metadata": {},
   "source": [
    "In the [X/Fe] vs [Fe/H] space, **scaling up and down the mass of gas shifts the predictions on the [Fe/H] axis**, almost like a pure translation, as shown below."
   ]
  },
  {
   "cell_type": "code",
   "execution_count": null,
   "metadata": {
    "collapsed": false
   },
   "outputs": [],
   "source": [
    "# Plot the Si to Fe abundances of the gas reservoir as a function of [Fe/H]\n",
    "%matplotlib nbagg\n",
    "xaxis = '[Fe/H]'\n",
    "o_res_1e12.plot_spectro(xaxis=xaxis, yaxis=yaxis, color='r', label='mgal = 1e12 Msun')\n",
    "o_res_1e11.plot_spectro(xaxis=xaxis, yaxis=yaxis, color='g', label='mgal = 1e11 Msun')\n",
    "o_res_1e10.plot_spectro(xaxis=xaxis, yaxis=yaxis, color='b', label='mgal = 1e10 Msun')\n",
    "plt.ylim(-0.2, 2.5)"
   ]
  },
  {
   "cell_type": "markdown",
   "metadata": {},
   "source": [
    "## 2. Number of Type Ia supernovae"
   ]
  },
  {
   "cell_type": "markdown",
   "metadata": {},
   "source": [
    "SNe Ia mostly eject Fe.  In the [X/Fe] vs [Fe/H] space, if SNe Ia do not eject significantly the element X compared to core-collapse SNe (CC SNe) or AGB stars, increasing the number of SNe Ia will increase your final Fe abundances without modifying the element X.  In other words, [X/Fe] will decrease, but [Fe/H] will increase."
   ]
  },
  {
   "cell_type": "code",
   "execution_count": null,
   "metadata": {
    "collapsed": false
   },
   "outputs": [],
   "source": [
    "# Run OMEGA simulations\n",
    "# Different numbers of SNe Ia per stellar mass formed in each simple stellar population (SYGMA)\n",
    "o_res_1e10_low_Ia  = omega.omega(cte_sfr=1.0, mgal=1e10, nb_1a_per_m=1.0e-4)\n",
    "o_res_1e10         = omega.omega(cte_sfr=1.0, mgal=1e10, nb_1a_per_m=1.0e-3)\n",
    "o_res_1e10_high_Ia = omega.omega(cte_sfr=1.0, mgal=1e10, nb_1a_per_m=1.0e-2)"
   ]
  },
  {
   "cell_type": "code",
   "execution_count": null,
   "metadata": {
    "collapsed": false
   },
   "outputs": [],
   "source": [
    "# Plot the iron concentration of the gas reservoir as a function of time\n",
    "%matplotlib nbagg\n",
    "xaxis = '[Fe/H]'\n",
    "yaxis = '[Si/Fe]'\n",
    "o_res_1e10_low_Ia.plot_spectro( xaxis=xaxis, yaxis=yaxis, color='g', label='nb_1a_per_m = 1e-4')\n",
    "o_res_1e10.plot_spectro(        xaxis=xaxis, yaxis=yaxis, color='r', label='nb_1a_per_m = 1e-3')\n",
    "o_res_1e10_high_Ia.plot_spectro(xaxis=xaxis, yaxis=yaxis, color='b', label='nb_1a_per_m = 1e-2')"
   ]
  },
  {
   "cell_type": "markdown",
   "metadata": {},
   "source": [
    "As seen in the above plot, SNe Ia only appear at [Fe/H] = -2.5.  Below this [Fe/H] value, the predictions are mainly driven by the ejecta of massive stars, as shown in the plot below."
   ]
  },
  {
   "cell_type": "code",
   "execution_count": null,
   "metadata": {
    "collapsed": false
   },
   "outputs": [],
   "source": [
    "%matplotlib nbagg\n",
    "# Plot the mass of Fe present inside the gas reservoir as a function of time.\n",
    "# Contribution of SNe Ia.\n",
    "specie = 'Fe'\n",
    "o_res_1e10_low_Ia.plot_mass( specie=specie, color='g', label='nb_1a_per_m = 1e-4', source='sn1a')\n",
    "o_res_1e10.plot_mass(        specie=specie, color='r', label='nb_1a_per_m = 1e-3', source='sn1a')\n",
    "o_res_1e10_high_Ia.plot_mass(specie=specie, color='b', label='nb_1a_per_m = 1e-2', source='sn1a')\n",
    "\n",
    "# Contribution of massive (winds+SNe) and AGB stars.\n",
    "o_res_1e10.plot_mass(specie=specie, color='k', label='massive stars', source='massive', shape='-')\n",
    "o_res_1e10.plot_mass(specie=specie, color='k', label='AGB stars',     source='agb',    shape='--')\n",
    "# You can drop the 'source' argument to plot the sum the contribution of all stars."
   ]
  },
  {
   "cell_type": "markdown",
   "metadata": {},
   "source": [
    "This plot shows that SNe Ia appear after 50 Myr of evolution, regardless of the total number of SNe Ia.  But, **their contribution to the chemical evolution won't be noticable until they start to overcome the contribution of massive stars**, which is about 200 Myr in the case with the blue line.  The plot below shows the evolution of [Fe/H] for different number of SNe Ia."
   ]
  },
  {
   "cell_type": "code",
   "execution_count": null,
   "metadata": {
    "collapsed": false
   },
   "outputs": [],
   "source": [
    "%matplotlib nbagg\n",
    "# Plot the evolution of [Fe/H] as a function of time.\n",
    "yaxis = '[Fe/H]'\n",
    "o_res_1e10_low_Ia.plot_spectro( yaxis=yaxis, color='g', label='nb_1a_per_m = 1e-4')\n",
    "o_res_1e10.plot_spectro(        yaxis=yaxis, color='r', label='nb_1a_per_m = 1e-3')\n",
    "o_res_1e10_high_Ia.plot_spectro(yaxis=yaxis, color='b', label='nb_1a_per_m = 1e-2')\n",
    "plt.xscale('log')"
   ]
  },
  {
   "cell_type": "markdown",
   "metadata": {},
   "source": [
    "The reason why the green and red lines are so similar is because CC SNe are dominating the Fe ejection, as opposed to the blue line case.  Different chemical evolution studies typically assume $\\sim[1-2]\\times10^{-3}$ SN Ia per stellar mass formed."
   ]
  },
  {
   "cell_type": "markdown",
   "metadata": {},
   "source": [
    "## 3. Star formation history"
   ]
  },
  {
   "cell_type": "markdown",
   "metadata": {},
   "source": [
    "The star formation history (SFH) sets how many stars are formed as a function of time.  Modifying the SFH can change the relative number of low- to high-metallicity stars.  This can alter the chemical evolution predictions, as stars with different initial metallicities do not necessarily have the same yields."
   ]
  },
  {
   "cell_type": "markdown",
   "metadata": {},
   "source": [
    "###3.1. Setting the input SFH"
   ]
  },
  {
   "cell_type": "code",
   "execution_count": null,
   "metadata": {
    "collapsed": false
   },
   "outputs": [],
   "source": [
    "# Time array [Gyr]\n",
    "t = [0.0, 6.5e9, 13.0e9]\n",
    "\n",
    "# Decreasing star formation history array [Msun/yr]\n",
    "sfr_dec = [7.0, 4.0, 1.0]\n",
    "sfh_array_dec = []\n",
    "for i in range(len(t)):\n",
    "    sfh_array_dec.append([t[i], sfr_dec[i]])\n",
    "\n",
    "# Increasing star formation history array [Msun/yr]\n",
    "sfr_inc = [1.0, 4.0, 7.0]\n",
    "sfh_array_inc = []\n",
    "for i in range(len(t)):\n",
    "    sfh_array_inc.append([t[i], sfr_inc[i]])"
   ]
  },
  {
   "cell_type": "code",
   "execution_count": null,
   "metadata": {
    "collapsed": false
   },
   "outputs": [],
   "source": [
    "# Run OMEGA simulations.\n",
    "# Different star formation histories within the same initial gas reservoir.\n",
    "o_cte = omega.omega(mgal=5e11, special_timesteps=30, cte_sfr=4.0)\n",
    "o_dec = omega.omega(mgal=5e11, special_timesteps=30, sfh_array=sfh_array_dec)\n",
    "o_inc = omega.omega(mgal=5e11, special_timesteps=30, sfh_array=sfh_array_inc)"
   ]
  },
  {
   "cell_type": "code",
   "execution_count": null,
   "metadata": {
    "collapsed": false
   },
   "outputs": [],
   "source": [
    "%matplotlib nbagg\n",
    "o_cte.plot_star_formation_rate(color='k')\n",
    "o_dec.plot_star_formation_rate(color='m')\n",
    "o_inc.plot_star_formation_rate(color='c')"
   ]
  },
  {
   "cell_type": "markdown",
   "metadata": {},
   "source": [
    "In this case, although the SFH are very different, the same amount of stars should be formed throughout the simulation.  This can be verified by summing mass locked into stars in all timesteps."
   ]
  },
  {
   "cell_type": "code",
   "execution_count": null,
   "metadata": {
    "collapsed": false
   },
   "outputs": [],
   "source": [
    "# Calculate the cumulated stellar mass (not corrected for stellar mass loss)\n",
    "print 'Total stellar mass formed'\n",
    "print '  Increasing SFH :', sum(o_inc.history.m_locked), 'Msun'\n",
    "print '  Constant SFH   :', sum(o_cte.history.m_locked), 'Msun'\n",
    "print '  Decreasing SFH :', sum(o_dec.history.m_locked), 'Msun'"
   ]
  },
  {
   "cell_type": "markdown",
   "metadata": {},
   "source": [
    "As shown in the calculation above, the total stellar masses are not the same.  This is due to a temporal resolution issue and to the fact that the value of the SFH at each timestep is multiplied by the duration of that timestep.  To solve this problem, you can use the *sfh_array_norm* parameter which normalizes the input SFH to generate the desired total stellar mass, regardless of the chosen resolution."
   ]
  },
  {
   "cell_type": "code",
   "execution_count": null,
   "metadata": {
    "collapsed": false
   },
   "outputs": [],
   "source": [
    "# Re-run OMEGA simulations with the sfh_array_norm parameter\n",
    "o_cte = omega.omega(mgal=5e11, special_timesteps=30, cte_sfr=4.0,             sfh_array_norm=5.2e10)\n",
    "o_dec = omega.omega(mgal=5e11, special_timesteps=30, sfh_array=sfh_array_dec, sfh_array_norm=5.2e10)\n",
    "o_inc = omega.omega(mgal=5e11, special_timesteps=30, sfh_array=sfh_array_inc, sfh_array_norm=5.2e10)"
   ]
  },
  {
   "cell_type": "markdown",
   "metadata": {},
   "source": [
    "The resulting SFHs are a little bit shifted, but the total stellar masses are now the same."
   ]
  },
  {
   "cell_type": "code",
   "execution_count": null,
   "metadata": {
    "collapsed": false
   },
   "outputs": [],
   "source": [
    "%matplotlib nbagg\n",
    "o_cte.plot_star_formation_rate(color='k')\n",
    "o_dec.plot_star_formation_rate(color='m')\n",
    "o_inc.plot_star_formation_rate(color='c')"
   ]
  },
  {
   "cell_type": "code",
   "execution_count": null,
   "metadata": {
    "collapsed": false
   },
   "outputs": [],
   "source": [
    "# Calculate the cumulated stellar mass (not corrected for stellar mass loss),\n",
    "# using the sfh_array_norm parameter\n",
    "print 'Total stellar mass formed'\n",
    "print '  Increasing SFH :', sum(o_inc.history.m_locked), 'Msun'\n",
    "print '  Constant SFH   :', sum(o_cte.history.m_locked), 'Msun'\n",
    "print '  Decreasing SFH :', sum(o_dec.history.m_locked), 'Msun'"
   ]
  },
  {
   "cell_type": "markdown",
   "metadata": {},
   "source": [
    "### 3.2. Evolution of Fe in the gas reservoir"
   ]
  },
  {
   "cell_type": "code",
   "execution_count": null,
   "metadata": {
    "collapsed": false
   },
   "outputs": [],
   "source": [
    "# Plot the mass of Fe present inside the gas reservoir as a function of time (you can try other elements).\n",
    "%matplotlib nbagg\n",
    "specie = 'Fe'\n",
    "\n",
    "# Increasing SFH\n",
    "o_inc.plot_mass(specie=specie, color='c', source='massive')\n",
    "#o_inc.plot_mass(specie=specie, color='c', source='sn1a')\n",
    "o_inc.plot_mass(specie=specie, color='c', source='agb')\n",
    "\n",
    "# Constant SFH\n",
    "o_cte.plot_mass(specie=specie, color='k', source='massive')\n",
    "#o_cte.plot_mass(specie=specie, color='k', source='sn1a')\n",
    "o_cte.plot_mass(specie=specie, color='k', source='agb')\n",
    "\n",
    "# Decreasing SFH\n",
    "o_dec.plot_mass(specie=specie, color='m', source='massive')\n",
    "#o_dec.plot_mass(specie=specie, color='m', source='sn1a')\n",
    "o_dec.plot_mass(specie=specie, color='m', source='agb')\n",
    "\n",
    "# Add legend directly on the plot\n",
    "plt.annotate('Decreasing SFH', color='m', xy=(0.6, 0.30), xycoords='axes fraction', fontsize=13)\n",
    "plt.annotate('Constant SFH',   color='k', xy=(0.6, 0.22), xycoords='axes fraction', fontsize=13)\n",
    "plt.annotate('Increasing SFH', color='c', xy=(0.6, 0.14), xycoords='axes fraction', fontsize=13)\n",
    "\n",
    "# Remove the default log scale of the x axis\n",
    "plt.xscale('linear')"
   ]
  },
  {
   "cell_type": "markdown",
   "metadata": {},
   "source": [
    "As shown in the plot above, more Fe is ejected at early times when the SFH peaks at the beginning of the simulation (pink lines).  At the end of the simulation (after 13 Gyr), the same mass of Fe is predicted for all three SFHs.  This is because, overall, the same amount of stars is formed in all cases.  However, for the contribution of AGB stars, there are minor variations.  Can you explain why?"
   ]
  },
  {
   "cell_type": "markdown",
   "metadata": {},
   "source": [
    "### 3.3. Evolution of chemical abundances"
   ]
  },
  {
   "cell_type": "markdown",
   "metadata": {},
   "source": [
    "Because we used the same initial gas reservoir and the same total stellar mass, **different SFHs therefore generate different enrichment paths** between the initial and final [Fe/H] values, which are the same in all cases."
   ]
  },
  {
   "cell_type": "code",
   "execution_count": null,
   "metadata": {
    "collapsed": false
   },
   "outputs": [],
   "source": [
    "# Plot the evolution of [Fe/H]\n",
    "%matplotlib nbagg\n",
    "o_inc.plot_spectro(color='c')\n",
    "o_cte.plot_spectro(color='k')\n",
    "o_dec.plot_spectro(color='m')\n",
    "plt.ylim(-6,0)"
   ]
  },
  {
   "cell_type": "markdown",
   "metadata": {},
   "source": [
    "However, as seen in the plot below, the relative metal abundances are still similar from one case to another, as those are linked to the composition of the SSP ejecta (stellar yields)."
   ]
  },
  {
   "cell_type": "code",
   "execution_count": null,
   "metadata": {
    "collapsed": false
   },
   "outputs": [],
   "source": [
    "# Plot the evolution of [Si/Fe]\n",
    "%matplotlib nbagg\n",
    "yaxis = '[Si/Fe]'\n",
    "o_inc.plot_spectro(yaxis=yaxis, color='c')\n",
    "o_cte.plot_spectro(yaxis=yaxis, color='k')\n",
    "o_dec.plot_spectro(yaxis=yaxis, color='m', shape='--')"
   ]
  },
  {
   "cell_type": "markdown",
   "metadata": {},
   "source": [
    "As shown below, in the [X/Fe] vs [Fe/H] space, **modifying the SFH shifts your chemical evolution predictions on the [Fe/H] axis, but only at low [Fe/H] (at early times)**, as opposed to modifying the mass of the gas reservoir, which generate shifts for all [Fe/H] values."
   ]
  },
  {
   "cell_type": "code",
   "execution_count": null,
   "metadata": {
    "collapsed": false
   },
   "outputs": [],
   "source": [
    "# Plot the predicted chemical evolution.\n",
    "%matplotlib nbagg\n",
    "xaxis = '[Fe/H]'\n",
    "yaxis = '[Si/Fe]'\n",
    "o_inc.plot_spectro(xaxis=xaxis, yaxis=yaxis, color='c', label='Increasing SFH')\n",
    "o_cte.plot_spectro(xaxis=xaxis, yaxis=yaxis, color='k', label='Constant SFH')\n",
    "o_dec.plot_spectro(xaxis=xaxis, yaxis=yaxis, color='m', label='Decreasing SFH')"
   ]
  },
  {
   "cell_type": "markdown",
   "metadata": {},
   "source": [
    "If you have any question, please contact Benoit Côté at bcote@uvic.ca"
   ]
  }
 ],
 "metadata": {
  "kernelspec": {
   "display_name": "Python 2",
   "language": "python",
   "name": "python2"
  },
  "language_info": {
   "codemirror_mode": {
    "name": "ipython",
    "version": 2
   },
   "file_extension": ".py",
   "mimetype": "text/x-python",
   "name": "python",
   "nbconvert_exporter": "python",
   "pygments_lexer": "ipython2",
   "version": "2.7.12"
  }
 },
 "nbformat": 4,
 "nbformat_minor": 0
}
