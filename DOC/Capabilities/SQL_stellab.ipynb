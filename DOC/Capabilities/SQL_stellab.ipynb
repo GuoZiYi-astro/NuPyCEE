{
 "cells": [
  {
   "cell_type": "markdown",
   "metadata": {},
   "source": [
    "SQL code to create stellab database"
   ]
  },
  {
   "cell_type": "code",
   "execution_count": 1,
   "metadata": {
    "collapsed": true
   },
   "outputs": [],
   "source": [
    "#pip install pymysql"
   ]
  },
  {
   "cell_type": "code",
   "execution_count": 47,
   "metadata": {},
   "outputs": [],
   "source": [
    "import sqlite3\n",
    "import stellab as st"
   ]
  },
  {
   "cell_type": "markdown",
   "metadata": {},
   "source": [
    "SQLite is a C library that provides a lightweight disk-based database that doesn’t require a separate server process and allows accessing the database using a nonstandard variant of the SQL query language. "
   ]
  },
  {
   "cell_type": "code",
   "execution_count": 35,
   "metadata": {},
   "outputs": [
    {
     "name": "stdout",
     "output_type": "stream",
     "text": [
      "rm: stellab.db: No such file or directory\r\n"
     ]
    }
   ],
   "source": [
    "!rm stellab.db"
   ]
  },
  {
   "cell_type": "markdown",
   "metadata": {},
   "source": [
    "Creating database and table refs"
   ]
  },
  {
   "cell_type": "code",
   "execution_count": 40,
   "metadata": {},
   "outputs": [],
   "source": [
    "db=sqlite3.connect('stellab.db')\n",
    "curser=db.cursor()\n",
    "curser.execute('''CREATE TABLE IF NOT EXISTS refs (refid integer primary key autoincrement, name text, year year, nasads text)''')\n",
    "db.commit()"
   ]
  },
  {
   "cell_type": "markdown",
   "metadata": {},
   "source": [
    "Add entries"
   ]
  },
  {
   "cell_type": "code",
   "execution_count": 52,
   "metadata": {},
   "outputs": [],
   "source": [
    "st1=st.stellab()\n",
    "#papers=st1.list_ref_papers()\n",
    "legs=st1.leg"
   ]
  },
  {
   "cell_type": "code",
   "execution_count": 61,
   "metadata": {},
   "outputs": [],
   "source": [
    "name=[]\n",
    "year=[]\n",
    "for i,labels in enumerate(legs):\n",
    "    name.append(labels.split('(')[0].strip())\n",
    "    year.append(labels.split('(')[1].strip()[:-1])"
   ]
  },
  {
   "cell_type": "code",
   "execution_count": 63,
   "metadata": {},
   "outputs": [
    {
     "data": {
      "text/plain": [
       "['R13',\n",
       " '2010',\n",
       " '2004',\n",
       " '2014',\n",
       " '2004',\n",
       " '2007',\n",
       " '2008',\n",
       " '2010',\n",
       " '2005',\n",
       " '2004',\n",
       " '2009',\n",
       " '2005',\n",
       " '2004',\n",
       " '2009',\n",
       " '2003',\n",
       " '2004',\n",
       " '2008',\n",
       " '2007',\n",
       " '2006',\n",
       " '2003',\n",
       " '2005',\n",
       " '2016',\n",
       " '2014',\n",
       " '2013',\n",
       " '2014',\n",
       " '2015',\n",
       " '2013',\n",
       " '2015',\n",
       " '2013',\n",
       " '2013',\n",
       " '2012',\n",
       " '2008',\n",
       " '2012',\n",
       " '2012-13',\n",
       " '2009',\n",
       " '2014',\n",
       " '2010',\n",
       " '2010',\n",
       " '2013',\n",
       " '2015',\n",
       " '2010',\n",
       " '2014',\n",
       " '2017',\n",
       " '2015',\n",
       " '2012',\n",
       " '2012',\n",
       " '2012',\n",
       " '2008']"
      ]
     },
     "execution_count": 63,
     "metadata": {},
     "output_type": "execute_result"
    }
   ],
   "source": [
    "year"
   ]
  },
  {
   "cell_type": "code",
   "execution_count": 37,
   "metadata": {
    "collapsed": true
   },
   "outputs": [],
   "source": [
    "data=[['Venn',2012,'http://adsabs.harvard.edu/abs/2012ApJ...751..102V']]"
   ]
  },
  {
   "cell_type": "code",
   "execution_count": 38,
   "metadata": {},
   "outputs": [],
   "source": [
    "curser.executemany('''INSERT INTO refs (name,year,nasads) VALUES ( ?, ?, ?)''', data)\n",
    "db.commit()"
   ]
  },
  {
   "cell_type": "markdown",
   "metadata": {},
   "source": [
    "Get entries"
   ]
  },
  {
   "cell_type": "code",
   "execution_count": 39,
   "metadata": {},
   "outputs": [
    {
     "data": {
      "text/plain": [
       "[(1, u'Venn', 2012, u'http://adsabs.harvard.edu/abs/2012ApJ...751..102V')]"
      ]
     },
     "execution_count": 39,
     "metadata": {},
     "output_type": "execute_result"
    }
   ],
   "source": [
    "results=db.execute('SELECT * FROM refs')\n",
    "results.fetchall()"
   ]
  },
  {
   "cell_type": "code",
   "execution_count": null,
   "metadata": {
    "collapsed": true
   },
   "outputs": [],
   "source": []
  }
 ],
 "metadata": {
  "kernelspec": {
   "display_name": "Python 2",
   "language": "python",
   "name": "python2"
  }
 },
 "nbformat": 4,
 "nbformat_minor": 2
}
