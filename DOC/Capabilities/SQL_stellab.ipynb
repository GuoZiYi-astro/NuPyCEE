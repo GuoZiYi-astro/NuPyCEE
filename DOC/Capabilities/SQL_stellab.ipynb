{
 "cells": [
  {
   "cell_type": "markdown",
   "metadata": {
    "deletable": true,
    "editable": true
   },
   "source": [
    "# The SQL database for Stellab"
   ]
  },
  {
   "cell_type": "code",
   "execution_count": 345,
   "metadata": {
    "collapsed": false
   },
   "outputs": [
    {
     "data": {
      "text/plain": [
       "<module 'stellab_sql' from 'stellab_sql.py'>"
      ]
     },
     "execution_count": 345,
     "metadata": {},
     "output_type": "execute_result"
    }
   ],
   "source": [
    "import stellab_sql\n",
    "reload(stellab_sql)"
   ]
  },
  {
   "cell_type": "markdown",
   "metadata": {
    "deletable": true,
    "editable": true
   },
   "source": [
    "Towards a stellab widget interface, similar to SYGMA and OMEGA widgets."
   ]
  },
  {
   "cell_type": "markdown",
   "metadata": {
    "deletable": true,
    "editable": true
   },
   "source": [
    "SQL code to create stellab database. The table structure is shown below."
   ]
  },
  {
   "cell_type": "markdown",
   "metadata": {
    "deletable": true,
    "editable": true
   },
   "source": [
    "Some technical aspects about our tables:\n",
    "* refs: Table with literature references:\n",
    "    * refid: unique reference id (PK)\n",
    "    * fauthor: first author\n",
    "    * year\n",
    "    * nasaads: link to nasa ads page\n",
    "\n",
    "* galaxies\n",
    "    * gali: unique ref id\n",
    "    * name: galaxy name\n",
    "\n",
    "* solarnorms\n",
    "    * normid: unique reference id (PK)\n",
    "    * H, He... abundance entries\n",
    "    * refids\n",
    "* abu_table_reg\n",
    "    * abu_reg_id uniqure reference\n",
    "    * refid to look up literature\n",
    "    * table name to look up abundance table\n",
    "    * normid to look up normalization used\n",
    "\n",
    "* multiple abundance tables, all with\n",
    "    * abuid: unique reference id\n",
    "    * element ratio1, element ratio2...\n",
    "    * error1, errror2 ...\n",
    "\n",
    "Rules:\n",
    "* Internal connection only via (private keys) PKs.\n",
    "* On user level no interaction with PKs.\n",
    "* As such table entries (except PKs) can be easily modified without allowing any disconnections between tables.\n",
    "\n",
    "Tips:\n",
    "* Use not null\n",
    "* fixed lenght type arrays are faster"
   ]
  },
  {
   "cell_type": "markdown",
   "metadata": {
    "deletable": true,
    "editable": true
   },
   "source": [
    "### Add references"
   ]
  },
  {
   "cell_type": "code",
   "execution_count": 346,
   "metadata": {
    "collapsed": false,
    "deletable": true,
    "editable": true
   },
   "outputs": [],
   "source": [
    "st1=st.stellab()\n",
    "#papers=st1.list_ref_papers()\n",
    "legs=st1.leg\n",
    "\n",
    "name=[]\n",
    "year=[]\n",
    "for i,labels in enumerate(legs):\n",
    "    name.append(labels.split('(')[0].strip())\n",
    "    year.append(labels.split('(')[1].strip()[:-1])"
   ]
  },
  {
   "cell_type": "code",
   "execution_count": 347,
   "metadata": {
    "collapsed": false,
    "deletable": true,
    "editable": true
   },
   "outputs": [
    {
     "name": "stdout",
     "output_type": "stream",
     "text": [
      "Anders_Grevesse_1989\n",
      "Grevesse_Noels_1993\n",
      "Grevesse_Sauval_1998\n",
      "Asplund_et_al_2009\n",
      "Asplund_et_al_2005\n",
      "Lodders_et_al_2009\n"
     ]
    }
   ],
   "source": [
    "st1.list_solar_norm()"
   ]
  },
  {
   "cell_type": "markdown",
   "metadata": {},
   "source": [
    "## I. Create database with empty tables"
   ]
  },
  {
   "cell_type": "code",
   "execution_count": 348,
   "metadata": {
    "collapsed": false
   },
   "outputs": [
    {
     "name": "stdout",
     "output_type": "stream",
     "text": [
      "database created.\n"
     ]
    }
   ],
   "source": [
    "stsql=stellab_sql.stellab_sql(db_name='stellab.db')"
   ]
  },
  {
   "cell_type": "markdown",
   "metadata": {
    "deletable": true,
    "editable": true
   },
   "source": [
    "## II. Examples how to add and retrieve data."
   ]
  },
  {
   "cell_type": "markdown",
   "metadata": {
    "deletable": true,
    "editable": true
   },
   "source": [
    "#### Before we add abundance data we need to add a related solar normalization data and (paper) reference. The solar normalization data goes in one table (solarnorms table) and the paper reference in another (refs table)."
   ]
  },
  {
   "cell_type": "code",
   "execution_count": 349,
   "metadata": {
    "collapsed": false,
    "deletable": true,
    "editable": true
   },
   "outputs": [
    {
     "name": "stdout",
     "output_type": "stream",
     "text": [
      "add paper for solar normalization to table refs.\n",
      "add paper related to abundance to table refs.\n"
     ]
    }
   ],
   "source": [
    "#add normalization data\n",
    "normalization_paper=['Anders',1989,'http://ukads.nottingham.ac.uk/abs/1993A%26A...271..587G']\n",
    "normalization_label=['H','He','Fe']\n",
    "normalization_data = [-2.81,0.34,0.01]\n",
    "stsql.add_solar_normalization(normalization_paper,normalization_label,normalization_data)"
   ]
  },
  {
   "cell_type": "markdown",
   "metadata": {
    "deletable": true,
    "editable": true
   },
   "source": [
    "check that table with solar noramlization data is correctly populated:"
   ]
  },
  {
   "cell_type": "code",
   "execution_count": 350,
   "metadata": {
    "collapsed": false,
    "deletable": true,
    "editable": true,
    "scrolled": true
   },
   "outputs": [
    {
     "data": {
      "text/html": [
       "\n",
       "        <style  type=\"text/css\" >\n",
       "        \n",
       "        \n",
       "        </style>\n",
       "\n",
       "        <table id=\"T_43558821_ab5c_11e7_974b_c869cda175ec\" None>\n",
       "        \n",
       "\n",
       "        <thead>\n",
       "            \n",
       "            <tr>\n",
       "                \n",
       "                \n",
       "                <th class=\"blank level0\" >\n",
       "                  \n",
       "                \n",
       "                \n",
       "                \n",
       "                <th class=\"col_heading level0 col0\" colspan=1>\n",
       "                  normid\n",
       "                \n",
       "                \n",
       "                \n",
       "                <th class=\"col_heading level0 col1\" colspan=1>\n",
       "                  H\n",
       "                \n",
       "                \n",
       "                \n",
       "                <th class=\"col_heading level0 col2\" colspan=1>\n",
       "                  He\n",
       "                \n",
       "                \n",
       "                \n",
       "                <th class=\"col_heading level0 col3\" colspan=1>\n",
       "                  refid\n",
       "                \n",
       "                \n",
       "                \n",
       "                <th class=\"col_heading level0 col4\" colspan=1>\n",
       "                  Fe\n",
       "                \n",
       "                \n",
       "                \n",
       "                <th class=\"col_heading level0 col5\" colspan=1>\n",
       "                  fauthor\n",
       "                \n",
       "                \n",
       "                \n",
       "                <th class=\"col_heading level0 col6\" colspan=1>\n",
       "                  year\n",
       "                \n",
       "                \n",
       "                \n",
       "                <th class=\"col_heading level0 col7\" colspan=1>\n",
       "                  nasaads\n",
       "                \n",
       "                \n",
       "            </tr>\n",
       "            \n",
       "        </thead>\n",
       "        <tbody>\n",
       "            \n",
       "            <tr>\n",
       "                \n",
       "                \n",
       "                <th id=\"T_43558821_ab5c_11e7_974b_c869cda175ec\"\n",
       "                 class=\"row_heading level0 row0\" rowspan=1>\n",
       "                    0\n",
       "                \n",
       "                \n",
       "                \n",
       "                <td id=\"T_43558821_ab5c_11e7_974b_c869cda175ecrow0_col0\"\n",
       "                 class=\"data row0 col0\" >\n",
       "                    1\n",
       "                \n",
       "                \n",
       "                \n",
       "                <td id=\"T_43558821_ab5c_11e7_974b_c869cda175ecrow0_col1\"\n",
       "                 class=\"data row0 col1\" >\n",
       "                    -2.81\n",
       "                \n",
       "                \n",
       "                \n",
       "                <td id=\"T_43558821_ab5c_11e7_974b_c869cda175ecrow0_col2\"\n",
       "                 class=\"data row0 col2\" >\n",
       "                    0.34\n",
       "                \n",
       "                \n",
       "                \n",
       "                <td id=\"T_43558821_ab5c_11e7_974b_c869cda175ecrow0_col3\"\n",
       "                 class=\"data row0 col3\" >\n",
       "                    1\n",
       "                \n",
       "                \n",
       "                \n",
       "                <td id=\"T_43558821_ab5c_11e7_974b_c869cda175ecrow0_col4\"\n",
       "                 class=\"data row0 col4\" >\n",
       "                    0.01\n",
       "                \n",
       "                \n",
       "                \n",
       "                <td id=\"T_43558821_ab5c_11e7_974b_c869cda175ecrow0_col5\"\n",
       "                 class=\"data row0 col5\" >\n",
       "                    Anders\n",
       "                \n",
       "                \n",
       "                \n",
       "                <td id=\"T_43558821_ab5c_11e7_974b_c869cda175ecrow0_col6\"\n",
       "                 class=\"data row0 col6\" >\n",
       "                    1989\n",
       "                \n",
       "                \n",
       "                \n",
       "                <td id=\"T_43558821_ab5c_11e7_974b_c869cda175ecrow0_col7\"\n",
       "                 class=\"data row0 col7\" >\n",
       "                    <a href=\"http://ukads.nottingham.ac.uk/abs/1993A%26A...271..587G\">http://ukads.nottingham.ac.uk/abs/1993A%26A...271..587G</a>\n",
       "                \n",
       "                \n",
       "            </tr>\n",
       "            \n",
       "        </tbody>\n",
       "        </table>\n",
       "        "
      ],
      "text/plain": [
       "<pandas.formats.style.Styler at 0x1126b19d0>"
      ]
     },
     "execution_count": 350,
     "metadata": {},
     "output_type": "execute_result"
    }
   ],
   "source": [
    "#did we successfully created database entry in solar normalization table?\n",
    "stsql.get_solar_normalizations()"
   ]
  },
  {
   "cell_type": "markdown",
   "metadata": {
    "deletable": true,
    "editable": true
   },
   "source": [
    "Lets update an entry of the normalization table."
   ]
  },
  {
   "cell_type": "code",
   "execution_count": 351,
   "metadata": {
    "collapsed": false,
    "deletable": true,
    "editable": true
   },
   "outputs": [
    {
     "name": "stdout",
     "output_type": "stream",
     "text": [
      "found corresponding normalization data.\n",
      "Solar normalization entries updated.\n"
     ]
    }
   ],
   "source": [
    "normalization_paper=['Anders',1989]\n",
    "stsql.update_solar_normalizations(normalization_paper,update={'He':89})"
   ]
  },
  {
   "cell_type": "code",
   "execution_count": 352,
   "metadata": {
    "collapsed": false,
    "deletable": true,
    "editable": true
   },
   "outputs": [
    {
     "data": {
      "text/html": [
       "\n",
       "        <style  type=\"text/css\" >\n",
       "        \n",
       "        \n",
       "        </style>\n",
       "\n",
       "        <table id=\"T_43a2c307_ab5c_11e7_8ecd_c869cda175ec\" None>\n",
       "        \n",
       "\n",
       "        <thead>\n",
       "            \n",
       "            <tr>\n",
       "                \n",
       "                \n",
       "                <th class=\"blank level0\" >\n",
       "                  \n",
       "                \n",
       "                \n",
       "                \n",
       "                <th class=\"col_heading level0 col0\" colspan=1>\n",
       "                  normid\n",
       "                \n",
       "                \n",
       "                \n",
       "                <th class=\"col_heading level0 col1\" colspan=1>\n",
       "                  H\n",
       "                \n",
       "                \n",
       "                \n",
       "                <th class=\"col_heading level0 col2\" colspan=1>\n",
       "                  He\n",
       "                \n",
       "                \n",
       "                \n",
       "                <th class=\"col_heading level0 col3\" colspan=1>\n",
       "                  refid\n",
       "                \n",
       "                \n",
       "                \n",
       "                <th class=\"col_heading level0 col4\" colspan=1>\n",
       "                  Fe\n",
       "                \n",
       "                \n",
       "                \n",
       "                <th class=\"col_heading level0 col5\" colspan=1>\n",
       "                  fauthor\n",
       "                \n",
       "                \n",
       "                \n",
       "                <th class=\"col_heading level0 col6\" colspan=1>\n",
       "                  year\n",
       "                \n",
       "                \n",
       "                \n",
       "                <th class=\"col_heading level0 col7\" colspan=1>\n",
       "                  nasaads\n",
       "                \n",
       "                \n",
       "            </tr>\n",
       "            \n",
       "        </thead>\n",
       "        <tbody>\n",
       "            \n",
       "            <tr>\n",
       "                \n",
       "                \n",
       "                <th id=\"T_43a2c307_ab5c_11e7_8ecd_c869cda175ec\"\n",
       "                 class=\"row_heading level0 row0\" rowspan=1>\n",
       "                    0\n",
       "                \n",
       "                \n",
       "                \n",
       "                <td id=\"T_43a2c307_ab5c_11e7_8ecd_c869cda175ecrow0_col0\"\n",
       "                 class=\"data row0 col0\" >\n",
       "                    1\n",
       "                \n",
       "                \n",
       "                \n",
       "                <td id=\"T_43a2c307_ab5c_11e7_8ecd_c869cda175ecrow0_col1\"\n",
       "                 class=\"data row0 col1\" >\n",
       "                    -2.81\n",
       "                \n",
       "                \n",
       "                \n",
       "                <td id=\"T_43a2c307_ab5c_11e7_8ecd_c869cda175ecrow0_col2\"\n",
       "                 class=\"data row0 col2\" >\n",
       "                    89.0\n",
       "                \n",
       "                \n",
       "                \n",
       "                <td id=\"T_43a2c307_ab5c_11e7_8ecd_c869cda175ecrow0_col3\"\n",
       "                 class=\"data row0 col3\" >\n",
       "                    1\n",
       "                \n",
       "                \n",
       "                \n",
       "                <td id=\"T_43a2c307_ab5c_11e7_8ecd_c869cda175ecrow0_col4\"\n",
       "                 class=\"data row0 col4\" >\n",
       "                    0.01\n",
       "                \n",
       "                \n",
       "                \n",
       "                <td id=\"T_43a2c307_ab5c_11e7_8ecd_c869cda175ecrow0_col5\"\n",
       "                 class=\"data row0 col5\" >\n",
       "                    Anders\n",
       "                \n",
       "                \n",
       "                \n",
       "                <td id=\"T_43a2c307_ab5c_11e7_8ecd_c869cda175ecrow0_col6\"\n",
       "                 class=\"data row0 col6\" >\n",
       "                    1989\n",
       "                \n",
       "                \n",
       "                \n",
       "                <td id=\"T_43a2c307_ab5c_11e7_8ecd_c869cda175ecrow0_col7\"\n",
       "                 class=\"data row0 col7\" >\n",
       "                    <a href=\"http://ukads.nottingham.ac.uk/abs/1993A%26A...271..587G\">http://ukads.nottingham.ac.uk/abs/1993A%26A...271..587G</a>\n",
       "                \n",
       "                \n",
       "            </tr>\n",
       "            \n",
       "        </tbody>\n",
       "        </table>\n",
       "        "
      ],
      "text/plain": [
       "<pandas.formats.style.Styler at 0x112671d90>"
      ]
     },
     "execution_count": 352,
     "metadata": {},
     "output_type": "execute_result"
    }
   ],
   "source": [
    "stsql.get_solar_normalizations()"
   ]
  },
  {
   "cell_type": "code",
   "execution_count": 353,
   "metadata": {
    "collapsed": false,
    "deletable": true,
    "editable": true
   },
   "outputs": [
    {
     "name": "stdout",
     "output_type": "stream",
     "text": [
      "found corresponding normalization data.\n",
      "Column value  fauthor  belongs to paper reference table. Update value via update_paper_refs()\n"
     ]
    }
   ],
   "source": [
    "normalization_paper=['Anders',1989]\n",
    "stsql.update_solar_normalizations(normalization_paper,update={'fauthor':'Mr. X'})"
   ]
  },
  {
   "cell_type": "markdown",
   "metadata": {
    "deletable": true,
    "editable": true
   },
   "source": [
    "Check if table with paper references is correctly updated:"
   ]
  },
  {
   "cell_type": "code",
   "execution_count": 354,
   "metadata": {
    "collapsed": false,
    "deletable": true,
    "editable": true
   },
   "outputs": [
    {
     "data": {
      "text/html": [
       "\n",
       "        <style  type=\"text/css\" >\n",
       "        \n",
       "        \n",
       "        </style>\n",
       "\n",
       "        <table id=\"T_43ef0111_ab5c_11e7_92e4_c869cda175ec\" None>\n",
       "        \n",
       "\n",
       "        <thead>\n",
       "            \n",
       "            <tr>\n",
       "                \n",
       "                \n",
       "                <th class=\"blank level0\" >\n",
       "                  \n",
       "                \n",
       "                \n",
       "                \n",
       "                <th class=\"col_heading level0 col0\" colspan=1>\n",
       "                  refid\n",
       "                \n",
       "                \n",
       "                \n",
       "                <th class=\"col_heading level0 col1\" colspan=1>\n",
       "                  fauthor\n",
       "                \n",
       "                \n",
       "                \n",
       "                <th class=\"col_heading level0 col2\" colspan=1>\n",
       "                  year\n",
       "                \n",
       "                \n",
       "                \n",
       "                <th class=\"col_heading level0 col3\" colspan=1>\n",
       "                  nasads\n",
       "                \n",
       "                \n",
       "            </tr>\n",
       "            \n",
       "        </thead>\n",
       "        <tbody>\n",
       "            \n",
       "            <tr>\n",
       "                \n",
       "                \n",
       "                <th id=\"T_43ef0111_ab5c_11e7_92e4_c869cda175ec\"\n",
       "                 class=\"row_heading level0 row0\" rowspan=1>\n",
       "                    0\n",
       "                \n",
       "                \n",
       "                \n",
       "                <td id=\"T_43ef0111_ab5c_11e7_92e4_c869cda175ecrow0_col0\"\n",
       "                 class=\"data row0 col0\" >\n",
       "                    1\n",
       "                \n",
       "                \n",
       "                \n",
       "                <td id=\"T_43ef0111_ab5c_11e7_92e4_c869cda175ecrow0_col1\"\n",
       "                 class=\"data row0 col1\" >\n",
       "                    Anders\n",
       "                \n",
       "                \n",
       "                \n",
       "                <td id=\"T_43ef0111_ab5c_11e7_92e4_c869cda175ecrow0_col2\"\n",
       "                 class=\"data row0 col2\" >\n",
       "                    1989\n",
       "                \n",
       "                \n",
       "                \n",
       "                <td id=\"T_43ef0111_ab5c_11e7_92e4_c869cda175ecrow0_col3\"\n",
       "                 class=\"data row0 col3\" >\n",
       "                    <a href=\"http://ukads.nottingham.ac.uk/abs/1993A%26A...271..587G\">http://ukads.nottingham.ac.uk/abs/1993A%26A...271..587G</a>\n",
       "                \n",
       "                \n",
       "            </tr>\n",
       "            \n",
       "        </tbody>\n",
       "        </table>\n",
       "        "
      ],
      "text/plain": [
       "<pandas.formats.style.Styler at 0x11260e990>"
      ]
     },
     "execution_count": 354,
     "metadata": {},
     "output_type": "execute_result"
    }
   ],
   "source": [
    "#lets see if there is an entry for the paper referene in the refs table\n",
    "stsql.get_paper_refs()"
   ]
  },
  {
   "cell_type": "code",
   "execution_count": 355,
   "metadata": {
    "collapsed": false,
    "deletable": true,
    "editable": true
   },
   "outputs": [
    {
     "name": "stdout",
     "output_type": "stream",
     "text": [
      "Paper reference updated.\n"
     ]
    }
   ],
   "source": [
    "refs_paper=['Anders',1989]\n",
    "stsql.update_paper_refs(refs_paper,update={'nasads':'http://ukads.nottingham.ac.uk/abs/1993A%26A...271..587G_NEW'})"
   ]
  },
  {
   "cell_type": "code",
   "execution_count": 356,
   "metadata": {
    "collapsed": false,
    "deletable": true,
    "editable": true
   },
   "outputs": [
    {
     "data": {
      "text/html": [
       "\n",
       "        <style  type=\"text/css\" >\n",
       "        \n",
       "        \n",
       "        </style>\n",
       "\n",
       "        <table id=\"T_4424e794_ab5c_11e7_98a1_c869cda175ec\" None>\n",
       "        \n",
       "\n",
       "        <thead>\n",
       "            \n",
       "            <tr>\n",
       "                \n",
       "                \n",
       "                <th class=\"blank level0\" >\n",
       "                  \n",
       "                \n",
       "                \n",
       "                \n",
       "                <th class=\"col_heading level0 col0\" colspan=1>\n",
       "                  refid\n",
       "                \n",
       "                \n",
       "                \n",
       "                <th class=\"col_heading level0 col1\" colspan=1>\n",
       "                  fauthor\n",
       "                \n",
       "                \n",
       "                \n",
       "                <th class=\"col_heading level0 col2\" colspan=1>\n",
       "                  year\n",
       "                \n",
       "                \n",
       "                \n",
       "                <th class=\"col_heading level0 col3\" colspan=1>\n",
       "                  nasads\n",
       "                \n",
       "                \n",
       "            </tr>\n",
       "            \n",
       "        </thead>\n",
       "        <tbody>\n",
       "            \n",
       "            <tr>\n",
       "                \n",
       "                \n",
       "                <th id=\"T_4424e794_ab5c_11e7_98a1_c869cda175ec\"\n",
       "                 class=\"row_heading level0 row0\" rowspan=1>\n",
       "                    0\n",
       "                \n",
       "                \n",
       "                \n",
       "                <td id=\"T_4424e794_ab5c_11e7_98a1_c869cda175ecrow0_col0\"\n",
       "                 class=\"data row0 col0\" >\n",
       "                    1\n",
       "                \n",
       "                \n",
       "                \n",
       "                <td id=\"T_4424e794_ab5c_11e7_98a1_c869cda175ecrow0_col1\"\n",
       "                 class=\"data row0 col1\" >\n",
       "                    Anders\n",
       "                \n",
       "                \n",
       "                \n",
       "                <td id=\"T_4424e794_ab5c_11e7_98a1_c869cda175ecrow0_col2\"\n",
       "                 class=\"data row0 col2\" >\n",
       "                    1989\n",
       "                \n",
       "                \n",
       "                \n",
       "                <td id=\"T_4424e794_ab5c_11e7_98a1_c869cda175ecrow0_col3\"\n",
       "                 class=\"data row0 col3\" >\n",
       "                    <a href=\"http://ukads.nottingham.ac.uk/abs/1993A%26A...271..587G_NEW\">http://ukads.nottingham.ac.uk/abs/1993A%26A...271..587G_NEW</a>\n",
       "                \n",
       "                \n",
       "            </tr>\n",
       "            \n",
       "        </tbody>\n",
       "        </table>\n",
       "        "
      ],
      "text/plain": [
       "<pandas.formats.style.Styler at 0x1126ad690>"
      ]
     },
     "execution_count": 356,
     "metadata": {},
     "output_type": "execute_result"
    }
   ],
   "source": [
    "stsql.get_paper_refs()"
   ]
  },
  {
   "cell_type": "markdown",
   "metadata": {
    "deletable": true,
    "editable": true
   },
   "source": [
    "#### Add one abundance data table. A new table with abundance data is created and a new entry is added to the abu_table_reg table. The latter table holds the names and info about all abundance data tables available."
   ]
  },
  {
   "cell_type": "code",
   "execution_count": 357,
   "metadata": {
    "collapsed": false,
    "deletable": true,
    "editable": true
   },
   "outputs": [
    {
     "name": "stdout",
     "output_type": "stream",
     "text": [
      "found corresponding normalization data.\n",
      "add paper related to abundance to table refs.\n",
      "galaxy name  Milky Way\n",
      "create table  abu_table_1\n"
     ]
    }
   ],
   "source": [
    "#add abundance data\n",
    "abundance_paper=['Venn',2012,'http://adsabs.harvard.edu/abs/2012ApJ...751..102V','Milky Way']\n",
    "#corresponding normalization for abundance data. Must be existant in database, else use add_solar_normalization() above.\n",
    "abundance_norm=['Anders','1989']\n",
    "#plain data\n",
    "abundance_label=['[Fe/H]','err']\n",
    "abundance_data = [-2.81,0.34]\n",
    "stsql.add_abundance_data(abundance_paper,abundance_norm,abundance_label,abundance_data)"
   ]
  },
  {
   "cell_type": "code",
   "execution_count": 358,
   "metadata": {
    "collapsed": false,
    "deletable": true,
    "editable": true
   },
   "outputs": [
    {
     "name": "stdout",
     "output_type": "stream",
     "text": [
      "[(1, -1.0, -0.3)]\n"
     ]
    },
    {
     "data": {
      "text/html": [
       "<div>\n",
       "<table border=\"1\" class=\"dataframe\">\n",
       "  <thead>\n",
       "    <tr style=\"text-align: right;\">\n",
       "      <th></th>\n",
       "      <th>abuid</th>\n",
       "      <th>Fe/H</th>\n",
       "      <th>err</th>\n",
       "    </tr>\n",
       "  </thead>\n",
       "  <tbody>\n",
       "    <tr>\n",
       "      <th>0</th>\n",
       "      <td>1</td>\n",
       "      <td>-1.0</td>\n",
       "      <td>-0.3</td>\n",
       "    </tr>\n",
       "  </tbody>\n",
       "</table>\n",
       "</div>"
      ],
      "text/plain": [
       "   abuid  Fe/H  err\n",
       "0      1  -1.0 -0.3"
      ]
     },
     "execution_count": 358,
     "metadata": {},
     "output_type": "execute_result"
    }
   ],
   "source": [
    "#check if table exists, and print it.\n",
    "get_abundance_paper=['Venn',2012,'Milky Way']\n",
    "get_abundance_data(abu_paper=get_abundance_paper)"
   ]
  },
  {
   "cell_type": "code",
   "execution_count": 359,
   "metadata": {
    "collapsed": false,
    "deletable": true,
    "editable": true
   },
   "outputs": [
    {
     "data": {
      "text/html": [
       "\n",
       "        <style  type=\"text/css\" >\n",
       "        \n",
       "        \n",
       "        </style>\n",
       "\n",
       "        <table id=\"T_44844a2e_ab5c_11e7_837a_c869cda175ec\" None>\n",
       "        \n",
       "\n",
       "        <thead>\n",
       "            \n",
       "            <tr>\n",
       "                \n",
       "                \n",
       "                <th class=\"blank level0\" >\n",
       "                  \n",
       "                \n",
       "                \n",
       "                \n",
       "                <th class=\"col_heading level0 col0\" colspan=1>\n",
       "                  abu_reg_id\n",
       "                \n",
       "                \n",
       "                \n",
       "                <th class=\"col_heading level0 col1\" colspan=1>\n",
       "                  refid\n",
       "                \n",
       "                \n",
       "                \n",
       "                <th class=\"col_heading level0 col2\" colspan=1>\n",
       "                  normid\n",
       "                \n",
       "                \n",
       "                \n",
       "                <th class=\"col_heading level0 col3\" colspan=1>\n",
       "                  abutable\n",
       "                \n",
       "                \n",
       "                \n",
       "                <th class=\"col_heading level0 col4\" colspan=1>\n",
       "                  galid\n",
       "                \n",
       "                \n",
       "                \n",
       "                <th class=\"col_heading level0 col5\" colspan=1>\n",
       "                  fauthor\n",
       "                \n",
       "                \n",
       "                \n",
       "                <th class=\"col_heading level0 col6\" colspan=1>\n",
       "                  year\n",
       "                \n",
       "                \n",
       "                \n",
       "                <th class=\"col_heading level0 col7\" colspan=1>\n",
       "                  nasaads\n",
       "                \n",
       "                \n",
       "            </tr>\n",
       "            \n",
       "        </thead>\n",
       "        <tbody>\n",
       "            \n",
       "            <tr>\n",
       "                \n",
       "                \n",
       "                <th id=\"T_44844a2e_ab5c_11e7_837a_c869cda175ec\"\n",
       "                 class=\"row_heading level0 row0\" rowspan=1>\n",
       "                    0\n",
       "                \n",
       "                \n",
       "                \n",
       "                <td id=\"T_44844a2e_ab5c_11e7_837a_c869cda175ecrow0_col0\"\n",
       "                 class=\"data row0 col0\" >\n",
       "                    1\n",
       "                \n",
       "                \n",
       "                \n",
       "                <td id=\"T_44844a2e_ab5c_11e7_837a_c869cda175ecrow0_col1\"\n",
       "                 class=\"data row0 col1\" >\n",
       "                    2\n",
       "                \n",
       "                \n",
       "                \n",
       "                <td id=\"T_44844a2e_ab5c_11e7_837a_c869cda175ecrow0_col2\"\n",
       "                 class=\"data row0 col2\" >\n",
       "                    1\n",
       "                \n",
       "                \n",
       "                \n",
       "                <td id=\"T_44844a2e_ab5c_11e7_837a_c869cda175ecrow0_col3\"\n",
       "                 class=\"data row0 col3\" >\n",
       "                    abu_table_1\n",
       "                \n",
       "                \n",
       "                \n",
       "                <td id=\"T_44844a2e_ab5c_11e7_837a_c869cda175ecrow0_col4\"\n",
       "                 class=\"data row0 col4\" >\n",
       "                    1\n",
       "                \n",
       "                \n",
       "                \n",
       "                <td id=\"T_44844a2e_ab5c_11e7_837a_c869cda175ecrow0_col5\"\n",
       "                 class=\"data row0 col5\" >\n",
       "                    Venn\n",
       "                \n",
       "                \n",
       "                \n",
       "                <td id=\"T_44844a2e_ab5c_11e7_837a_c869cda175ecrow0_col6\"\n",
       "                 class=\"data row0 col6\" >\n",
       "                    2012\n",
       "                \n",
       "                \n",
       "                \n",
       "                <td id=\"T_44844a2e_ab5c_11e7_837a_c869cda175ecrow0_col7\"\n",
       "                 class=\"data row0 col7\" >\n",
       "                    <a href=\"http://adsabs.harvard.edu/abs/2012ApJ...751..102V\">http://adsabs.harvard.edu/abs/2012ApJ...751..102V</a>\n",
       "                \n",
       "                \n",
       "            </tr>\n",
       "            \n",
       "        </tbody>\n",
       "        </table>\n",
       "        "
      ],
      "text/plain": [
       "<pandas.formats.style.Styler at 0x1163cbad0>"
      ]
     },
     "execution_count": 359,
     "metadata": {},
     "output_type": "execute_result"
    }
   ],
   "source": [
    "#check if table exists in the registration table abu_table_reg.\n",
    "#refid is the id which refers to the paper reference in the refs table which holds all references.\n",
    "stsql.get_overview_abundance_tables()"
   ]
  },
  {
   "cell_type": "code",
   "execution_count": 360,
   "metadata": {
    "collapsed": false,
    "deletable": true,
    "editable": true
   },
   "outputs": [
    {
     "data": {
      "text/html": [
       "\n",
       "        <style  type=\"text/css\" >\n",
       "        \n",
       "        \n",
       "        </style>\n",
       "\n",
       "        <table id=\"T_449bc170_ab5c_11e7_872f_c869cda175ec\" None>\n",
       "        \n",
       "\n",
       "        <thead>\n",
       "            \n",
       "            <tr>\n",
       "                \n",
       "                \n",
       "                <th class=\"blank level0\" >\n",
       "                  \n",
       "                \n",
       "                \n",
       "                \n",
       "                <th class=\"col_heading level0 col0\" colspan=1>\n",
       "                  refid\n",
       "                \n",
       "                \n",
       "                \n",
       "                <th class=\"col_heading level0 col1\" colspan=1>\n",
       "                  fauthor\n",
       "                \n",
       "                \n",
       "                \n",
       "                <th class=\"col_heading level0 col2\" colspan=1>\n",
       "                  year\n",
       "                \n",
       "                \n",
       "                \n",
       "                <th class=\"col_heading level0 col3\" colspan=1>\n",
       "                  nasads\n",
       "                \n",
       "                \n",
       "            </tr>\n",
       "            \n",
       "        </thead>\n",
       "        <tbody>\n",
       "            \n",
       "            <tr>\n",
       "                \n",
       "                \n",
       "                <th id=\"T_449bc170_ab5c_11e7_872f_c869cda175ec\"\n",
       "                 class=\"row_heading level0 row0\" rowspan=1>\n",
       "                    0\n",
       "                \n",
       "                \n",
       "                \n",
       "                <td id=\"T_449bc170_ab5c_11e7_872f_c869cda175ecrow0_col0\"\n",
       "                 class=\"data row0 col0\" >\n",
       "                    1\n",
       "                \n",
       "                \n",
       "                \n",
       "                <td id=\"T_449bc170_ab5c_11e7_872f_c869cda175ecrow0_col1\"\n",
       "                 class=\"data row0 col1\" >\n",
       "                    Anders\n",
       "                \n",
       "                \n",
       "                \n",
       "                <td id=\"T_449bc170_ab5c_11e7_872f_c869cda175ecrow0_col2\"\n",
       "                 class=\"data row0 col2\" >\n",
       "                    1989\n",
       "                \n",
       "                \n",
       "                \n",
       "                <td id=\"T_449bc170_ab5c_11e7_872f_c869cda175ecrow0_col3\"\n",
       "                 class=\"data row0 col3\" >\n",
       "                    <a href=\"http://ukads.nottingham.ac.uk/abs/1993A%26A...271..587G_NEW\">http://ukads.nottingham.ac.uk/abs/1993A%26A...271..587G_NEW</a>\n",
       "                \n",
       "                \n",
       "            </tr>\n",
       "            \n",
       "            <tr>\n",
       "                \n",
       "                \n",
       "                <th id=\"T_449bc170_ab5c_11e7_872f_c869cda175ec\"\n",
       "                 class=\"row_heading level0 row1\" rowspan=1>\n",
       "                    1\n",
       "                \n",
       "                \n",
       "                \n",
       "                <td id=\"T_449bc170_ab5c_11e7_872f_c869cda175ecrow1_col0\"\n",
       "                 class=\"data row1 col0\" >\n",
       "                    2\n",
       "                \n",
       "                \n",
       "                \n",
       "                <td id=\"T_449bc170_ab5c_11e7_872f_c869cda175ecrow1_col1\"\n",
       "                 class=\"data row1 col1\" >\n",
       "                    Venn\n",
       "                \n",
       "                \n",
       "                \n",
       "                <td id=\"T_449bc170_ab5c_11e7_872f_c869cda175ecrow1_col2\"\n",
       "                 class=\"data row1 col2\" >\n",
       "                    2012\n",
       "                \n",
       "                \n",
       "                \n",
       "                <td id=\"T_449bc170_ab5c_11e7_872f_c869cda175ecrow1_col3\"\n",
       "                 class=\"data row1 col3\" >\n",
       "                    <a href=\"http://adsabs.harvard.edu/abs/2012ApJ...751..102V\">http://adsabs.harvard.edu/abs/2012ApJ...751..102V</a>\n",
       "                \n",
       "                \n",
       "            </tr>\n",
       "            \n",
       "        </tbody>\n",
       "        </table>\n",
       "        "
      ],
      "text/plain": [
       "<pandas.formats.style.Styler at 0x1126b15d0>"
      ]
     },
     "execution_count": 360,
     "metadata": {},
     "output_type": "execute_result"
    }
   ],
   "source": [
    "#lets see the refs table. Indeed the refid of 2 refers to the Venn et al paper.\n",
    "stsql.get_paper_refs()"
   ]
  },
  {
   "cell_type": "code",
   "execution_count": 361,
   "metadata": {
    "collapsed": false,
    "deletable": true,
    "editable": true
   },
   "outputs": [
    {
     "data": {
      "text/html": [
       "<div>\n",
       "<table border=\"1\" class=\"dataframe\">\n",
       "  <thead>\n",
       "    <tr style=\"text-align: right;\">\n",
       "      <th></th>\n",
       "      <th>Galaxies</th>\n",
       "    </tr>\n",
       "  </thead>\n",
       "  <tbody>\n",
       "    <tr>\n",
       "      <th>0</th>\n",
       "      <td>Milky Way</td>\n",
       "    </tr>\n",
       "  </tbody>\n",
       "</table>\n",
       "</div>"
      ],
      "text/plain": [
       "    Galaxies\n",
       "0  Milky Way"
      ]
     },
     "execution_count": 361,
     "metadata": {},
     "output_type": "execute_result"
    }
   ],
   "source": [
    "stsql.get_galaxies()"
   ]
  },
  {
   "cell_type": "markdown",
   "metadata": {},
   "source": [
    "Update of table works with the same type of input as add_abundance_data()"
   ]
  },
  {
   "cell_type": "code",
   "execution_count": 362,
   "metadata": {
    "collapsed": false
   },
   "outputs": [
    {
     "name": "stdout",
     "output_type": "stream",
     "text": [
      "found corresponding normalization data.\n",
      "abu ref paper exists already. do nothing\n",
      "Abundance data table updated.\n"
     ]
    }
   ],
   "source": [
    "abundance_data_update=[-1.0,-0.3]\n",
    "stsql.update_abundance_data(abundance_paper,abundance_norm,abundance_label,abundance_data_update)"
   ]
  },
  {
   "cell_type": "code",
   "execution_count": 363,
   "metadata": {
    "collapsed": false
   },
   "outputs": [
    {
     "name": "stdout",
     "output_type": "stream",
     "text": [
      "[(1, -1.0, -0.3)]\n"
     ]
    },
    {
     "data": {
      "text/html": [
       "<div>\n",
       "<table border=\"1\" class=\"dataframe\">\n",
       "  <thead>\n",
       "    <tr style=\"text-align: right;\">\n",
       "      <th></th>\n",
       "      <th>abuid</th>\n",
       "      <th>Fe/H</th>\n",
       "      <th>err</th>\n",
       "    </tr>\n",
       "  </thead>\n",
       "  <tbody>\n",
       "    <tr>\n",
       "      <th>0</th>\n",
       "      <td>1</td>\n",
       "      <td>-1.0</td>\n",
       "      <td>-0.3</td>\n",
       "    </tr>\n",
       "  </tbody>\n",
       "</table>\n",
       "</div>"
      ],
      "text/plain": [
       "   abuid  Fe/H  err\n",
       "0      1  -1.0 -0.3"
      ]
     },
     "execution_count": 363,
     "metadata": {},
     "output_type": "execute_result"
    }
   ],
   "source": [
    "get_abundance_paper=['Venn',2012,'Milky Way']\n",
    "stsql.get_abundance_data(abu_paper=get_abundance_paper)"
   ]
  },
  {
   "cell_type": "markdown",
   "metadata": {
    "deletable": true,
    "editable": true
   },
   "source": [
    "#### Example to add second and third abundance data tables"
   ]
  },
  {
   "cell_type": "code",
   "execution_count": 364,
   "metadata": {
    "collapsed": false,
    "deletable": true,
    "editable": true
   },
   "outputs": [
    {
     "name": "stdout",
     "output_type": "stream",
     "text": [
      "found corresponding normalization data.\n",
      "abu ref paper exists already. do nothing\n",
      "abundance table with same paper reference and solar normalization exists already! Do nothing.\n"
     ]
    }
   ],
   "source": [
    "#add abundance data\n",
    "stsqlabundance_paper=['BeersFun',2008,'http://adsabs.harvard.edu/abs/2012ApJ...751..102V','Milky Way']\n",
    "abundance_norm=['Anders','1989']\n",
    "abundance_label=['[Fe/H]','err']\n",
    "abundance_data = [-99,0.8]\n",
    "stsql.add_abundance_data(abundance_paper,abundance_norm,abundance_label,abundance_data)"
   ]
  },
  {
   "cell_type": "code",
   "execution_count": 365,
   "metadata": {
    "collapsed": false,
    "deletable": true,
    "editable": true
   },
   "outputs": [
    {
     "name": "stdout",
     "output_type": "stream",
     "text": [
      "found corresponding normalization data.\n",
      "add paper related to abundance to table refs.\n",
      "galaxy name  SMC\n",
      "create table  abu_table_3\n"
     ]
    }
   ],
   "source": [
    "#add abundance data\n",
    "abundance_paper=['BeersFun',2008,'http://adsabs.harvard.edu/abs/2012ApJ...751..102V','SMC']\n",
    "abundance_norm=['Anders','1989']\n",
    "abundance_label=['[Fe/H]','err']\n",
    "abundance_data = [-13,0.33]\n",
    "stsql.add_abundance_data(abundance_paper,abundance_norm,abundance_label,abundance_data)"
   ]
  },
  {
   "cell_type": "code",
   "execution_count": 366,
   "metadata": {
    "collapsed": false,
    "deletable": true,
    "editable": true
   },
   "outputs": [
    {
     "name": "stdout",
     "output_type": "stream",
     "text": [
      "[(1, -13.0, 0.33)]\n"
     ]
    },
    {
     "data": {
      "text/html": [
       "<div>\n",
       "<table border=\"1\" class=\"dataframe\">\n",
       "  <thead>\n",
       "    <tr style=\"text-align: right;\">\n",
       "      <th></th>\n",
       "      <th>abuid</th>\n",
       "      <th>Fe/H</th>\n",
       "      <th>err</th>\n",
       "    </tr>\n",
       "  </thead>\n",
       "  <tbody>\n",
       "    <tr>\n",
       "      <th>0</th>\n",
       "      <td>1</td>\n",
       "      <td>-13.0</td>\n",
       "      <td>0.33</td>\n",
       "    </tr>\n",
       "  </tbody>\n",
       "</table>\n",
       "</div>"
      ],
      "text/plain": [
       "   abuid  Fe/H   err\n",
       "0      1 -13.0  0.33"
      ]
     },
     "execution_count": 366,
     "metadata": {},
     "output_type": "execute_result"
    }
   ],
   "source": [
    "#as expected, the new table exists\n",
    "abundance_paper=['BeersFun',2008,'Milky Way']\n",
    "stsql.get_abundance_data(abu_paper=abundance_paper)"
   ]
  },
  {
   "cell_type": "code",
   "execution_count": 367,
   "metadata": {
    "collapsed": false,
    "deletable": true,
    "editable": true
   },
   "outputs": [
    {
     "data": {
      "text/html": [
       "\n",
       "        <style  type=\"text/css\" >\n",
       "        \n",
       "        \n",
       "        </style>\n",
       "\n",
       "        <table id=\"T_45e776ab_ab5c_11e7_8cf0_c869cda175ec\" None>\n",
       "        \n",
       "\n",
       "        <thead>\n",
       "            \n",
       "            <tr>\n",
       "                \n",
       "                \n",
       "                <th class=\"blank level0\" >\n",
       "                  \n",
       "                \n",
       "                \n",
       "                \n",
       "                <th class=\"col_heading level0 col0\" colspan=1>\n",
       "                  abu_reg_id\n",
       "                \n",
       "                \n",
       "                \n",
       "                <th class=\"col_heading level0 col1\" colspan=1>\n",
       "                  refid\n",
       "                \n",
       "                \n",
       "                \n",
       "                <th class=\"col_heading level0 col2\" colspan=1>\n",
       "                  normid\n",
       "                \n",
       "                \n",
       "                \n",
       "                <th class=\"col_heading level0 col3\" colspan=1>\n",
       "                  abutable\n",
       "                \n",
       "                \n",
       "                \n",
       "                <th class=\"col_heading level0 col4\" colspan=1>\n",
       "                  galid\n",
       "                \n",
       "                \n",
       "                \n",
       "                <th class=\"col_heading level0 col5\" colspan=1>\n",
       "                  fauthor\n",
       "                \n",
       "                \n",
       "                \n",
       "                <th class=\"col_heading level0 col6\" colspan=1>\n",
       "                  year\n",
       "                \n",
       "                \n",
       "                \n",
       "                <th class=\"col_heading level0 col7\" colspan=1>\n",
       "                  nasaads\n",
       "                \n",
       "                \n",
       "            </tr>\n",
       "            \n",
       "        </thead>\n",
       "        <tbody>\n",
       "            \n",
       "            <tr>\n",
       "                \n",
       "                \n",
       "                <th id=\"T_45e776ab_ab5c_11e7_8cf0_c869cda175ec\"\n",
       "                 class=\"row_heading level0 row0\" rowspan=1>\n",
       "                    0\n",
       "                \n",
       "                \n",
       "                \n",
       "                <td id=\"T_45e776ab_ab5c_11e7_8cf0_c869cda175ecrow0_col0\"\n",
       "                 class=\"data row0 col0\" >\n",
       "                    1\n",
       "                \n",
       "                \n",
       "                \n",
       "                <td id=\"T_45e776ab_ab5c_11e7_8cf0_c869cda175ecrow0_col1\"\n",
       "                 class=\"data row0 col1\" >\n",
       "                    2\n",
       "                \n",
       "                \n",
       "                \n",
       "                <td id=\"T_45e776ab_ab5c_11e7_8cf0_c869cda175ecrow0_col2\"\n",
       "                 class=\"data row0 col2\" >\n",
       "                    1\n",
       "                \n",
       "                \n",
       "                \n",
       "                <td id=\"T_45e776ab_ab5c_11e7_8cf0_c869cda175ecrow0_col3\"\n",
       "                 class=\"data row0 col3\" >\n",
       "                    abu_table_1\n",
       "                \n",
       "                \n",
       "                \n",
       "                <td id=\"T_45e776ab_ab5c_11e7_8cf0_c869cda175ecrow0_col4\"\n",
       "                 class=\"data row0 col4\" >\n",
       "                    1\n",
       "                \n",
       "                \n",
       "                \n",
       "                <td id=\"T_45e776ab_ab5c_11e7_8cf0_c869cda175ecrow0_col5\"\n",
       "                 class=\"data row0 col5\" >\n",
       "                    Venn\n",
       "                \n",
       "                \n",
       "                \n",
       "                <td id=\"T_45e776ab_ab5c_11e7_8cf0_c869cda175ecrow0_col6\"\n",
       "                 class=\"data row0 col6\" >\n",
       "                    2012\n",
       "                \n",
       "                \n",
       "                \n",
       "                <td id=\"T_45e776ab_ab5c_11e7_8cf0_c869cda175ecrow0_col7\"\n",
       "                 class=\"data row0 col7\" >\n",
       "                    <a href=\"http://adsabs.harvard.edu/abs/2012ApJ...751..102V\">http://adsabs.harvard.edu/abs/2012ApJ...751..102V</a>\n",
       "                \n",
       "                \n",
       "            </tr>\n",
       "            \n",
       "            <tr>\n",
       "                \n",
       "                \n",
       "                <th id=\"T_45e776ab_ab5c_11e7_8cf0_c869cda175ec\"\n",
       "                 class=\"row_heading level0 row1\" rowspan=1>\n",
       "                    1\n",
       "                \n",
       "                \n",
       "                \n",
       "                <td id=\"T_45e776ab_ab5c_11e7_8cf0_c869cda175ecrow1_col0\"\n",
       "                 class=\"data row1 col0\" >\n",
       "                    2\n",
       "                \n",
       "                \n",
       "                \n",
       "                <td id=\"T_45e776ab_ab5c_11e7_8cf0_c869cda175ecrow1_col1\"\n",
       "                 class=\"data row1 col1\" >\n",
       "                    2\n",
       "                \n",
       "                \n",
       "                \n",
       "                <td id=\"T_45e776ab_ab5c_11e7_8cf0_c869cda175ecrow1_col2\"\n",
       "                 class=\"data row1 col2\" >\n",
       "                    1\n",
       "                \n",
       "                \n",
       "                \n",
       "                <td id=\"T_45e776ab_ab5c_11e7_8cf0_c869cda175ecrow1_col3\"\n",
       "                 class=\"data row1 col3\" >\n",
       "                    abu_table_1\n",
       "                \n",
       "                \n",
       "                \n",
       "                <td id=\"T_45e776ab_ab5c_11e7_8cf0_c869cda175ecrow1_col4\"\n",
       "                 class=\"data row1 col4\" >\n",
       "                    1\n",
       "                \n",
       "                \n",
       "                \n",
       "                <td id=\"T_45e776ab_ab5c_11e7_8cf0_c869cda175ecrow1_col5\"\n",
       "                 class=\"data row1 col5\" >\n",
       "                    Venn\n",
       "                \n",
       "                \n",
       "                \n",
       "                <td id=\"T_45e776ab_ab5c_11e7_8cf0_c869cda175ecrow1_col6\"\n",
       "                 class=\"data row1 col6\" >\n",
       "                    2012\n",
       "                \n",
       "                \n",
       "                \n",
       "                <td id=\"T_45e776ab_ab5c_11e7_8cf0_c869cda175ecrow1_col7\"\n",
       "                 class=\"data row1 col7\" >\n",
       "                    <a href=\"http://adsabs.harvard.edu/abs/2012ApJ...751..102V\">http://adsabs.harvard.edu/abs/2012ApJ...751..102V</a>\n",
       "                \n",
       "                \n",
       "            </tr>\n",
       "            \n",
       "            <tr>\n",
       "                \n",
       "                \n",
       "                <th id=\"T_45e776ab_ab5c_11e7_8cf0_c869cda175ec\"\n",
       "                 class=\"row_heading level0 row2\" rowspan=1>\n",
       "                    2\n",
       "                \n",
       "                \n",
       "                \n",
       "                <td id=\"T_45e776ab_ab5c_11e7_8cf0_c869cda175ecrow2_col0\"\n",
       "                 class=\"data row2 col0\" >\n",
       "                    3\n",
       "                \n",
       "                \n",
       "                \n",
       "                <td id=\"T_45e776ab_ab5c_11e7_8cf0_c869cda175ecrow2_col1\"\n",
       "                 class=\"data row2 col1\" >\n",
       "                    3\n",
       "                \n",
       "                \n",
       "                \n",
       "                <td id=\"T_45e776ab_ab5c_11e7_8cf0_c869cda175ecrow2_col2\"\n",
       "                 class=\"data row2 col2\" >\n",
       "                    1\n",
       "                \n",
       "                \n",
       "                \n",
       "                <td id=\"T_45e776ab_ab5c_11e7_8cf0_c869cda175ecrow2_col3\"\n",
       "                 class=\"data row2 col3\" >\n",
       "                    abu_table_3\n",
       "                \n",
       "                \n",
       "                \n",
       "                <td id=\"T_45e776ab_ab5c_11e7_8cf0_c869cda175ecrow2_col4\"\n",
       "                 class=\"data row2 col4\" >\n",
       "                    2\n",
       "                \n",
       "                \n",
       "                \n",
       "                <td id=\"T_45e776ab_ab5c_11e7_8cf0_c869cda175ecrow2_col5\"\n",
       "                 class=\"data row2 col5\" >\n",
       "                    BeersFun\n",
       "                \n",
       "                \n",
       "                \n",
       "                <td id=\"T_45e776ab_ab5c_11e7_8cf0_c869cda175ecrow2_col6\"\n",
       "                 class=\"data row2 col6\" >\n",
       "                    2008\n",
       "                \n",
       "                \n",
       "                \n",
       "                <td id=\"T_45e776ab_ab5c_11e7_8cf0_c869cda175ecrow2_col7\"\n",
       "                 class=\"data row2 col7\" >\n",
       "                    <a href=\"http://adsabs.harvard.edu/abs/2012ApJ...751..102V\">http://adsabs.harvard.edu/abs/2012ApJ...751..102V</a>\n",
       "                \n",
       "                \n",
       "            </tr>\n",
       "            \n",
       "        </tbody>\n",
       "        </table>\n",
       "        "
      ],
      "text/plain": [
       "<pandas.formats.style.Styler at 0x1126b4dd0>"
      ]
     },
     "execution_count": 367,
     "metadata": {},
     "output_type": "execute_result"
    }
   ],
   "source": [
    "#check if table exists in abu_table_reg, the registration table. Yes, it exists as the second entry.\n",
    "stsql.get_overview_abundance_tables()"
   ]
  },
  {
   "cell_type": "code",
   "execution_count": 368,
   "metadata": {
    "collapsed": false,
    "deletable": true,
    "editable": true
   },
   "outputs": [
    {
     "data": {
      "text/html": [
       "<div>\n",
       "<table border=\"1\" class=\"dataframe\">\n",
       "  <thead>\n",
       "    <tr style=\"text-align: right;\">\n",
       "      <th></th>\n",
       "      <th>Galaxies</th>\n",
       "    </tr>\n",
       "  </thead>\n",
       "  <tbody>\n",
       "    <tr>\n",
       "      <th>0</th>\n",
       "      <td>Milky Way</td>\n",
       "    </tr>\n",
       "    <tr>\n",
       "      <th>1</th>\n",
       "      <td>SMC</td>\n",
       "    </tr>\n",
       "  </tbody>\n",
       "</table>\n",
       "</div>"
      ],
      "text/plain": [
       "    Galaxies\n",
       "0  Milky Way\n",
       "1        SMC"
      ]
     },
     "execution_count": 368,
     "metadata": {},
     "output_type": "execute_result"
    }
   ],
   "source": [
    "stsql.get_galaxies()"
   ]
  },
  {
   "cell_type": "code",
   "execution_count": 369,
   "metadata": {
    "collapsed": false
   },
   "outputs": [
    {
     "name": "stdout",
     "output_type": "stream",
     "text": [
      "Galaxy table entry updated.\n"
     ]
    }
   ],
   "source": [
    "galaxy_name='Milky Way'\n",
    "stsql.update_galaxy(galaxy_name,update={'Galaxies':'MW'})"
   ]
  },
  {
   "cell_type": "code",
   "execution_count": 370,
   "metadata": {
    "collapsed": false
   },
   "outputs": [
    {
     "data": {
      "text/html": [
       "<div>\n",
       "<table border=\"1\" class=\"dataframe\">\n",
       "  <thead>\n",
       "    <tr style=\"text-align: right;\">\n",
       "      <th></th>\n",
       "      <th>Galaxies</th>\n",
       "    </tr>\n",
       "  </thead>\n",
       "  <tbody>\n",
       "    <tr>\n",
       "      <th>0</th>\n",
       "      <td>MW</td>\n",
       "    </tr>\n",
       "    <tr>\n",
       "      <th>1</th>\n",
       "      <td>SMC</td>\n",
       "    </tr>\n",
       "  </tbody>\n",
       "</table>\n",
       "</div>"
      ],
      "text/plain": [
       "  Galaxies\n",
       "0       MW\n",
       "1      SMC"
      ]
     },
     "execution_count": 370,
     "metadata": {},
     "output_type": "execute_result"
    }
   ],
   "source": [
    "stsql.get_galaxies()"
   ]
  },
  {
   "cell_type": "code",
   "execution_count": null,
   "metadata": {
    "collapsed": true
   },
   "outputs": [],
   "source": []
  }
 ],
 "metadata": {
  "kernelspec": {
   "display_name": "Python 2",
   "language": "python",
   "name": "python2"
  },
  "language_info": {
   "codemirror_mode": {
    "name": "ipython",
    "version": 2
   },
   "file_extension": ".py",
   "mimetype": "text/x-python",
   "name": "python",
   "nbconvert_exporter": "python",
   "pygments_lexer": "ipython2",
   "version": "2.7.13"
  }
 },
 "nbformat": 4,
 "nbformat_minor": 2
}
