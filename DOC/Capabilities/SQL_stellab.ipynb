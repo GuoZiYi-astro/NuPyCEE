{
 "cells": [
  {
   "cell_type": "markdown",
   "metadata": {
    "deletable": true,
    "editable": true
   },
   "source": [
    "# Building SQL database for Stellab"
   ]
  },
  {
   "cell_type": "markdown",
   "metadata": {
    "deletable": true,
    "editable": true
   },
   "source": [
    "SQL code to create stellab database"
   ]
  },
  {
   "cell_type": "markdown",
   "metadata": {
    "deletable": true,
    "editable": true
   },
   "source": [
    "Tables:\n",
    "* refs: Table with literature references:\n",
    "    * refid: unique reference id (PK)\n",
    "    * fauthor: first author\n",
    "    * year\n",
    "    * nasaads: link to nasa ads page\n",
    "\n",
    "* galaxies\n",
    "    * gali: unique ref id\n",
    "    * name: galaxy name\n",
    "\n",
    "* solarnorms\n",
    "    * normid: unique reference id (PK)\n",
    "    * H, He... abundance entries\n",
    "    * refids\n",
    "* abu_table_reg\n",
    "    * abu_reg_id uniqure reference\n",
    "    * refid to look up literature\n",
    "    * table name to look up abundance table\n",
    "    * normid to look up normalization used\n",
    "\n",
    "* multiple abundance tables, all with\n",
    "    * abuid: unique reference id\n",
    "    * element ratio1, element ratio2...\n",
    "    * error1, errror2 ...\n",
    "\n",
    "Tips:\n",
    "* Use not null\n",
    "* fixed lenght type arrays are faster"
   ]
  },
  {
   "cell_type": "code",
   "execution_count": 1,
   "metadata": {
    "collapsed": true,
    "deletable": true,
    "editable": true
   },
   "outputs": [],
   "source": [
    "#pip install pymysql"
   ]
  },
  {
   "cell_type": "code",
   "execution_count": 2,
   "metadata": {
    "collapsed": true,
    "deletable": true,
    "editable": true
   },
   "outputs": [],
   "source": [
    "#We choose sqlite3 because it does not require to install mysql or run a server.\n",
    "import sqlite3\n",
    "import stellab as st"
   ]
  },
  {
   "cell_type": "markdown",
   "metadata": {
    "deletable": true,
    "editable": true
   },
   "source": [
    "SQLite is a C library that provides a lightweight disk-based database that doesn’t require a separate server process and allows accessing the database using a nonstandard variant of the SQL query language. "
   ]
  },
  {
   "cell_type": "code",
   "execution_count": null,
   "metadata": {
    "collapsed": true,
    "deletable": true,
    "editable": true
   },
   "outputs": [],
   "source": []
  },
  {
   "cell_type": "markdown",
   "metadata": {
    "deletable": true,
    "editable": true
   },
   "source": [
    "Creating database and table refs"
   ]
  },
  {
   "cell_type": "markdown",
   "metadata": {
    "deletable": true,
    "editable": true
   },
   "source": [
    "### Add references"
   ]
  },
  {
   "cell_type": "code",
   "execution_count": 38,
   "metadata": {
    "collapsed": false,
    "deletable": true,
    "editable": true
   },
   "outputs": [],
   "source": [
    "st1=st.stellab()\n",
    "#papers=st1.list_ref_papers()\n",
    "legs=st1.leg\n",
    "\n",
    "name=[]\n",
    "year=[]\n",
    "for i,labels in enumerate(legs):\n",
    "    name.append(labels.split('(')[0].strip())\n",
    "    year.append(labels.split('(')[1].strip()[:-1])"
   ]
  },
  {
   "cell_type": "code",
   "execution_count": 39,
   "metadata": {
    "collapsed": false,
    "deletable": true,
    "editable": true
   },
   "outputs": [
    {
     "name": "stdout",
     "output_type": "stream",
     "text": [
      "Anders_Grevesse_1989\n",
      "Grevesse_Noels_1993\n",
      "Grevesse_Sauval_1998\n",
      "Asplund_et_al_2009\n",
      "Asplund_et_al_2005\n",
      "Lodders_et_al_2009\n"
     ]
    }
   ],
   "source": [
    "st1.list_solar_norm()"
   ]
  },
  {
   "cell_type": "code",
   "execution_count": 5,
   "metadata": {
    "collapsed": true,
    "deletable": true,
    "editable": true
   },
   "outputs": [],
   "source": [
    "data=[['Venn',2012,'http://adsabs.harvard.edu/abs/2012ApJ...751..102V']]"
   ]
  },
  {
   "cell_type": "code",
   "execution_count": 106,
   "metadata": {
    "collapsed": true,
    "deletable": true,
    "editable": true
   },
   "outputs": [],
   "source": [
    "#create table\n",
    "!rm stellab.db\n",
    "db=sqlite3.connect('stellab.db')\n",
    "curser=db.cursor()\n",
    "curser.execute('''CREATE TABLE IF NOT EXISTS refs (refid integer primary key autoincrement, fauthor text, year year, nasads text)''')\n",
    "curser.execute('''CREATE TABLE IF NOT EXISTS galaxies (galid integer primary key autoincrement, name text)''')\n",
    "curser.execute('''CREATE TABLE IF NOT EXISTS solarnorms (normid integer primary key autoincrement, H float, He float, refid integer)''')\n",
    "curser.execute('''CREATE TABLE IF NOT EXISTS abu_table_reg (abu_reg_id integer primary key autoincrement, refid integer, normid integer,abutable text)''')\n",
    "db.commit()"
   ]
  },
  {
   "cell_type": "code",
   "execution_count": 107,
   "metadata": {
    "collapsed": false,
    "deletable": true,
    "editable": true
   },
   "outputs": [],
   "source": [
    "#curser.execute('''INSERT INTO refs (fauthor,year,nasads) VALUES \n",
    "#        ('Anders','1989', 'http://adsabs.harvard.edu/abs/2012ApJ')''')"
   ]
  },
  {
   "cell_type": "code",
   "execution_count": 108,
   "metadata": {
    "collapsed": false
   },
   "outputs": [],
   "source": [
    "def get_column_names(table):\n",
    "    tmp=db.execute(\"PRAGMA table_info(%s)\" % table).fetchall()\n",
    "    return [entry[1] for entry in tmp]"
   ]
  },
  {
   "cell_type": "code",
   "execution_count": 205,
   "metadata": {
    "collapsed": false,
    "deletable": true,
    "editable": true
   },
   "outputs": [],
   "source": [
    "def check_normalization(name,year):\n",
    "    '''\n",
    "    Check if normalization data is available in database.\n",
    "    '''        \n",
    "    #check if paper for normalization data exists already.\n",
    "    results = db.execute('''SELECT refid FROM refs WHERE (fauthor = '%s' and year = '%s' )''' % (name,year))  #% ('Anders','1989'))\n",
    "    refid = results.fetchall()\n",
    "    if len(refid)==1:\n",
    "        print 'Normalization paper is available.'\n",
    "        refid = refid[0][0]\n",
    "        results = db.execute('''SELECT normid FROM solarnorms WHERE (refid = %s )''' %(refid))\n",
    "        normid = results.fetchall()\n",
    "        if len(normid)==1:\n",
    "            print 'found corresponding normalization data.'\n",
    "            return normid[0][0]\n",
    "        else:\n",
    "            #add normalization data\n",
    "            print 'normalization data is missing. Add the data first by using add_normalization().'\n",
    "            return -1\n",
    "    else:\n",
    "        print 'normalization data is missing. Add the data first by using add_normalization().'\n",
    "        #print 'paper for normalization not available. Add paper reference first.'\n",
    "        return -1"
   ]
  },
  {
   "cell_type": "code",
   "execution_count": 206,
   "metadata": {
    "collapsed": false
   },
   "outputs": [],
   "source": [
    "def add_normalization(norm_paper,norm_label,norm_data):\n",
    "    '''\n",
    "    Add data to normalization table solarnorms and corresponding paper to table refs.\n",
    "    norm_paper=['Venn',2012,'http://adsabs.harvard.edu/abs/2012ApJ...751..102V']\n",
    "    norm_label=['H','He']\n",
    "    norm_data = [-2.81,0.34,]\n",
    "\n",
    "    '''\n",
    "    #check if paper for normalization data exists already.\n",
    "    print 'does paper entry exists alreay?'\n",
    "    name=norm_paper[0]\n",
    "    year=norm_paper[1]\n",
    "    nasads=norm_paper[2]\n",
    "    results = db.execute('''SELECT refid FROM refs WHERE (fauthor = '%s' and year = '%s' )''' % (name,year))  #% ('Anders','1989'))\n",
    "    refid = results.fetchall()\n",
    "\n",
    "    if len(refid)==0:\n",
    "        print 'add paper for normalization.'\n",
    "        add_paper_ref(name,year,nasads)\n",
    "        results = db.execute('''SELECT refid FROM refs WHERE (fauthor = '%s' and year = '%s' )''' % (name,year))  #% ('Anders','1989'))\n",
    "        refid = results.fetchall()        \n",
    "        \n",
    "    refid = refid[0][0]\n",
    "    results = db.execute('''SELECT normid FROM solarnorms WHERE (refid = %s )''' %(refid))\n",
    "    normid = results.fetchall()\n",
    "    \n",
    "    if len(normid)==1:\n",
    "        print 'normalization data is already available.'\n",
    "    else:\n",
    "            \n",
    "        #check if columns of solarnorms include matches to norm_label\n",
    "        print 'what columns are available'\n",
    "        columns= get_column_names('solarnorms') \n",
    "        print 'found columns: ',columns\n",
    "        for k in range(len(norm_label)):\n",
    "            if not norm_label[k] in columns:\n",
    "                print norm_label[k],'missing in columns, add new column'\n",
    "                db.execute('''ALTER TABLE solarnorms ADD %s float''' %norm_label[k])\n",
    "                    \n",
    "        #add normalization data\n",
    "        str_tmp = 'refid, '\n",
    "        print norm_label\n",
    "        print norm_data\n",
    "        for k in range(len(norm_label)):\n",
    "                str_tmp+= (norm_label[k] + ',')\n",
    "        str_tmp = str_tmp[:-1]\n",
    "        sql_prepr = tuple([str_tmp])\n",
    "        print 'test 1',sql_prepr\n",
    "        str_tmp = str(refid)+', '\n",
    "        for k in range(len(norm_data)):\n",
    "                str_tmp+= str(norm_data[k]) + ','\n",
    "        str_tmp = str_tmp[:-1]\n",
    "        sql_prepr = sql_prepr + tuple([str_tmp])\n",
    "        print sql_prepr\n",
    "        db.execute('''INSERT INTO solarnorms (%s) VALUES (%s)''' % sql_prepr)\n"
   ]
  },
  {
   "cell_type": "code",
   "execution_count": 207,
   "metadata": {
    "collapsed": true,
    "deletable": true,
    "editable": true
   },
   "outputs": [],
   "source": [
    "def add_paper_ref(name,year,nasads):\n",
    "    results = db.execute('''SELECT refid FROM refs WHERE (fauthor = '%s' and year = '%s' )''' % \n",
    "                         (name,year))\n",
    "    results = results.fetchall()\n",
    "    if len(results)==0:\n",
    "            print 'add abu data paper'\n",
    "            db.execute('''INSERT INTO refs (fauthor, year,nasads) VALUES ('%s','%s','%s') ''' % (name,year,nasads))\n",
    "            db.commit()\n",
    "            #key=db.execute('''SELECT LAST_INSERT_ID()''')\n",
    "            results=db.execute('''SELECT refid FROM refs WHERE (fauthor='%s' and year='%s') ''' % (name,year))\n",
    "            ref_id=results.fetchall()[0][0]\n",
    "    else:\n",
    "        print 'abu data paper exists already. do nothing'\n",
    "        ref_id = results[0][0]\n",
    "    return ref_id"
   ]
  },
  {
   "cell_type": "code",
   "execution_count": 208,
   "metadata": {
    "collapsed": true,
    "deletable": true,
    "editable": true
   },
   "outputs": [],
   "source": [
    "def add_abundance(name,year,url):\n",
    "    \n",
    "    results = db.execute('''SELECT refid FROM refs WHERE (fauthor = '%s' and year = '%s' )''' % \n",
    "                         (name,year))\n",
    "    if len(results)==0:\n",
    "            print 'add abu data paper'\n",
    "            #some insert ...\n",
    "    else:\n",
    "        print 'abu data paper exists already'"
   ]
  },
  {
   "cell_type": "code",
   "execution_count": 209,
   "metadata": {
    "collapsed": false,
    "deletable": true,
    "editable": true
   },
   "outputs": [
    {
     "name": "stdout",
     "output_type": "stream",
     "text": [
      "Normalization paper is available.\n",
      "found corresponding normalization data.\n"
     ]
    },
    {
     "data": {
      "text/plain": [
       "3"
      ]
     },
     "execution_count": 209,
     "metadata": {},
     "output_type": "execute_result"
    }
   ],
   "source": [
    "check_normalization('Anders','1989')"
   ]
  },
  {
   "cell_type": "code",
   "execution_count": 245,
   "metadata": {
    "collapsed": false,
    "deletable": true,
    "editable": true
   },
   "outputs": [],
   "source": [
    "def add_abundance_data(abu_paper,abu_norm,abu_label,abu_data):\n",
    "    '''\n",
    "    Adding new abundance data to file\n",
    "    where for example    \n",
    "    '''\n",
    "    \n",
    "    #check if normalization paper and data already exists in database\n",
    "    norm_id = check_normalization(abu_norm[0],abu_norm[1])\n",
    "    if norm_id == -1: return\n",
    "    \n",
    "    #check if abundance paper into database, if it does not exist, add it.\n",
    "    ref_id = add_paper_ref(abu_paper[0],abu_paper[1],abu_paper[2])\n",
    "\n",
    "    # add abundance data\n",
    "    print 'FOUND norm_id: ',norm_id,' ref_id ',ref_id\n",
    "    \n",
    "    table_name = ''\n",
    "    #check if table already exists in registry table for abundance tables\n",
    "    results = curser.execute('''SELECT abu_reg_id FROM abu_table_reg WHERE (normid = '%s' and refid = '%s')''' % \n",
    "                             (norm_id,ref_id))\n",
    "    results = results.fetchall()\n",
    "    print 'test'\n",
    "    if len(results)==0:\n",
    "        \n",
    "        #get the latest key entry\n",
    "        abu_reg_ids = curser.execute('''SELECT abu_reg_id FROM abu_table_reg''')\n",
    "        abu_reg_ids = abu_reg_ids.fetchall()\n",
    "\n",
    "        if len(abu_reg_ids)==0:\n",
    "            abu_reg_id = 0\n",
    "        else:\n",
    "            abu_reg_id = abu_reg_ids[0][-1]\n",
    "        #create new key entry\n",
    "        abu_reg_id = abu_reg_id + 1\n",
    "        \n",
    "        #name table according to numbering of abu_reg_id\n",
    "        tablename = 'abu_table_%s' % abu_reg_id\n",
    "        #add new table\n",
    "                             \n",
    "        #create table\n",
    "        str_tmp=''\n",
    "        for k in range(len(abu_label)):\n",
    "            str_tmp+=' , '+abu_label[k] +' float '\n",
    "                             \n",
    "        sql_prepr = tuple([tablename])+tuple([str_tmp])\n",
    "                             \n",
    "        #create database\n",
    "        print 'create abu table entry'\n",
    "        curser.execute('''CREATE TABLE IF NOT EXISTS %s (abuid integer primary key autoincrement %s )''' %\n",
    "                            sql_prepr)\n",
    "                             \n",
    "        #### add abundance data: 1 entry line        \n",
    "        str_tmp1=''\n",
    "        for k in range(len(abu_label)):\n",
    "                str_tmp1+=abu_label[k]\n",
    "        str_tmp2=''\n",
    "        for k in range(len(abu_data)):\n",
    "                str_tmp2+=str(abu_label[k])                \n",
    "        \n",
    "        #create tuple for SQL input\n",
    "        sql_prepr = tuple([tablename]) + tuple([str_tmp2]) + tuple([str_tmp2])\n",
    "                   \n",
    "        curser.execute('''INSERT INTO %s (%s) VALUES (%s)''' %sql_prepr)\n",
    "        \n",
    "        #insert into table registry last, after abundance table was created successfully.                     \n",
    "        curser.execute('''INSERT INTO abu_reg_id (refid, normid,abutable) VALUES (%s,%s,%s) ''' %\n",
    "                             (ref_id,normid,tablename))\n",
    "        print 'Table ',sql_prepr,' , ',' created!'\n",
    "    else:\n",
    "        print 'abundance table with same paper reference and solar normalization exists already! Do nothing.'\n",
    "    \n",
    "    \n",
    "#add data\n",
    "#curser.executemany('''INSERT INTO refs (name,year,nasads) VALUES ( ?, ?, ?)''', data)\n",
    "#db.commit()"
   ]
  },
  {
   "cell_type": "markdown",
   "metadata": {},
   "source": [
    "### Add dataset"
   ]
  },
  {
   "cell_type": "markdown",
   "metadata": {},
   "source": [
    "#### add normalization data and reference"
   ]
  },
  {
   "cell_type": "code",
   "execution_count": 246,
   "metadata": {
    "collapsed": false
   },
   "outputs": [
    {
     "name": "stdout",
     "output_type": "stream",
     "text": [
      "does paper entry exists alreay?\n",
      "normalization data is already available.\n"
     ]
    }
   ],
   "source": [
    "#add normalization data\n",
    "normalization_paper=['Anders',1989,'http://ukads.nottingham.ac.uk/abs/1993A%26A...271..587G']\n",
    "normalization_label=['H','He','Fe']\n",
    "normalization_data = [-2.81,0.34,0.01]\n",
    "add_normalization(normalization_paper,normalization_label,normalization_data)"
   ]
  },
  {
   "cell_type": "markdown",
   "metadata": {},
   "source": [
    "check correct input:"
   ]
  },
  {
   "cell_type": "code",
   "execution_count": 247,
   "metadata": {
    "collapsed": false,
    "scrolled": true
   },
   "outputs": [
    {
     "data": {
      "text/plain": [
       "([u'normid', u'H', u'He', u'refid', u'C'],\n",
       " [(1, -2.81, 0.34, None, None),\n",
       "  (2, -2.81, 0.34, 1, None),\n",
       "  (3, -2.81, 0.34, 2, None)])"
      ]
     },
     "execution_count": 247,
     "metadata": {},
     "output_type": "execute_result"
    }
   ],
   "source": [
    "get_column_names('solarnorms'),db.execute('''SELECT * FROM solarnorms''').fetchall()"
   ]
  },
  {
   "cell_type": "code",
   "execution_count": 248,
   "metadata": {
    "collapsed": false
   },
   "outputs": [
    {
     "data": {
      "text/plain": [
       "([u'refid', u'fauthor', u'year', u'nasads'],\n",
       " [(1, u'Venn', 2012, u'http://adsabs.harvard.edu/abs/2012ApJ...751..102V'),\n",
       "  (2,\n",
       "   u'Anders',\n",
       "   1989,\n",
       "   u'http://ukads.nottingham.ac.uk/abs/1993A%26A...271..587G')])"
      ]
     },
     "execution_count": 248,
     "metadata": {},
     "output_type": "execute_result"
    }
   ],
   "source": [
    "get_column_names('refs'),db.execute('''SELECT * FROM refs''').fetchall()"
   ]
  },
  {
   "cell_type": "markdown",
   "metadata": {},
   "source": [
    "#### add abundance data"
   ]
  },
  {
   "cell_type": "code",
   "execution_count": 249,
   "metadata": {
    "collapsed": false
   },
   "outputs": [
    {
     "name": "stdout",
     "output_type": "stream",
     "text": [
      "Normalization paper is available.\n",
      "found corresponding normalization data.\n",
      "abu data paper exists already. do nothing\n",
      "FOUND norm_id:  3  ref_id  1\n",
      "test\n",
      "create abu table entry\n"
     ]
    },
    {
     "ename": "OperationalError",
     "evalue": "near \"err\": syntax error",
     "output_type": "error",
     "traceback": [
      "\u001b[0;31m---------------------------------------------------------------------------\u001b[0m",
      "\u001b[0;31mOperationalError\u001b[0m                          Traceback (most recent call last)",
      "\u001b[0;32m<ipython-input-249-5e49833c9625>\u001b[0m in \u001b[0;36m<module>\u001b[0;34m()\u001b[0m\n\u001b[1;32m      4\u001b[0m \u001b[0mabundance_label\u001b[0m\u001b[0;34m=\u001b[0m\u001b[0;34m[\u001b[0m\u001b[0;34m'[Fe/H]'\u001b[0m\u001b[0;34m,\u001b[0m\u001b[0;34m'err'\u001b[0m\u001b[0;34m]\u001b[0m\u001b[0;34m\u001b[0m\u001b[0m\n\u001b[1;32m      5\u001b[0m \u001b[0mabundance_data\u001b[0m \u001b[0;34m=\u001b[0m \u001b[0;34m[\u001b[0m\u001b[0;34m-\u001b[0m\u001b[0;36m2.81\u001b[0m\u001b[0;34m,\u001b[0m\u001b[0;36m0.34\u001b[0m\u001b[0;34m]\u001b[0m\u001b[0;34m\u001b[0m\u001b[0m\n\u001b[0;32m----> 6\u001b[0;31m \u001b[0madd_abundance_data\u001b[0m\u001b[0;34m(\u001b[0m\u001b[0mabundance_paper\u001b[0m\u001b[0;34m,\u001b[0m\u001b[0mabundance_norm\u001b[0m\u001b[0;34m,\u001b[0m\u001b[0mabundance_label\u001b[0m\u001b[0;34m,\u001b[0m\u001b[0mabundance_data\u001b[0m\u001b[0;34m)\u001b[0m\u001b[0;34m\u001b[0m\u001b[0m\n\u001b[0m",
      "\u001b[0;32m<ipython-input-245-75c81ffb551c>\u001b[0m in \u001b[0;36madd_abundance_data\u001b[0;34m(abu_paper, abu_norm, abu_label, abu_data)\u001b[0m\n\u001b[1;32m     61\u001b[0m         \u001b[0msql_prepr\u001b[0m \u001b[0;34m=\u001b[0m \u001b[0mtuple\u001b[0m\u001b[0;34m(\u001b[0m\u001b[0;34m[\u001b[0m\u001b[0mtablename\u001b[0m\u001b[0;34m]\u001b[0m\u001b[0;34m)\u001b[0m \u001b[0;34m+\u001b[0m \u001b[0mtuple\u001b[0m\u001b[0;34m(\u001b[0m\u001b[0;34m[\u001b[0m\u001b[0mstr_tmp2\u001b[0m\u001b[0;34m]\u001b[0m\u001b[0;34m)\u001b[0m \u001b[0;34m+\u001b[0m \u001b[0mtuple\u001b[0m\u001b[0;34m(\u001b[0m\u001b[0;34m[\u001b[0m\u001b[0mstr_tmp2\u001b[0m\u001b[0;34m]\u001b[0m\u001b[0;34m)\u001b[0m\u001b[0;34m\u001b[0m\u001b[0m\n\u001b[1;32m     62\u001b[0m \u001b[0;34m\u001b[0m\u001b[0m\n\u001b[0;32m---> 63\u001b[0;31m         \u001b[0mcurser\u001b[0m\u001b[0;34m.\u001b[0m\u001b[0mexecute\u001b[0m\u001b[0;34m(\u001b[0m\u001b[0;34m'''INSERT INTO %s (%s) VALUES (%s)'''\u001b[0m \u001b[0;34m%\u001b[0m\u001b[0msql_prepr\u001b[0m\u001b[0;34m)\u001b[0m\u001b[0;34m\u001b[0m\u001b[0m\n\u001b[0m\u001b[1;32m     64\u001b[0m \u001b[0;34m\u001b[0m\u001b[0m\n\u001b[1;32m     65\u001b[0m         \u001b[0;31m#insert into table registry last, after abundance table was created successfully.\u001b[0m\u001b[0;34m\u001b[0m\u001b[0;34m\u001b[0m\u001b[0m\n",
      "\u001b[0;31mOperationalError\u001b[0m: near \"err\": syntax error"
     ]
    }
   ],
   "source": [
    "#add abundance data\n",
    "abundance_paper=['Venn',2012,'http://adsabs.harvard.edu/abs/2012ApJ...751..102V','Milky Way']\n",
    "abundance_norm=['Anders','1989']\n",
    "abundance_label=['[Fe/H]','err']\n",
    "abundance_data = [-2.81,0.34]\n",
    "add_abundance_data(abundance_paper,abundance_norm,abundance_label,abundance_data)\n"
   ]
  },
  {
   "cell_type": "code",
   "execution_count": 250,
   "metadata": {
    "collapsed": false,
    "deletable": true,
    "editable": true
   },
   "outputs": [
    {
     "data": {
      "text/plain": [
       "(3, 4, 5, 1, 2, 3)"
      ]
     },
     "execution_count": 250,
     "metadata": {},
     "output_type": "execute_result"
    }
   ],
   "source": [
    "(3,4,5)+tuple([1,2,3])"
   ]
  },
  {
   "cell_type": "code",
   "execution_count": 19,
   "metadata": {
    "collapsed": false,
    "deletable": true,
    "editable": true
   },
   "outputs": [
    {
     "name": "stdout",
     "output_type": "stream",
     "text": [
      "test a\n"
     ]
    }
   ],
   "source": [
    "a = 'test %s' % 'a'\n",
    "print a"
   ]
  },
  {
   "cell_type": "code",
   "execution_count": null,
   "metadata": {
    "collapsed": true,
    "deletable": true,
    "editable": true
   },
   "outputs": [],
   "source": [
    "#test\n",
    "results=db.execute('SELECT * FROM refs')\n",
    "results.fetchall()[0]"
   ]
  },
  {
   "cell_type": "markdown",
   "metadata": {
    "deletable": true,
    "editable": true
   },
   "source": [
    "### Add galaxies"
   ]
  },
  {
   "cell_type": "code",
   "execution_count": 23,
   "metadata": {
    "collapsed": false,
    "deletable": true,
    "editable": true
   },
   "outputs": [
    {
     "data": {
      "text/plain": [
       "tuple"
      ]
     },
     "execution_count": 23,
     "metadata": {},
     "output_type": "execute_result"
    }
   ],
   "source": [
    "type((1,2))"
   ]
  },
  {
   "cell_type": "code",
   "execution_count": null,
   "metadata": {
    "collapsed": true,
    "deletable": true,
    "editable": true
   },
   "outputs": [],
   "source": [
    "#create table\n",
    "db=sqlite3.connect('stellab.db')\n",
    "curser=db.cursor()\n",
    "curser.execute('''CREATE TABLE IF NOT EXISTS galaxies (galid integer primary key autoincrement, name text)''')"
   ]
  },
  {
   "cell_type": "code",
   "execution_count": 15,
   "metadata": {
    "collapsed": true,
    "deletable": true,
    "editable": true
   },
   "outputs": [],
   "source": [
    "#add data\n",
    "#db.commit()"
   ]
  },
  {
   "cell_type": "code",
   "execution_count": null,
   "metadata": {
    "collapsed": true,
    "deletable": true,
    "editable": true
   },
   "outputs": [],
   "source": [
    "#add data\n",
    "curser.execute('''CREATE TABLE IF NOT EXISTS solarnorms (normid integer primary key autoincrement, H float, He float, refid integer)''')\n"
   ]
  }
 ],
 "metadata": {
  "kernelspec": {
   "display_name": "Python 2",
   "language": "python",
   "name": "python2"
  },
  "language_info": {
   "codemirror_mode": {
    "name": "ipython",
    "version": 2
   },
   "file_extension": ".py",
   "mimetype": "text/x-python",
   "name": "python",
   "nbconvert_exporter": "python",
   "pygments_lexer": "ipython2",
   "version": "2.7.13"
  }
 },
 "nbformat": 4,
 "nbformat_minor": 2
}
