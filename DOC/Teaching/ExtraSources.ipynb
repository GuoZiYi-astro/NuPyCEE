{
 "cells": [
  {
   "cell_type": "markdown",
   "metadata": {},
   "source": [
    "# How to use different extra sources such as CCSN neutrino-driven winds"
   ]
  },
  {
   "cell_type": "markdown",
   "metadata": {},
   "source": [
    "Prepared by Christian Ritter"
   ]
  },
  {
   "cell_type": "code",
   "execution_count": 1,
   "metadata": {
    "collapsed": false
   },
   "outputs": [
    {
     "name": "stdout",
     "output_type": "stream",
     "text": [
      "/Users/benoitcote/Desktop/OMEGA_SYGMA_inheritance/\n"
     ]
    }
   ],
   "source": [
    "%matplotlib nbagg\n",
    "import matplotlib.pyplot as plt\n",
    "import sys\n",
    "import sygma as s\n",
    "import omega as o\n",
    "import numpy as np\n",
    "print (s.global_path)\n",
    "import read_yields as ry\n",
    "import matplotlib"
   ]
  },
  {
   "cell_type": "markdown",
   "metadata": {},
   "source": [
    "#### AGB and massive star tables used"
   ]
  },
  {
   "cell_type": "code",
   "execution_count": 2,
   "metadata": {
    "collapsed": true
   },
   "outputs": [],
   "source": [
    "table='yield_tables/agb_and_massive_stars_nugrid_MESAonly_fryer12delay.txt'"
   ]
  },
  {
   "cell_type": "markdown",
   "metadata": {},
   "source": [
    "# Setup"
   ]
  },
  {
   "cell_type": "code",
   "execution_count": 3,
   "metadata": {
    "collapsed": false
   },
   "outputs": [],
   "source": [
    "# OMEGA parameters for MW\n",
    "mass_loading = 0.0\n",
    "nb_1a_per_m = 3.0e-3\n",
    "sfe=0.04\n",
    "SF_law=True\n",
    "DM_evolution=False\n",
    "imf_yields_range=[1.0,30.0]\n",
    "special_timesteps=30\n",
    "Z_trans=0.0\n",
    "iniZ=0.0001"
   ]
  },
  {
   "cell_type": "markdown",
   "metadata": {},
   "source": [
    "#### Default setup"
   ]
  },
  {
   "cell_type": "code",
   "execution_count": 4,
   "metadata": {
    "collapsed": false
   },
   "outputs": [
    {
     "name": "stdout",
     "output_type": "stream",
     "text": [
      "OMEGA run in progress..\n",
      "..Time refinement..\n",
      "   OMEGA run completed - Run time: 1.54s\n"
     ]
    }
   ],
   "source": [
    "o0=o.omega(iniZ=iniZ,galaxy='milky_way',Z_trans=Z_trans, table=table,sfe=sfe, DM_evolution=DM_evolution,\\\n",
    "                  mass_loading=mass_loading, nb_1a_per_m=nb_1a_per_m, special_timesteps=special_timesteps,\n",
    "                  imf_yields_range=imf_yields_range,\n",
    "                SF_law=SF_law)"
   ]
  },
  {
   "cell_type": "markdown",
   "metadata": {},
   "source": [
    "### Setup with different extra sources"
   ]
  },
  {
   "cell_type": "markdown",
   "metadata": {},
   "source": [
    "Here we use yields in two (extra source) yield tables which we apply in the mass range from 8Msun to 12Msun and from 12Msun to 30Msun respectively. We apply a factor of 0.5 to the extra yields of the first yield table and 1. to the second yield table."
   ]
  },
  {
   "cell_type": "code",
   "execution_count": 5,
   "metadata": {
    "collapsed": false
   },
   "outputs": [],
   "source": [
    "extra_source_table=['yield_tables/mhdjet_NTT_delayed.txt','yield_tables/ndw_wind_expand.001.txt']\n",
    "#Apply yields only in specific mass ranges;\n",
    "extra_source_mass_range = [[8,12],[12,30]]\n",
    "#percentage of stars to which the yields are added. First entry for first yield table etc.\n",
    "f_extra_source = [0.5,1.]\n",
    "#metallicity to exclude (in this case none)\n",
    "extra_source_exclude_Z = [[], []]"
   ]
  },
  {
   "cell_type": "code",
   "execution_count": 6,
   "metadata": {
    "collapsed": false
   },
   "outputs": [],
   "source": [
    "#you can look at the yields directly with the y1 and y2 parameter below.\n",
    "y1=ry.read_yield_sn1a_tables(s.global_path+extra_source_table[0])\n",
    "y2=ry.read_yield_sn1a_tables(s.global_path+extra_source_table[1])"
   ]
  },
  {
   "cell_type": "markdown",
   "metadata": {},
   "source": [
    "## SYGMA"
   ]
  },
  {
   "cell_type": "code",
   "execution_count": 7,
   "metadata": {
    "collapsed": false
   },
   "outputs": [
    {
     "name": "stdout",
     "output_type": "stream",
     "text": [
      "SYGMA run in progress..\n",
      "   SYGMA run completed - Run time: 0.48s\n"
     ]
    }
   ],
   "source": [
    "s0 = s.sygma(iniZ=0.0001,extra_source_on=False) #default False"
   ]
  },
  {
   "cell_type": "code",
   "execution_count": 8,
   "metadata": {
    "collapsed": false
   },
   "outputs": [
    {
     "name": "stdout",
     "output_type": "stream",
     "text": [
      "SYGMA run in progress..\n",
      "   SYGMA run completed - Run time: 0.51s\n"
     ]
    }
   ],
   "source": [
    "s0p1 = s.sygma(iniZ=0.0001,extra_source_on=True,\n",
    "             extra_source_table=extra_source_table,extra_source_mass_range=extra_source_mass_range,\n",
    "           f_extra_source=f_extra_source, extra_source_exclude_Z=extra_source_exclude_Z)"
   ]
  },
  {
   "cell_type": "markdown",
   "metadata": {},
   "source": [
    "## OMEGA"
   ]
  },
  {
   "cell_type": "code",
   "execution_count": 9,
   "metadata": {
    "collapsed": false
   },
   "outputs": [
    {
     "name": "stdout",
     "output_type": "stream",
     "text": [
      "OMEGA run in progress..\n",
      "..Time refinement..\n",
      "   OMEGA run completed - Run time: 1.81s\n"
     ]
    }
   ],
   "source": [
    "o0p1=o.omega(iniZ=iniZ,galaxy='milky_way',Z_trans=Z_trans, table=table,sfe=sfe, DM_evolution=DM_evolution,\\\n",
    "                  mass_loading=mass_loading, nb_1a_per_m=nb_1a_per_m, special_timesteps=special_timesteps,\n",
    "                  imf_yields_range=imf_yields_range,SF_law=SF_law,extra_source_on=True,\n",
    "           extra_source_table=extra_source_table,extra_source_mass_range=extra_source_mass_range,\n",
    "           f_extra_source=f_extra_source, extra_source_exclude_Z=extra_source_exclude_Z)"
   ]
  },
  {
   "cell_type": "code",
   "execution_count": null,
   "metadata": {
    "collapsed": true
   },
   "outputs": [],
   "source": []
  }
 ],
 "metadata": {
  "kernelspec": {
   "display_name": "Python 3",
   "language": "python",
   "name": "python3"
  },
  "language_info": {
   "codemirror_mode": {
    "name": "ipython",
    "version": 3
   },
   "file_extension": ".py",
   "mimetype": "text/x-python",
   "name": "python",
   "nbconvert_exporter": "python",
   "pygments_lexer": "ipython3",
   "version": "3.4.5"
  }
 },
 "nbformat": 4,
 "nbformat_minor": 0
}
