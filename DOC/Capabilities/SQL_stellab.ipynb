{
 "cells": [
  {
   "cell_type": "markdown",
   "metadata": {
    "deletable": true,
    "editable": true
   },
   "source": [
    "# Building SQL database for Stellab"
   ]
  },
  {
   "cell_type": "markdown",
   "metadata": {
    "deletable": true,
    "editable": true
   },
   "source": [
    "SQL code to create stellab database"
   ]
  },
  {
   "cell_type": "markdown",
   "metadata": {
    "deletable": true,
    "editable": true
   },
   "source": [
    "Tables:\n",
    "* refs: Table with literature references:\n",
    "    * refid: unique reference id (PK)\n",
    "    * fauthor: first author\n",
    "    * year\n",
    "    * nasaads: link to nasa ads page\n",
    "\n",
    "* galaxies\n",
    "    * gali: unique ref id\n",
    "    * name: galaxy name\n",
    "\n",
    "* solarnorms\n",
    "    * normid: unique reference id (PK)\n",
    "    * H, He... abundance entries\n",
    "    * refids\n",
    "\n",
    "* abundance\n",
    "    * abuid: unique reference id\n",
    "    * element ratio1, element ratio2...\n",
    "    * error1, errror2 ...\n",
    "\n",
    "Tips:\n",
    "* Use not null\n",
    "* fixed lenght type arrays are faster"
   ]
  },
  {
   "cell_type": "code",
   "execution_count": 4,
   "metadata": {
    "collapsed": true,
    "deletable": true,
    "editable": true
   },
   "outputs": [],
   "source": [
    "#pip install pymysql"
   ]
  },
  {
   "cell_type": "code",
   "execution_count": 2,
   "metadata": {
    "collapsed": true,
    "deletable": true,
    "editable": true
   },
   "outputs": [],
   "source": [
    "#We choose sqlite3 because it does not require to install mysql or run a server.\n",
    "import sqlite3\n",
    "import stellab as st"
   ]
  },
  {
   "cell_type": "markdown",
   "metadata": {
    "deletable": true,
    "editable": true
   },
   "source": [
    "SQLite is a C library that provides a lightweight disk-based database that doesn’t require a separate server process and allows accessing the database using a nonstandard variant of the SQL query language. "
   ]
  },
  {
   "cell_type": "code",
   "execution_count": 59,
   "metadata": {
    "collapsed": true,
    "deletable": true,
    "editable": true
   },
   "outputs": [],
   "source": []
  },
  {
   "cell_type": "markdown",
   "metadata": {
    "deletable": true,
    "editable": true
   },
   "source": [
    "Creating database and table refs"
   ]
  },
  {
   "cell_type": "markdown",
   "metadata": {
    "deletable": true,
    "editable": true
   },
   "source": [
    "### Add references"
   ]
  },
  {
   "cell_type": "code",
   "execution_count": 4,
   "metadata": {
    "collapsed": false,
    "deletable": true,
    "editable": true
   },
   "outputs": [],
   "source": [
    "st1=st.stellab()\n",
    "#papers=st1.list_ref_papers()\n",
    "legs=st1.leg\n",
    "\n",
    "name=[]\n",
    "year=[]\n",
    "for i,labels in enumerate(legs):\n",
    "    name.append(labels.split('(')[0].strip())\n",
    "    year.append(labels.split('(')[1].strip()[:-1])"
   ]
  },
  {
   "cell_type": "code",
   "execution_count": 8,
   "metadata": {
    "collapsed": false
   },
   "outputs": [
    {
     "name": "stdout",
     "output_type": "stream",
     "text": [
      "Anders_Grevesse_1989\n",
      "Grevesse_Noels_1993\n",
      "Grevesse_Sauval_1998\n",
      "Asplund_et_al_2009\n",
      "Asplund_et_al_2005\n",
      "Lodders_et_al_2009\n"
     ]
    }
   ],
   "source": [
    "st1.list_solar_norm()"
   ]
  },
  {
   "cell_type": "code",
   "execution_count": 37,
   "metadata": {
    "collapsed": true,
    "deletable": true,
    "editable": true
   },
   "outputs": [],
   "source": [
    "data=[['Venn',2012,'http://adsabs.harvard.edu/abs/2012ApJ...751..102V']]"
   ]
  },
  {
   "cell_type": "code",
   "execution_count": 74,
   "metadata": {
    "collapsed": true,
    "deletable": true,
    "editable": true
   },
   "outputs": [],
   "source": [
    "#create table\n",
    "!rm stellab.db\n",
    "db=sqlite3.connect('stellab.db')\n",
    "curser=db.cursor()\n",
    "curser.execute('''CREATE TABLE IF NOT EXISTS refs (refid integer primary key autoincrement, fauthour text, year year, nasads text)''')\n",
    "curser.execute('''CREATE TABLE IF NOT EXISTS galaxies (galid integer primary key autoincrement, name text)''')\n",
    "curser.execute('''CREATE TABLE IF NOT EXISTS solarnorms (normid integer primary key autoincrement, H float, He float, refid integer)''')\n",
    "db.commit()"
   ]
  },
  {
   "cell_type": "code",
   "execution_count": 75,
   "metadata": {
    "collapsed": false
   },
   "outputs": [
    {
     "data": {
      "text/plain": [
       "<sqlite3.Cursor at 0x10ec1cc00>"
      ]
     },
     "execution_count": 75,
     "metadata": {},
     "output_type": "execute_result"
    }
   ],
   "source": [
    "curser.execute('''INSERT INTO refs (fauthour,year,nasads) VALUES \n",
    "        ('Anders','1989', 'http://adsabs.harvard.edu/abs/2012ApJ')''')"
   ]
  },
  {
   "cell_type": "code",
   "execution_count": 102,
   "metadata": {
    "collapsed": false
   },
   "outputs": [],
   "source": [
    "\n",
    "def check_normalization(name,year):\n",
    "    results = db.execute('''SELECT refid FROM refs WHERE (fauthour = '%s' and year = '%s' )''' % (name,year))  #% ('Anders','1989'))\n",
    "    refid = results.fetchall()\n",
    "    if len(refid)==1:\n",
    "        refid = refid[0][0]\n",
    "        results = db.execute('''SELECT normid FROM solarnorms WHERE (refid = %s )''' %(refid))\n",
    "        normid = results.fetchall()\n",
    "        if len(normid)==1:\n",
    "            print normid\n",
    "        else:\n",
    "            print 'normalization data for reference paper not available. Add normalization data first.'\n",
    "    else:\n",
    "        print 'paper for normalization not available. Add paper reference first.'\n",
    "    stop"
   ]
  },
  {
   "cell_type": "code",
   "execution_count": 104,
   "metadata": {
    "collapsed": true
   },
   "outputs": [],
   "source": [
    "def add_paper_ref(name,year,url):\n",
    "    results = db.execute('''SELECT refid FROM refs WHERE (fauthour = '%s' and year = '%s' )''' % \n",
    "                         (name,year))\n",
    "    if len(results)==0:\n",
    "            print 'add abu data paper'\n",
    "            #some insert ...\n",
    "    else:\n",
    "        print 'abu data paper exists already'"
   ]
  },
  {
   "cell_type": "code",
   "execution_count": null,
   "metadata": {
    "collapsed": true
   },
   "outputs": [],
   "source": [
    "def add_abundance(name,year,url):\n",
    "    results = db.execute('''SELECT refid FROM refs WHERE (fauthour = '%s' and year = '%s' )''' % \n",
    "                         (name,year))\n",
    "    if len(results)==0:\n",
    "            print 'add abu data paper'\n",
    "            #some insert ...\n",
    "    else:\n",
    "        print 'abu data paper exists already'"
   ]
  },
  {
   "cell_type": "code",
   "execution_count": 101,
   "metadata": {
    "collapsed": false
   },
   "outputs": [
    {
     "name": "stdout",
     "output_type": "stream",
     "text": [
      "normalization data for reference paper not available. Add normalization data first.\n"
     ]
    }
   ],
   "source": [
    "check_normalization('Anders','1989')"
   ]
  },
  {
   "cell_type": "code",
   "execution_count": 12,
   "metadata": {
    "collapsed": true
   },
   "outputs": [],
   "source": [
    "#add new dataset\n",
    "\n",
    "abundance_paper=['Venn',2012,'http://adsabs.harvard.edu/abs/2012ApJ...751..102V','Milky Way']\n",
    "abundance_norm=['Anders','1989']\n",
    "abundance_label=['[Fe/H]','err']\n",
    "abundance_data = [-2.81,0.34,]"
   ]
  },
  {
   "cell_type": "code",
   "execution_count": 38,
   "metadata": {
    "collapsed": true,
    "deletable": true,
    "editable": true
   },
   "outputs": [],
   "source": [
    "def add_abundance_data(abu_info,abu_norm,abu_label,abu_data):\n",
    "    '''\n",
    "    Adding new abundance data to file\n",
    "    where for example \n",
    "    abundance_info=['Venn',2012,'http://adsabs.harvard.edu/abs/2012ApJ...751..102V','Milky Way','Anders_Grevesse_1989']\n",
    "    abundance_label=['[Fe/H]','err']\n",
    "    abundance_data = [-2.81,0.34,]    \n",
    "    '''\n",
    "    \n",
    "    #check if normalization paper and data already exists in database\n",
    "    check_normalization(abu_norm[0],abu_norm[1])\n",
    "    \n",
    "    #check if abundance paper into database, if it does not exist\n",
    "    add_paper_ref(abundance_paper[0],abundance_paper[1],abundance_paper[2])\n",
    "\n",
    "    # add abundance data\n",
    "    \n",
    "    curser.execute('''SELECT TABLE \n",
    "    if abundance_info[4]:\n",
    "    \n",
    "    \n",
    "    \n",
    "#add data\n",
    "curser.executemany('''INSERT INTO refs (name,year,nasads) VALUES ( ?, ?, ?)''', data)\n",
    "db.commit()"
   ]
  },
  {
   "cell_type": "code",
   "execution_count": null,
   "metadata": {
    "collapsed": true,
    "deletable": true,
    "editable": true
   },
   "outputs": [],
   "source": [
    "#test\n",
    "results=db.execute('SELECT * FROM refs')\n",
    "results.fetchall()[0]"
   ]
  },
  {
   "cell_type": "markdown",
   "metadata": {
    "deletable": true,
    "editable": true
   },
   "source": [
    "### Add galaxies"
   ]
  },
  {
   "cell_type": "code",
   "execution_count": null,
   "metadata": {
    "collapsed": true,
    "deletable": true,
    "editable": true
   },
   "outputs": [],
   "source": []
  },
  {
   "cell_type": "code",
   "execution_count": null,
   "metadata": {
    "collapsed": true,
    "deletable": true,
    "editable": true
   },
   "outputs": [],
   "source": [
    "#create table\n",
    "db=sqlite3.connect('stellab.db')\n",
    "curser=db.cursor()\n",
    "curser.execute('''CREATE TABLE IF NOT EXISTS galaxies (galid integer primary key autoincrement, name text)''')"
   ]
  },
  {
   "cell_type": "code",
   "execution_count": 15,
   "metadata": {
    "collapsed": true,
    "deletable": true,
    "editable": true
   },
   "outputs": [],
   "source": [
    "#add data\n",
    "#db.commit()"
   ]
  },
  {
   "cell_type": "code",
   "execution_count": null,
   "metadata": {
    "collapsed": true,
    "deletable": true,
    "editable": true
   },
   "outputs": [],
   "source": [
    "#add data\n",
    "curser.execute('''CREATE TABLE IF NOT EXISTS solarnorms (normid integer primary key autoincrement, H float, He float, refid integer)''')\n"
   ]
  }
 ],
 "metadata": {
  "kernelspec": {
   "display_name": "Python 2",
   "language": "python",
   "name": "python2"
  },
  "language_info": {
   "codemirror_mode": {
    "name": "ipython",
    "version": 2
   },
   "file_extension": ".py",
   "mimetype": "text/x-python",
   "name": "python",
   "nbconvert_exporter": "python",
   "pygments_lexer": "ipython2",
   "version": "2.7.13"
  }
 },
 "nbformat": 4,
 "nbformat_minor": 2
}
