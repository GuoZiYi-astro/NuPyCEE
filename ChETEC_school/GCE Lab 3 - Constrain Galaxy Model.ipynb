{
 "cells": [
  {
   "cell_type": "markdown",
   "metadata": {},
   "source": [
    "# GCE Lab 3 - Constrain Galaxy Model"
   ]
  },
  {
   "cell_type": "markdown",
   "metadata": {},
   "source": [
    "This notebook presents how to plot the basic galaxy evolution properties of your simple Milky Way model. Those plots will allow you to calibrate your model against several observations (taken from [Kubryk et al. 2015](http://adsabs.harvard.edu/abs/2015A%26A...580A.126K))."
   ]
  },
  {
   "cell_type": "code",
   "execution_count": null,
   "metadata": {},
   "outputs": [],
   "source": [
    "# Bypass any already-installed version (useful for AstroHub)\n",
    "import sys\n",
    "if \"/opt/NuPyCEE\" in sys.path:\n",
    "    sys.path.remove(\"/opt/NuPyCEE\")\n",
    "if \"/opt/JINAPyCEE\" in sys.path:\n",
    "    sys.path.remove(\"/opt/JINAPyCEE\")\n",
    "if \"/opt\" in sys.path:\n",
    "    sys.path.remove(\"/opt\")\n",
    "    \n",
    "# Import the standard Python packages\n",
    "import matplotlib\n",
    "import matplotlib.pyplot as plt\n",
    "import numpy as np\n",
    "\n",
    "# Two-zone galactic chemical evolution code\n",
    "import JINAPyCEE.omega_plus as omega_plus\n",
    "\n",
    "# Matplotlib option\n",
    "%matplotlib inline"
   ]
  },
  {
   "cell_type": "markdown",
   "metadata": {},
   "source": [
    "## Your Tasks"
   ]
  },
  {
   "cell_type": "markdown",
   "metadata": {},
   "source": [
    "* Understand the impact of the star formation efficiency and the galactic inflow rate on the general properties of your Milky Way model.\n",
    "* **Find a set of input parameters that reproduce the observational constraints**."
   ]
  },
  {
   "cell_type": "markdown",
   "metadata": {},
   "source": [
    "### Key Equation for Star Formation\n",
    "\n",
    "The global star formation rate ($\\dot{M}_\\star$) inside the galaxy model at time $t$ depends on the mass of gas $M_{gas}$ inside the galaxy and the star formation efficiency $f_\\star$ [yr$^{-1}$].\n",
    "\n",
    "$$\\dot{M}_\\star(t)=f_\\star M_\\mathrm{gas}(t)\\quad\\mbox{[M$_\\odot$ yr$^{-1}$]}$$"
   ]
  },
  {
   "cell_type": "markdown",
   "metadata": {},
   "source": [
    "## 1. Run GCE Model"
   ]
  },
  {
   "cell_type": "markdown",
   "metadata": {},
   "source": [
    "In the following example, you will be using a galactic inflow prescription that is similar to the two-infall model presented in [Chiappini et al. (1997)](http://adsabs.harvard.edu/abs/1997ApJ...477..765C)."
   ]
  },
  {
   "cell_type": "code",
   "execution_count": null,
   "metadata": {},
   "outputs": [],
   "source": [
    "# \\\\\\\\\\\\\\\\\\\\ Modify below \\\\\\\\\\\\\\\\\\\\\\\\\n",
    "# ====================================\n",
    "\n",
    "# Star formation efficiency (f_\\star) --> [dimensionless]\n",
    "# Original value in the notebook --> 1e-11\n",
    "sfe = 1e-11\n",
    "\n",
    "# Magnitude (strength) of the galactic inflow rate\n",
    "# Original value in the notebook --> 0.1\n",
    "in_mag = 0.1\n",
    "\n",
    "# ====================================\n",
    "# ////////// Modify above ////////////\n",
    "\n",
    "# Run OMEGA+ with the first set of parameters\n",
    "op = omega_plus.omega_plus(sfe=sfe, special_timesteps=200, t_star=1.0, \\\n",
    "                           exp_infall = [[in_mag*40, 0.0, 0.8e9], [in_mag*5, 1.0e9, 7.0e9]])"
   ]
  },
  {
   "cell_type": "markdown",
   "metadata": {},
   "source": [
    "## 2. Plot the Star Formation History"
   ]
  },
  {
   "cell_type": "markdown",
   "metadata": {},
   "source": [
    "The current star formation rate (SFR) is about 2 M$_\\odot$ yr$^{-1}$. This is the value your model should have at the end of the simulation (at a Galactic age $t=13$ Gyr).\n",
    "\n",
    "**Useful Information:** With a higher star formation efficiency, the gas reservoir will be converted into stars more rapidly.\n",
    "\n",
    "**Useful Information:** The magnitude of the star formation rate is very sensitive to the galactic inflow rate."
   ]
  },
  {
   "cell_type": "code",
   "execution_count": null,
   "metadata": {},
   "outputs": [],
   "source": [
    "# Set the figure size\n",
    "fig = plt.figure(figsize=(12,7))\n",
    "matplotlib.rcParams.update({'font.size': 16.0})\n",
    "\n",
    "# Plot the evolution of the star formation rate (SFR)\n",
    "op.inner.plot_star_formation_rate(color='r', marker=' ', label=\"Prediction\")\n",
    "\n",
    "# Plot the observational constraint (cyan color)\n",
    "plt.plot([13e9,13e9], [0.65,3.0], linewidth=6, color='c', alpha=0.5, label=\"Observation\")\n",
    "\n",
    "# Labels and legend\n",
    "plt.xlabel('Galactic age [yr]', fontsize=16)\n",
    "plt.legend()\n",
    "\n",
    "# Print the total stellar mass formed\n",
    "print(\"Integrated stellar mass:\",'%.2e'%sum(op.inner.history.m_locked),'M_sun')\n",
    "print(\".. Should between 3.00e+10 and 5.00e+10 M_sun\")"
   ]
  },
  {
   "cell_type": "markdown",
   "metadata": {},
   "source": [
    "## 3. Plot the Evolution of the Mass of Gas"
   ]
  },
  {
   "cell_type": "markdown",
   "metadata": {},
   "source": [
    "The current total mass of gas in the Milky Way is about $7\\times10^{9}$ M$_\\odot$. This is the value your model should have at the end of the simulation (at a Galactic age $t=13$ Gyr).\n",
    "\n",
    "**Useful Information:** The mass of gas depends strongly on the galactic inflow rate."
   ]
  },
  {
   "cell_type": "code",
   "execution_count": null,
   "metadata": {},
   "outputs": [],
   "source": [
    "# Set the figure size\n",
    "fig = plt.figure(figsize=(12,7))\n",
    "matplotlib.rcParams.update({'font.size': 16.0})\n",
    "\n",
    "# Plot the evolution of the mass of gas in the interstellar medium (ISM)\n",
    "op.inner.plot_totmasses(color='r', marker=' ', label=\"Prediction\")\n",
    "\n",
    "# Plot the observational constraint\n",
    "plt.plot([12.9e9,12.9e9], [3.6e9,12.6e9], linewidth=6, color='c', alpha=0.5, label=\"Observation\")\n",
    "\n",
    "# Labels and legend\n",
    "plt.xscale('linear')\n",
    "plt.xlabel('Galactic age [yr]')\n",
    "plt.ylim(1e8,1e11)\n",
    "plt.legend()"
   ]
  },
  {
   "cell_type": "markdown",
   "metadata": {},
   "source": [
    "## 4. Plot the Evolution of Iron Abundance [Fe/H]"
   ]
  },
  {
   "cell_type": "markdown",
   "metadata": {},
   "source": [
    "$[A/B]=\\log(n_A/n_B)-\\log(n_A/n_B)_\\odot$"
   ]
  },
  {
   "cell_type": "markdown",
   "metadata": {},
   "source": [
    "To represent the solar neighbourhood, [Fe/H] in your model should reach zero (solar value) about 4.6 Gyr before the end of the simulation, representing the moment the Sun formed.\n",
    "\n",
    "**Useful Information:** The [Fe/H] is mostly sensitive to the star formation efficiency. In other words, it is sensitive to the mass of gas (H) in which stars inject their metals (Fe)."
   ]
  },
  {
   "cell_type": "code",
   "execution_count": null,
   "metadata": {},
   "outputs": [],
   "source": [
    "# Set the figure size\n",
    "fig = plt.figure(figsize=(12,7.0))\n",
    "matplotlib.rcParams.update({'font.size': 16.0})\n",
    "\n",
    "# Plot the evolution of [Fe/H], the iron abundance of the gas inside the galaxy\n",
    "op.inner.plot_spectro(color='r', marker=\" \", label=\"Prediction\")\n",
    "\n",
    "# Plot the solar value (black dotted lines)\n",
    "t_Sun = 13.0e9 - 4.6e9\n",
    "plt.plot([t_Sun,t_Sun], [-2,1], ':k')\n",
    "plt.plot([0,13e9], [0,0], ':k')\n",
    "\n",
    "# Labels and legend\n",
    "plt.ylim(-2,1)\n",
    "plt.xscale('linear')\n",
    "plt.xlabel('Galactic age [yr]')\n",
    "plt.legend()"
   ]
  },
  {
   "cell_type": "markdown",
   "metadata": {},
   "source": [
    "## 5. Plot the Evolution of the Galactic Inflow Rate"
   ]
  },
  {
   "cell_type": "markdown",
   "metadata": {},
   "source": [
    "The current galactic inflow rate estimated for the Milky Way is about 1 M$_\\odot$ yr$^{-1}$."
   ]
  },
  {
   "cell_type": "code",
   "execution_count": null,
   "metadata": {},
   "outputs": [],
   "source": [
    "# Set the figure size\n",
    "fig = plt.figure(figsize=(10,6.0))\n",
    "matplotlib.rcParams.update({'font.size': 16.0})\n",
    "\n",
    "# Plot the evolution of the inflow rate\n",
    "op.inner.plot_inflow_rate(color='r', marker=\" \", label=\"Prediction\")\n",
    "\n",
    "# Plot the observational constraint\n",
    "plt.plot([13e9,13e9], [0.6,1.6], linewidth=6, color='c', alpha=0.5, label=\"Observation\")\n",
    "\n",
    "# Labels and legend\n",
    "plt.yscale('log')\n",
    "plt.xlabel('Galactic age [yr]')\n",
    "plt.legend()"
   ]
  },
  {
   "cell_type": "code",
   "execution_count": null,
   "metadata": {},
   "outputs": [],
   "source": []
  }
 ],
 "metadata": {
  "kernelspec": {
   "display_name": "Python 3",
   "language": "python",
   "name": "python3"
  },
  "language_info": {
   "codemirror_mode": {
    "name": "ipython",
    "version": 3
   },
   "file_extension": ".py",
   "mimetype": "text/x-python",
   "name": "python",
   "nbconvert_exporter": "python",
   "pygments_lexer": "ipython3",
   "version": "3.7.4"
  }
 },
 "nbformat": 4,
 "nbformat_minor": 1
}
