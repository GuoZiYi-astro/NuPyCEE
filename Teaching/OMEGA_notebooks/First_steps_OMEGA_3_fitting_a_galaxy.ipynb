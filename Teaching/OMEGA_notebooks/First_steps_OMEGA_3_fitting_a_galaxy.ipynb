{
 "cells": [
  {
   "cell_type": "markdown",
   "metadata": {},
   "source": [
    "# First steps with OMEGA - Fitting a galaxy"
   ]
  },
  {
   "cell_type": "markdown",
   "metadata": {},
   "source": [
    "This notebook shows how the general concepts of chemical evolution models, seen in First_steps_OMEGA_closed_box.ipynb and First_steps_OMEGA_open_box.ipynb, can be used to reproduce the chemical evolution of nearby galaxies.  It also introduce STELLAB, our stellar abundances data management tool."
   ]
  },
  {
   "cell_type": "code",
   "execution_count": null,
   "metadata": {
    "collapsed": false
   },
   "outputs": [],
   "source": [
    "# Python packages\n",
    "%matplotlib nbagg\n",
    "import matplotlib\n",
    "import matplotlib.pyplot as plt\n",
    "import seaborn as sns\n",
    "import numpy as np\n",
    "sns.reset_orig()\n",
    "\n",
    "# Shared class between SYGMA and OMEGA\n",
    "import chem_evol\n",
    "reload(chem_evol)\n",
    "\n",
    "# One-zone galactic chemical evolution code\n",
    "import omega\n",
    "reload(omega)\n",
    "\n",
    "# Stellar abundances plotting code\n",
    "import stellab\n",
    "reload(stellab)\n",
    "\n",
    "# There may be warning messages here .. but it's all ok!"
   ]
  },
  {
   "cell_type": "markdown",
   "metadata": {},
   "source": [
    "## 1. STELLAB (Stellar Abundances)"
   ]
  },
  {
   "cell_type": "markdown",
   "metadata": {},
   "source": [
    "To plot the observed stellar abundances of a galaxy, STELLAB first needs to be launched without input parameter."
   ]
  },
  {
   "cell_type": "code",
   "execution_count": null,
   "metadata": {
    "collapsed": true
   },
   "outputs": [],
   "source": [
    "s = stellab.stellab()"
   ]
  },
  {
   "cell_type": "markdown",
   "metadata": {},
   "source": [
    "The next step is to select a galaxy.  So far, STELLAB includes the Milky Way, Sculptor, Carina, Fornax, and the LMC.  Simply use the *galaxy* parameter and enter the name of the galaxy with lower cases (spaces need to be replaced by underscores).  Then, use the *plot_spectro* function to visualize the wanted abundance ratios."
   ]
  },
  {
   "cell_type": "code",
   "execution_count": null,
   "metadata": {
    "collapsed": false
   },
   "outputs": [],
   "source": [
    "%matplotlib nbagg\n",
    "galaxy = 'sculptor'\n",
    "s.plot_spectro(galaxy=galaxy, xaxis='[Fe/H]', yaxis='[Si/Fe]')\n",
    "plt.ylim(-1.6, 1.6)"
   ]
  },
  {
   "cell_type": "markdown",
   "metadata": {},
   "source": [
    "## 2.  Fornax and OMEGA - Fitting Mg abundances"
   ]
  },
  {
   "cell_type": "markdown",
   "metadata": {},
   "source": [
    "To mimic the evolution of a known galaxy, here Fornax, use the *galaxy* parameter when creating an instance of OMEGA.  This will automatically select the appropriate star formation history (SFH) extracted from observations, here de Boer et al. (2012)."
   ]
  },
  {
   "cell_type": "code",
   "execution_count": null,
   "metadata": {
    "collapsed": false
   },
   "outputs": [],
   "source": [
    "# Run an OMEGA closed-box simulation of Fornax\n",
    "galaxy = 'fornax'\n",
    "o_scl = omega.omega(galaxy=galaxy, mgal=1e9)"
   ]
  },
  {
   "cell_type": "markdown",
   "metadata": {},
   "source": [
    "In the plot below, numerical predictions are compared with observations.  One thing to keep in mind is that the first try is never the good one.  The input parameters always need to be tuned to better reproduce observations."
   ]
  },
  {
   "cell_type": "code",
   "execution_count": null,
   "metadata": {
    "collapsed": false
   },
   "outputs": [],
   "source": [
    "# Select the abundance ratios\n",
    "yaxis = '[Mg/Fe]'\n",
    "xaxis = '[Fe/H]'\n",
    "\n",
    "# Plot observations\n",
    "s.plot_spectro(galaxy=galaxy, xaxis=xaxis, yaxis=yaxis)\n",
    "\n",
    "# Extract the numerical prediction using the return_x_y parameter\n",
    "xy_omega = o_scl.plot_spectro(xaxis=xaxis, yaxis=yaxis, return_x_y=True)\n",
    "\n",
    "# Overplot the predictions on top of observations\n",
    "plt.plot(xy_omega[0], xy_omega[1], color='w', linewidth=3.0)\n",
    "plt.plot(xy_omega[0], xy_omega[1], color='k', linewidth=1.5, label='OMEGA - original')\n",
    "\n",
    "# Update the legend and set the X and Y axis limits\n",
    "plt.legend(loc='center left', bbox_to_anchor=(1.01, 0.5), markerscale=0.8, fontsize=14)\n",
    "plt.ylim(-1.6, 1.6)\n",
    "plt.xlim(-3.2, 0.2)"
   ]
  },
  {
   "cell_type": "markdown",
   "metadata": {},
   "source": [
    "As seen above, the agreement is currently not so good. At high metallicity ([Fe/H] > -1.5), there is no prediction, and at low metallicity ([Fe/H] < -1.5), the predicted [Mg/Fe] ratios are too low compared to observations.  These issues can be fixed by tuning the input parameters. Let's focus on the low metallicity region first."
   ]
  },
  {
   "cell_type": "markdown",
   "metadata": {},
   "source": [
    "### 2.1. Initial mass of gas"
   ]
  },
  {
   "cell_type": "markdown",
   "metadata": {},
   "source": [
    "Because of our stellar yields, it is possible to reproduce the data at low metallicity, since our numerical predictions initially have large [Mg/Fe] values at [Fe/H] < -4 (see the plot below)."
   ]
  },
  {
   "cell_type": "code",
   "execution_count": null,
   "metadata": {
    "collapsed": false
   },
   "outputs": [],
   "source": [
    "# Plot observations\n",
    "s.plot_spectro(galaxy=galaxy, xaxis=xaxis, yaxis=yaxis)\n",
    "\n",
    "# Extract the numerical prediction using the return_x_y parameter\n",
    "xy_omega = o_scl.plot_spectro(xaxis=xaxis, yaxis=yaxis, return_x_y=True)\n",
    "\n",
    "# Overplot the predictions on top of observations\n",
    "plt.plot(xy_omega[0], xy_omega[1], color='w', linewidth=3.0)\n",
    "plt.plot(xy_omega[0], xy_omega[1], color='k', linewidth=1.5, label='OMEGA - original')\n",
    "\n",
    "# Update the legend and set the X and Y axis limits\n",
    "plt.legend(loc='center left', bbox_to_anchor=(1.01, 0.5), markerscale=0.8, fontsize=14)\n",
    "plt.ylim(-1.6, 1.6)"
   ]
  },
  {
   "cell_type": "markdown",
   "metadata": {},
   "source": [
    "As seen in First_steps_OMEGA_closed_box.ipynb, numerical predictions can be shifted on the [Fe/H] axis by modifying the initial mass of the gas reservoir. Here we want a shift toward higher [Fe/H]. Therefore, the mass of gas (H) must be reduced to generate a larger Fe contentration."
   ]
  },
  {
   "cell_type": "code",
   "execution_count": null,
   "metadata": {
    "collapsed": false
   },
   "outputs": [],
   "source": [
    "# Run an OMEGA closed-box simulation with different initial gas reservoir\n",
    "o_scl_1e7 = omega.omega(galaxy=galaxy, mgal=1e7)"
   ]
  },
  {
   "cell_type": "code",
   "execution_count": null,
   "metadata": {
    "collapsed": false
   },
   "outputs": [],
   "source": [
    "# Plot observations\n",
    "s.plot_spectro(galaxy=galaxy, xaxis=xaxis, yaxis=yaxis)\n",
    "\n",
    "# Extract the numerical prediction using the return_x_y parameter\n",
    "xy_1e7 = o_scl_1e7.plot_spectro(xaxis=xaxis, yaxis=yaxis, return_x_y=True)\n",
    "\n",
    "# Overplot the predictions on top of observations\n",
    "plt.plot(xy_1e7[0],   xy_1e7[1],   color='w', linewidth=3.0)\n",
    "plt.plot(xy_omega[0], xy_omega[1], color='w', linewidth=3.0)\n",
    "plt.plot(xy_1e7[0],   xy_1e7[1],   color='m', linewidth=1.5, label='OMEGA - mgal = 1e7')\n",
    "plt.plot(xy_omega[0], xy_omega[1], color='k', linewidth=1.5, label='OMEGA - original')\n",
    "\n",
    "# Update the legend and set the X and Y axis limits\n",
    "plt.legend(loc='center left', bbox_to_anchor=(1.01, 0.5), markerscale=0.8, fontsize=14)\n",
    "plt.ylim(-1.6, 1.6)\n",
    "plt.xlim(-3.2, 0.2)"
   ]
  },
  {
   "cell_type": "markdown",
   "metadata": {},
   "source": [
    "Although reducing the mass of the gas reservoir seems to improve the results (pink line), the system eventually runs out of gas, as warned during the last OMEGA calculation. An open-box model is thus needed."
   ]
  },
  {
   "cell_type": "markdown",
   "metadata": {},
   "source": [
    "### 2.2. Galactic inflows for sustaining the SFH"
   ]
  },
  {
   "cell_type": "markdown",
   "metadata": {},
   "source": [
    "Using an open-box model introduces galactic inflows, which help sustaining the SFH when the initial mass of gas needs to be low. Let's use the *SF_law* parameter seen in First_steps_OMEGA_open_box.ipynb. In this model, the star formation efficiency *sfe* parameter sets the initial mass of the gas reservoir. Increasing *sfe* implies that less gas is needed to form the same amount of stars."
   ]
  },
  {
   "cell_type": "code",
   "execution_count": null,
   "metadata": {
    "collapsed": false
   },
   "outputs": [],
   "source": [
    "# Run an OMEGA open-box simulation with different star formation efficiency (gas mass)\n",
    "o_scl_sfe_0_01 = omega.omega(galaxy=galaxy, SF_law=True, sfe=0.01)\n",
    "o_scl_sfe_0_30 = omega.omega(galaxy=galaxy, SF_law=True, sfe=0.30)"
   ]
  },
  {
   "cell_type": "code",
   "execution_count": null,
   "metadata": {
    "collapsed": false
   },
   "outputs": [],
   "source": [
    "# Plot observations\n",
    "s.plot_spectro(galaxy=galaxy, xaxis=xaxis, yaxis=yaxis)\n",
    "\n",
    "# Extract the numerical prediction using the return_x_y parameter\n",
    "xy_0_01 = o_scl_sfe_0_01.plot_spectro(xaxis=xaxis, yaxis=yaxis, return_x_y=True)\n",
    "xy_0_30 = o_scl_sfe_0_30.plot_spectro(xaxis=xaxis, yaxis=yaxis, return_x_y=True)\n",
    "\n",
    "# Overplot the predictions on top of observations\n",
    "plt.plot(xy_0_30[0],  xy_0_30[1],  color='w', linewidth=3.0)\n",
    "plt.plot(xy_0_01[0],  xy_0_01[1],  color='w', linewidth=3.0)\n",
    "plt.plot(xy_omega[0], xy_omega[1], color='w', linewidth=3.0)\n",
    "plt.plot(xy_0_30[0],  xy_0_30[1],  color='m', linewidth=1.5, label='sfe = 0.30')\n",
    "plt.plot(xy_0_01[0],  xy_0_01[1],  color='m', linewidth=1.5, label='sfe = 0.01', linestyle='--')\n",
    "plt.plot(xy_omega[0], xy_omega[1], color='k', linewidth=1.5, label='original')\n",
    "\n",
    "# Update the legend and set the X and Y axis limits\n",
    "plt.legend(loc='center left', bbox_to_anchor=(1.01, 0.5), markerscale=0.8, fontsize=14)\n",
    "plt.ylim(-1.6, 1.6)\n",
    "plt.xlim(-3.2, 0.2)"
   ]
  },
  {
   "cell_type": "markdown",
   "metadata": {},
   "source": [
    "The predictions are now improved for the low metallicity region.  However, the maximum predicted [Fe/H] is too large compared to observations.  This can be solved by increasing the intensity of the gas circulation."
   ]
  },
  {
   "cell_type": "markdown",
   "metadata": {},
   "source": [
    "### 2.3. Galactic outflows for intensifying the gas circulation"
   ]
  },
  {
   "cell_type": "markdown",
   "metadata": {},
   "source": [
    "The *mass_loading* parameter, available when *SFR_law=True*, regulates the strength of galactic outflows. In this model, modifying the outflow rate will automatically modifies the inflow rate. This is to preserve the relation between the SFH and the available mass of gas. By increasing the *mass_loading* parameter, more metal (Fe) will be ejected and more primordial gas (H) will be introduced, thus decreasing the final [Fe/H] value."
   ]
  },
  {
   "cell_type": "code",
   "execution_count": null,
   "metadata": {
    "collapsed": false
   },
   "outputs": [],
   "source": [
    "# Run an OMEGA open-box simulation with a different gas circulation intensity (inflow/outflow)\n",
    "o_scl_ml_2_0 = omega.omega(galaxy=galaxy, SF_law=True, sfe=0.30, mass_loading=2.0)\n",
    "o_scl_ml_4_0 = omega.omega(galaxy=galaxy, SF_law=True, sfe=0.30, mass_loading=4.0)"
   ]
  },
  {
   "cell_type": "code",
   "execution_count": null,
   "metadata": {
    "collapsed": false
   },
   "outputs": [],
   "source": [
    "# Plot observations\n",
    "s.plot_spectro(galaxy=galaxy, xaxis=xaxis, yaxis=yaxis)\n",
    "\n",
    "# Extract the numerical prediction using the return_x_y parameter\n",
    "xy_ml_2_0 = o_scl_ml_2_0.plot_spectro(xaxis=xaxis, yaxis=yaxis, return_x_y=True)\n",
    "xy_ml_4_0 = o_scl_ml_4_0.plot_spectro(xaxis=xaxis, yaxis=yaxis, return_x_y=True)\n",
    "\n",
    "# Overplot the predictions on top of observations\n",
    "plt.plot(xy_0_30[0],   xy_0_30[1],   color='w', linewidth=3.0)\n",
    "plt.plot(xy_ml_2_0[0], xy_ml_2_0[1], color='w', linewidth=3.0)\n",
    "plt.plot(xy_ml_4_0[0], xy_ml_4_0[1], color='w', linewidth=3.0)\n",
    "plt.plot(xy_omega[0],  xy_omega[1],  color='w', linewidth=3.0)\n",
    "plt.plot(xy_0_30[0],   xy_0_30[1],   color='m', linewidth=1.5, label='sfe = 0.3, ml = 1', linestyle='--')\n",
    "plt.plot(xy_ml_2_0[0], xy_ml_2_0[1], color='m', linewidth=1.5, label='sfe = 0.3, ml = 2')\n",
    "plt.plot(xy_ml_4_0[0], xy_ml_4_0[1], color='r', linewidth=1.5, label='sfe = 0.3, ml = 4', linestyle='--')\n",
    "plt.plot(xy_omega[0],  xy_omega[1],  color='k', linewidth=1.5, label='original')\n",
    "\n",
    "# Update the legend and set the X and Y axis limits\n",
    "plt.legend(loc='center left', bbox_to_anchor=(1.01, 0.5), markerscale=0.8, fontsize=14)\n",
    "plt.ylim(-1.6, 1.6)\n",
    "plt.xlim(-3.2, 0.2)"
   ]
  },
  {
   "cell_type": "markdown",
   "metadata": {},
   "source": [
    "The final predicted [Fe/H] value with the red dashed line is better than with the pink solid line.  However, the bend (or knee) occurs too soon with the red dashed line. Because of that, we are missing most of the data between [Fe/H] = -1 and -0.5. One solution is to keep the pink solid line and to reduce the number of SNe Ia.  Less SNe Ia will reduce the amount of Fe in the system, thus decreasing the final [Fe/H] and increasing the final [Mg/Fe]."
   ]
  },
  {
   "cell_type": "code",
   "execution_count": null,
   "metadata": {
    "collapsed": false
   },
   "outputs": [],
   "source": [
    "# Run an OMEGA open-box simulation with less SNe Ia\n",
    "o_scl_1a_0_4 = omega.omega(galaxy=galaxy, SF_law=True, sfe=0.30, mass_loading=2.0, nb_1a_per_m=0.4e-3)"
   ]
  },
  {
   "cell_type": "code",
   "execution_count": null,
   "metadata": {
    "collapsed": false
   },
   "outputs": [],
   "source": [
    "# Plot observations\n",
    "s.plot_spectro(galaxy=galaxy, xaxis=xaxis, yaxis=yaxis)\n",
    "\n",
    "# Extract the numerical prediction using the return_x_y parameter\n",
    "xy_1a_0_4 = o_scl_1a_0_4.plot_spectro(xaxis=xaxis, yaxis=yaxis, return_x_y=True)\n",
    "\n",
    "# Overplot the predictions on top of observations\n",
    "plt.plot(xy_ml_2_0[0], xy_ml_2_0[1], color='w', linewidth=3.0)\n",
    "plt.plot(xy_1a_0_4[0], xy_1a_0_4[1], color='w', linewidth=3.0)\n",
    "plt.plot(xy_omega[0],  xy_omega[1],  color='w', linewidth=3.0)\n",
    "plt.plot(xy_ml_2_0[0], xy_ml_2_0[1], color='m', linewidth=1.5, label='sfe = 0.3, ml = 2, 1a = 1e-3', linestyle='--')\n",
    "plt.plot(xy_1a_0_4[0], xy_1a_0_4[1], color='m', linewidth=1.5, label='sfe = 0.3, ml = 4, 1a = 4e-4')\n",
    "plt.plot(xy_omega[0],  xy_omega[1],  color='k', linewidth=1.5, label='original')\n",
    "\n",
    "# Update the legend and set the X and Y axis limits\n",
    "plt.legend(loc='center left', bbox_to_anchor=(1.01, 0.5), markerscale=0.8, fontsize=14)\n",
    "plt.ylim(-1.6, 1.6)\n",
    "plt.xlim(-3.2, 0.2)"
   ]
  },
  {
   "cell_type": "markdown",
   "metadata": {},
   "source": [
    "The overall prediction is now consistent with observations compared to the original case. By looking into SYGMA, we see that the [Mg/Fe] ratio is lowered by the presence of the 12 Msun stellar model (with our choice of input yields).  To slightly improve our predictions, we can increase the transition mass between AGB and massive stars from 8 to 10 Msun.  This will produce less massive stars that are using the ejecta of the 12 Msun stellar model."
   ]
  },
  {
   "cell_type": "code",
   "execution_count": null,
   "metadata": {
    "collapsed": false
   },
   "outputs": [],
   "source": [
    "# Run an OMEGA open-box simulation with a different transition mass\n",
    "o_scl_tm_10 = omega.omega(galaxy=galaxy, \\\n",
    "     SF_law=True, sfe=0.3, mass_loading=2.0, nb_1a_per_m=0.4e-3, transitionmass=10)"
   ]
  },
  {
   "cell_type": "code",
   "execution_count": null,
   "metadata": {
    "collapsed": false
   },
   "outputs": [],
   "source": [
    "# Plot observations\n",
    "s.plot_spectro(galaxy=galaxy, xaxis=xaxis, yaxis=yaxis)\n",
    "\n",
    "# Extract the numerical prediction using the return_x_y parameter\n",
    "xy_tm_10 = o_scl_tm_10.plot_spectro(xaxis=xaxis, yaxis=yaxis, return_x_y=True)\n",
    "\n",
    "# Overplot the predictions on top of observations\n",
    "plt.plot(xy_tm_10[0],  xy_tm_10[1],  color='w', linewidth=3.0)\n",
    "plt.plot(xy_1a_0_4[0], xy_1a_0_4[1], color='w', linewidth=3.0)\n",
    "plt.plot(xy_omega[0],  xy_omega[1],  color='w', linewidth=3.0)\n",
    "plt.plot(xy_tm_10[0],  xy_tm_10[1],  color='m', linewidth=1.5, label='previous, mt = 10')\n",
    "plt.plot(xy_1a_0_4[0], xy_1a_0_4[1], color='m', linewidth=1.5, label='previous', linestyle=':')\n",
    "plt.plot(xy_omega[0],  xy_omega[1],  color='k', linewidth=1.5, label='original')\n",
    "\n",
    "# Update the legend and set the X and Y axis limits\n",
    "plt.legend(loc='center left', bbox_to_anchor=(1.01, 0.5), markerscale=0.8, fontsize=14)\n",
    "plt.ylim(-1.6, 1.6)\n",
    "plt.xlim(-3.2, 0.2)"
   ]
  },
  {
   "cell_type": "markdown",
   "metadata": {},
   "source": [
    "### 2.4. The importance of investigating multiple elements"
   ]
  },
  {
   "cell_type": "markdown",
   "metadata": {},
   "source": [
    "In the previous section, we tuned the input parameters of our model to reproduce the [Mg/Fe] vs [Fe/H] relation in Fornax. Now, let's look at [Si/Fe] using the same set of parameters."
   ]
  },
  {
   "cell_type": "code",
   "execution_count": null,
   "metadata": {
    "collapsed": false
   },
   "outputs": [],
   "source": [
    "# Select the abundance ratio\n",
    "yaxis = '[Si/Fe]'\n",
    "\n",
    "# Plot observations\n",
    "s.plot_spectro(galaxy=galaxy, xaxis=xaxis, yaxis=yaxis)\n",
    "\n",
    "# Extract the numerical prediction using the return_x_y parameter\n",
    "xy_tm_10 = o_scl_tm_10.plot_spectro(xaxis=xaxis, yaxis=yaxis, return_x_y=True)\n",
    "\n",
    "# Overplot the predictions on top of observations\n",
    "plt.plot(xy_tm_10[0],  xy_tm_10[1],  color='w', linewidth=3.0)\n",
    "plt.plot(xy_omega[0],  xy_omega[1],  color='w', linewidth=3.0)\n",
    "plt.plot(xy_tm_10[0], xy_tm_10[1], color='m', linewidth=1.5, label='ok for [Mg/Fe]')\n",
    "plt.plot(xy_omega[0],  xy_omega[1],  color='k', linewidth=1.5, label='original')\n",
    "\n",
    "# Update the legend and set the X and Y axis limits\n",
    "plt.legend(loc='center left', bbox_to_anchor=(1.01, 0.5), markerscale=0.8, fontsize=14)\n",
    "plt.ylim(-1.6, 1.6)\n",
    "plt.xlim(-3.2, 0.2)"
   ]
  },
  {
   "cell_type": "markdown",
   "metadata": {},
   "source": [
    "As seen above, the value of our input parameters do not allow to reproduce the Si abundances data.  This can be solved by increasing the outflow rate (gas circulation) and the number of SNe Ia."
   ]
  },
  {
   "cell_type": "code",
   "execution_count": null,
   "metadata": {
    "collapsed": false
   },
   "outputs": [],
   "source": [
    "# Run an OMEGA open-box simulation to fit [Si/Fe]\n",
    "o_scl_Si_ok = omega.omega(galaxy=galaxy, \\\n",
    "     SF_law=True, sfe=0.30, mass_loading=6.0, nb_1a_per_m=1.5e-3, transitionmass=10)"
   ]
  },
  {
   "cell_type": "code",
   "execution_count": null,
   "metadata": {
    "collapsed": false
   },
   "outputs": [],
   "source": [
    "# Select the abundance ratio\n",
    "yaxis = '[Si/Fe]'\n",
    "\n",
    "# Plot observations\n",
    "s.plot_spectro(galaxy=galaxy, xaxis=xaxis, yaxis=yaxis)\n",
    "\n",
    "# Extract the numerical prediction using the return_x_y parameter\n",
    "xy_tm_10 = o_scl_tm_10.plot_spectro(xaxis=xaxis, yaxis=yaxis, return_x_y=True)\n",
    "xy_Si_ok = o_scl_Si_ok.plot_spectro(xaxis=xaxis, yaxis=yaxis, return_x_y=True)\n",
    "\n",
    "# Overplot the predictions on top of observations\n",
    "plt.plot(xy_tm_10[0],  xy_tm_10[1],  color='w', linewidth=3.0)\n",
    "plt.plot(xy_Si_ok[0],  xy_Si_ok[1],  color='w', linewidth=3.0)\n",
    "plt.plot(xy_omega[0],  xy_omega[1],  color='w', linewidth=3.0)\n",
    "plt.plot(xy_tm_10[0], xy_tm_10[1], color='m', linewidth=1.5, label='ok for [Mg/Fe]')\n",
    "plt.plot(xy_Si_ok[0], xy_Si_ok[1], color='r', linewidth=1.5, label='ok for [Si/Fe]')\n",
    "plt.plot(xy_omega[0],  xy_omega[1],  color='k', linewidth=1.5, label='original')\n",
    "\n",
    "# Update the legend and set the X and Y axis limits\n",
    "plt.legend(loc='center left', bbox_to_anchor=(1.01, 0.5), markerscale=0.8, fontsize=14)\n",
    "plt.ylim(-1.6, 1.6)\n",
    "plt.xlim(-3.2, 0.2)"
   ]
  },
  {
   "cell_type": "markdown",
   "metadata": {},
   "source": [
    "Now, if we look back at [Mg/Fe], we notice that the parameters which worked for Si do not work for Mg."
   ]
  },
  {
   "cell_type": "code",
   "execution_count": null,
   "metadata": {
    "collapsed": false
   },
   "outputs": [],
   "source": [
    "# Select the abundance ratio\n",
    "yaxis = '[Mg/Fe]'\n",
    "\n",
    "# Plot observations\n",
    "s.plot_spectro(galaxy=galaxy, xaxis=xaxis, yaxis=yaxis)\n",
    "\n",
    "# Extract the numerical prediction using the return_x_y parameter\n",
    "xy_tm_10 = o_scl_tm_10.plot_spectro(xaxis=xaxis, yaxis=yaxis, return_x_y=True)\n",
    "xy_Si_ok = o_scl_Si_ok.plot_spectro(xaxis=xaxis, yaxis=yaxis, return_x_y=True)\n",
    "\n",
    "# Overplot the predictions on top of observations\n",
    "plt.plot(xy_tm_10[0],  xy_tm_10[1],  color='w', linewidth=3.0)\n",
    "plt.plot(xy_Si_ok[0],  xy_Si_ok[1],  color='w', linewidth=3.0)\n",
    "plt.plot(xy_omega[0],  xy_omega[1],  color='w', linewidth=3.0)\n",
    "plt.plot(xy_tm_10[0], xy_tm_10[1], color='m', linewidth=1.5, label='ok for [Mg/Fe]')\n",
    "plt.plot(xy_Si_ok[0], xy_Si_ok[1], color='r', linewidth=1.5, label='ok for [Si/Fe]')\n",
    "plt.plot(xy_omega[0],  xy_omega[1],  color='k', linewidth=1.5, label='original')\n",
    "\n",
    "# Update the legend and set the X and Y axis limits\n",
    "plt.legend(loc='center left', bbox_to_anchor=(1.01, 0.5), markerscale=0.8, fontsize=14)\n",
    "plt.ylim(-1.6, 1.6)\n",
    "plt.xlim(-3.2, 0.2)"
   ]
  },
  {
   "cell_type": "markdown",
   "metadata": {},
   "source": [
    "When investigating the chemical evolution of a galaxy, **it is very important to include as many elements as possible**. Otherwise, the conclusions drawn from numerical predictions can be misleading.  **The best a chemical evolution model can do is limited by its input stellar yields**.  Our experiment shows that there is either too much Si or not enough Mg in our stellar yields. **A good exercise is to repeat the experiment with other galaxies** to see if this problem remains.  Sometime, observational data can be a source of discrepancies."
   ]
  }
 ],
 "metadata": {
  "kernelspec": {
   "display_name": "Python 2",
   "language": "python",
   "name": "python2"
  },
  "language_info": {
   "codemirror_mode": {
    "name": "ipython",
    "version": 2
   },
   "file_extension": ".py",
   "mimetype": "text/x-python",
   "name": "python",
   "nbconvert_exporter": "python",
   "pygments_lexer": "ipython2",
   "version": "2.7.12"
  }
 },
 "nbformat": 4,
 "nbformat_minor": 0
}
