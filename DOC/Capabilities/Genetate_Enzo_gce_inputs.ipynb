{
 "cells": [
  {
   "cell_type": "markdown",
   "metadata": {},
   "source": [
    "# GCE Inputs for Enzo"
   ]
  },
  {
   "cell_type": "markdown",
   "metadata": {},
   "source": [
    "This notebook provides the steps to generate the input table for Enzo to include chemical species and radiation in the feedback prescription of the stellar particles.\n",
    "\n",
    "Developers: Benoit Côté, Brian O'Shea"
   ]
  },
  {
   "cell_type": "code",
   "execution_count": null,
   "metadata": {
    "collapsed": true
   },
   "outputs": [],
   "source": [
    "# Standard Python package(s)\n",
    "import numpy as np\n",
    "\n",
    "# Stellar Yields for Galactic Modeling Applications (SYGMA)\n",
    "# Ritter et al. (2018), http://adsabs.harvard.edu/abs/2018ApJS..237...42R\n",
    "import sygma"
   ]
  },
  {
   "cell_type": "markdown",
   "metadata": {},
   "source": [
    "**Note** Some of the scripts will be transfered in a background script away from the view of the users. This notebook is still under development."
   ]
  },
  {
   "cell_type": "markdown",
   "metadata": {},
   "source": [
    "---\n",
    "## Stellar Population Parameters Selection"
   ]
  },
  {
   "cell_type": "code",
   "execution_count": null,
   "metadata": {
    "collapsed": true
   },
   "outputs": [],
   "source": [
    "# Initial mass function (IMF)\n",
    "# \"kroupa\" --> Kroupa (2001)\n",
    "# \"chabrier\" --> Chabrier (2003)\n",
    "# \"salpeter\" --> Salpeter (1955)\n",
    "# Possible to couple Chabrier + different index at high mass\n",
    "# I will update this later on..\n",
    "imf_type = 'kroupa'\n",
    "\n",
    "# IMF full mass boundaries  [Msun]\n",
    "imf_bdys = [0.1, 100.]\n",
    "\n",
    "# IMF mass boundaries where yields are ejected [Msun]\n",
    "imf_yields_range = [1., 100.]\n",
    "\n",
    "# Number of Type Ia Supernovae (SNe Ia) per units of stellar mass formed\n",
    "# Typically ~ 1e-3\n",
    "nb_1a_per_m = 1.0e-3\n",
    "\n",
    "# Stellar yield tables\n",
    "yields_low_and_massive_stars = 'yield_tables/agb_and_massive_stars_nugrid_MESAonly_fryer12delay.txt'\n",
    "yields_SNe_Ia = 'yield_tables/sn1a_i99_W7.txt'\n",
    "\n",
    "# Will be more options soon\n",
    "# ..\n",
    "\n",
    "# Create the parameter lists for SYGMA\n",
    "kwargs = {\"imf_type\":imf_type, \"imf_bdys\":imf_bdys, \"imf_yields_range\":imf_yields_range,\\\n",
    "          \"nb_1a_per_m\":nb_1a_per_m, \"table\":yields_low_and_massive_stars,\\\n",
    "          \"sn1a_table\":yields_SNe_Ia}"
   ]
  },
  {
   "cell_type": "markdown",
   "metadata": {},
   "source": [
    "#### Metallicities and Elements  Selection"
   ]
  },
  {
   "cell_type": "code",
   "execution_count": null,
   "metadata": {
    "collapsed": true
   },
   "outputs": [],
   "source": [
    "# List of metallicities to appear on the input Enzo table \n",
    "# Z is the mass fraction of metals, NOT normalized to Solar\n",
    "Z_list = [0.02, 0.01, 0.001]\n",
    "len_Z_list = len(Z_list)\n",
    "\n",
    "# List of elements\n",
    "elem_list = ['H', 'O', 'C', 'N', 'Mg', 'S', 'Si', 'Ne', 'Fe', 'Mn', 'Ba', 'Eu', 'Sr', 'La']\n",
    "len_elem_list = len(elem_list)"
   ]
  },
  {
   "cell_type": "markdown",
   "metadata": {},
   "source": [
    "#### Timestepping"
   ]
  },
  {
   "cell_type": "code",
   "execution_count": null,
   "metadata": {
    "collapsed": false
   },
   "outputs": [],
   "source": [
    "# See the following notebooks for more timesteps options\n",
    "# https://github.com/NuGrid/NuPyCEE/blob/master/DOC/Capabilities/Timesteps_size_management.ipynb\n",
    "\n",
    "# Logarithmic timesteps (longer timesteps at later times)\n",
    "# - - - - - - - - - - - - - - - - - - - - - - - - - - - -\n",
    "tend = 1.3e10 # Final time of the SYGMA simulations [yr]\n",
    "nb_dt = 30   # Total number of timesteps\n",
    "\n",
    "# Update list of parameters for SYGMA\n",
    "kwargs[\"tend\"] = tend\n",
    "kwargs[\"special_timesteps\"] = nb_dt"
   ]
  },
  {
   "cell_type": "markdown",
   "metadata": {},
   "source": [
    "## Get Outputs from SYGMA"
   ]
  },
  {
   "cell_type": "code",
   "execution_count": null,
   "metadata": {
    "collapsed": false
   },
   "outputs": [],
   "source": [
    "# Run SYGMA for all metallicities\n",
    "sygma_list = []\n",
    "for Z in Z_list:\n",
    "    sygma_list.append(sygma.sygma(iniZ=Z, **kwargs))\n",
    "    \n",
    "    # Check whether the elements are available\n",
    "    # This will go in a background script\n",
    "    not_available = []\n",
    "    for elem in elem_list:\n",
    "        if not elem in sygma_list[-1].history.elements:\n",
    "            not_available.append(elem)\n",
    "    if len(not_available) > 0:\n",
    "        for elem in not_available:\n",
    "            print(elem,' not available with the selected yields tables.')\n",
    "        print('SYGMA run stopped.')\n",
    "        break"
   ]
  },
  {
   "cell_type": "code",
   "execution_count": null,
   "metadata": {
    "collapsed": true
   },
   "outputs": [],
   "source": [
    "# Get the list of isotope indexes for each selected elements\n",
    "# This will go in a background script\n",
    "i_iso = {}\n",
    "for elem in elem_list:\n",
    "    i_iso[elem] = []\n",
    "for i in range(sygma_list[0].nb_isotopes):\n",
    "    elem = sygma_list[0].history.isotopes[i].split('-')[0]\n",
    "    if elem in elem_list:\n",
    "        i_iso[elem].append(i)"
   ]
  },
  {
   "cell_type": "code",
   "execution_count": null,
   "metadata": {
    "collapsed": false
   },
   "outputs": [],
   "source": [
    "# Get the mass ejection rate [Msun/yr] of each element at each timestep for each metallicity\n",
    "# m_ej_X_rate[ metallicity index ][ timestep index ][ element index ] --> Element mass\n",
    "m_ej_X_rate = np.zeros((len_Z_list, nb_dt, len_elem_list))\n",
    "\n",
    "# This will go in a background script\n",
    "# For each metallicity ..\n",
    "for i_Z in range(len_Z_list):\n",
    "    \n",
    "    # For each timestep ..\n",
    "    for i_t in range(nb_dt):\n",
    "        \n",
    "        # For each element ..\n",
    "        for i_e in range(len_elem_list):\n",
    "            \n",
    "            # For each isotope of that element ..\n",
    "            for i_i in i_iso[elem_list[i_e]]:\n",
    "                \n",
    "                # Accumulate the total ejected mass for that isotope, at that timestep\n",
    "                m_ej_X_rate[i_Z][i_t][i_e] += sygma_list[i_Z].mdot[i_t][i_i]\n",
    "        \n",
    "        # Convert total mass [Msun] into rate [Msun/yr]\n",
    "        m_ej_X_rate[i_Z][i_t] /= sygma_list[i_Z].history.timesteps[i_t]\n",
    "\n",
    "# Get the total and metal mass ejection rate [Msun/yr] at each timestep for each metallicity\n",
    "# m_ej_Z_rate[ metallicity index ][ timestep index ] --> Metal mass\n",
    "# m_ej_rate[ metallicity index ][ timestep index ] --> Total mass\n",
    "m_ej_rate = np.zeros((len_Z_list, nb_dt))\n",
    "m_ej_Z_rate = np.zeros((len_Z_list, nb_dt))\n",
    "\n",
    "# This will go in a background script\n",
    "# For each metallicity ..\n",
    "non_Z_elem = ['H', 'He', 'Li']\n",
    "for i_Z in range(len_Z_list):\n",
    "    \n",
    "    # For each timestep ..\n",
    "    for i_t in range(nb_dt):\n",
    "        \n",
    "        # For each isotope ..\n",
    "        for i_i in range(sygma_list[i_Z].nb_isotopes):\n",
    "            \n",
    "            # Add metals and total mass ejected\n",
    "            m_ej_rate[i_Z][i_t] += sygma_list[i_Z].mdot[i_t][i_i]\n",
    "            if not sygma_list[i_Z].history.isotopes[i_i].split('-')[0] in non_Z_elem:\n",
    "                m_ej_Z_rate[i_Z][i_t] += sygma_list[i_Z].mdot[i_t][i_i]\n",
    "            \n",
    "    # Convert total mass [Msun] into rate [Msun/yr]\n",
    "    m_ej_rate[i_Z][i_t] /= sygma_list[i_Z].history.timesteps[i_t]\n",
    "    m_ej_Z_rate[i_Z][i_t] /= sygma_list[i_Z].history.timesteps[i_t]"
   ]
  },
  {
   "cell_type": "code",
   "execution_count": null,
   "metadata": {
    "collapsed": true
   },
   "outputs": [],
   "source": [
    "# Get the time values at the center of each timestep (i.e., each time bin)\n",
    "# This will go in a background script\n",
    "t_center_bin = np.zeros(nb_dt)\n",
    "for i_t in range(nb_dt):\n",
    "    t_center_bin[i_t] = sygma_list[0].history.age[i_t] + \\\n",
    "        0.5*sygma_list[0].history.timesteps[i_t]"
   ]
  },
  {
   "cell_type": "code",
   "execution_count": null,
   "metadata": {
    "collapsed": false
   },
   "outputs": [],
   "source": [
    "# Include dummy radiation values ..\n",
    "dE_dt_mec = np.zeros((len_Z_list, nb_dt))\n",
    "dE_dt_lum_bol = np.zeros((len_Z_list, nb_dt))\n",
    "dE_dt_lum_ionizing = np.zeros((len_Z_list, nb_dt))\n",
    "dE_dt_lum_dissociating = np.zeros((len_Z_list, nb_dt))\n",
    "dE_dt_lum_electric = np.zeros((len_Z_list, nb_dt))"
   ]
  },
  {
   "cell_type": "markdown",
   "metadata": {},
   "source": [
    "## Create Enzo Input Table"
   ]
  },
  {
   "cell_type": "code",
   "execution_count": null,
   "metadata": {
    "collapsed": true
   },
   "outputs": [],
   "source": [
    "comment_symbol = '# '"
   ]
  },
  {
   "cell_type": "code",
   "execution_count": null,
   "metadata": {
    "collapsed": false
   },
   "outputs": [],
   "source": [
    "# Write the header with information about columns and stellar population parameters\n",
    "def write_header(text_file):\n",
    "    \n",
    "    # Initialize the header\n",
    "    the_header = ''\n",
    "    \n",
    "    # Write general information\n",
    "    the_header += comment_symbol+'Input table generated using SYGMA (Ritter et al. 2018)\\n'\n",
    "    \n",
    "    # Write the stellar population parameters\n",
    "    the_header += comment_symbol+'\\n'\n",
    "    the_header += comment_symbol+'Stellar population parameters\\n'\n",
    "    the_header += comment_symbol+'=============================\\n'\n",
    "    for key in kwargs.keys():\n",
    "        the_header += comment_symbol+key+' = '+str(kwargs[key])+'\\n'\n",
    "        \n",
    "    # Write columns information\n",
    "    the_header += comment_symbol+'\\n'\n",
    "    the_header += comment_symbol+'Columns\\n'\n",
    "    the_header += comment_symbol+'=======\\n'\n",
    "    the_header += comment_symbol+'1.  Time    [yr] (middle of time bin)\\n'\n",
    "    the_header += comment_symbol+'2.  dM/dt   [Msun/yr] (total)\\n'\n",
    "    the_header += comment_symbol+'3.  dM_Z/dt [Msun/yr] (metals)\\n'\n",
    "    for i_e in range(len_elem_list):\n",
    "        if (4+i_e) > 9:\n",
    "            sp = ' '\n",
    "        else:\n",
    "            sp = '  '\n",
    "        the_header += comment_symbol+str(4+i_e)+'.'+sp+'dM_X/dt [Msun/yr] ('+elem_list[i_e]+')\\n'\n",
    "    i_col = 4+i_e\n",
    "    the_header += comment_symbol+str(i_col+1)+'. dE/dt   [??] (mechanical)\\n'\n",
    "    the_header += comment_symbol+str(i_col+2)+'. dE/dt   [??] (bolometric)\\n'\n",
    "    the_header += comment_symbol+str(i_col+3)+'. dE/dt   [??] (photoionizing, 13.6 eV and up)\\n'\n",
    "    the_header += comment_symbol+str(i_col+4)+'. dE/dt   [??] (photodissociating, LW, 11.18 - 13.6 eV)\\n'\n",
    "    the_header += comment_symbol+str(i_col+5)+'. dE/dt   [??] (photoelectric heating, 8 - 13.6 eV)\\n'\n",
    "    \n",
    "    # Add header\n",
    "    text_file.write(the_header)"
   ]
  },
  {
   "cell_type": "code",
   "execution_count": null,
   "metadata": {
    "collapsed": false
   },
   "outputs": [],
   "source": [
    "# Define the format of the digits in the table\n",
    "form = '%.4E'\n",
    "extra_space = '  '\n",
    "\n",
    "# Open the output file\n",
    "text_file = open(\"/Users/benoitcote/Desktop/enzo_gce_table.txt\", \"w\")\n",
    "write_header(text_file)\n",
    "\n",
    "# For each metallicity ..\n",
    "for i_Z in range(len_Z_list):\n",
    "    \n",
    "    # Write the metallicity header\n",
    "    Z_header = ''\n",
    "    Z_header += comment_symbol+'\\n'\n",
    "    Z_header += comment_symbol+'Z = '+str(Z_list[i_Z])+'\\n'\n",
    "    Z_header += comment_symbol+'==========\\n'\n",
    "    text_file.write(Z_header)\n",
    "\n",
    "    # Declare the block of data for that metallicity\n",
    "    the_block = ''\n",
    "\n",
    "    # For each time bin ..\n",
    "    for i_t in range(nb_dt):\n",
    "\n",
    "        # Create an empty line\n",
    "        the_line = ''\n",
    "\n",
    "        # Add the time (center of the time bin) [yr]\n",
    "        the_line += str(form%t_center_bin[i_t]) + extra_space\n",
    "\n",
    "        # Add the total and metal mass ejected rate [Msun/yr]\n",
    "        the_line += str(form%m_ej_rate[i_Z][i_t]) + extra_space\n",
    "        the_line += str(form%m_ej_Z_rate[i_Z][i_t]) + extra_space\n",
    "\n",
    "        # Add the elemental mass ejected rate [Msun/yr]\n",
    "        for i_e in range(len_elem_list):\n",
    "            the_line += str(form%m_ej_X_rate[i_Z][i_t][i_e]) + extra_space\n",
    "\n",
    "        # Add luminosities\n",
    "        the_line += str(form%dE_dt_mec[i_Z][i_t]) + extra_space\n",
    "        the_line += str(form%dE_dt_lum_bol[i_Z][i_t]) + extra_space\n",
    "        the_line += str(form%dE_dt_lum_ionizing[i_Z][i_t]) + extra_space\n",
    "        the_line += str(form%dE_dt_lum_dissociating[i_Z][i_t]) + extra_space\n",
    "        the_line += str(form%dE_dt_lum_electric[i_Z][i_t])\n",
    "\n",
    "        # Add the line to the block\n",
    "        the_block += the_line + '\\n'\n",
    "\n",
    "    # Write the block in the output file\n",
    "    text_file.write(the_block)\n",
    "    \n",
    "# Close the output file\n",
    "text_file.close()"
   ]
  },
  {
   "cell_type": "code",
   "execution_count": null,
   "metadata": {
    "collapsed": false
   },
   "outputs": [],
   "source": []
  },
  {
   "cell_type": "code",
   "execution_count": null,
   "metadata": {
    "collapsed": true
   },
   "outputs": [],
   "source": []
  }
 ],
 "metadata": {
  "kernelspec": {
   "display_name": "Python 3",
   "language": "python",
   "name": "python3"
  },
  "language_info": {
   "codemirror_mode": {
    "name": "ipython",
    "version": 3
   },
   "file_extension": ".py",
   "mimetype": "text/x-python",
   "name": "python",
   "nbconvert_exporter": "python",
   "pygments_lexer": "ipython3",
   "version": "3.4.8"
  }
 },
 "nbformat": 4,
 "nbformat_minor": 0
}
