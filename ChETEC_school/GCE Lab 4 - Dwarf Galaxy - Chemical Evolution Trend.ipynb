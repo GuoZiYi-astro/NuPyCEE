{
 "cells": [
  {
   "cell_type": "markdown",
   "metadata": {},
   "source": [
    "# GCE Lab 4 - Dwarf Galaxy - Chemical Evolution Trend"
   ]
  },
  {
   "cell_type": "markdown",
   "metadata": {},
   "source": [
    "In this notebook, you will tune model parameters to fit the chemical evolution trend derived from stellar spectroscopy, for the dwarf spheroidal galaxy Fornax."
   ]
  },
  {
   "cell_type": "code",
   "execution_count": null,
   "metadata": {},
   "outputs": [],
   "source": [
    "# Bypass any already-installed version (useful for AstroHub)\n",
    "import sys\n",
    "if \"/opt/NuPyCEE\" in sys.path:\n",
    "    sys.path.remove(\"/opt/NuPyCEE\")\n",
    "if \"/opt/JINAPyCEE\" in sys.path:\n",
    "    sys.path.remove(\"/opt/JINAPyCEE\")\n",
    "if \"/opt\" in sys.path:\n",
    "    sys.path.remove(\"/opt\")\n",
    "\n",
    "# Import standard Python packages\n",
    "import matplotlib\n",
    "import matplotlib.pyplot as plt\n",
    "import numpy as np\n",
    "\n",
    "# One-zone galactic chemical evolution code\n",
    "import NuPyCEE.omega as omega\n",
    "\n",
    "# Stellar abundances plotting code\n",
    "import NuPyCEE.stellab as stellab\n",
    "\n",
    "# Matplotlib option\n",
    "%matplotlib inline"
   ]
  },
  {
   "cell_type": "markdown",
   "metadata": {},
   "source": [
    "## 1. Stellar Abundances"
   ]
  },
  {
   "cell_type": "markdown",
   "metadata": {},
   "source": [
    "To plot the observed stellar abundances of a galaxy, STELLAB first needs to be launched without input parameter."
   ]
  },
  {
   "cell_type": "code",
   "execution_count": null,
   "metadata": {},
   "outputs": [],
   "source": [
    "# Launch the STELLAB code\n",
    "s = stellab.stellab()"
   ]
  },
  {
   "cell_type": "markdown",
   "metadata": {},
   "source": [
    "The next step is to select a galaxy. So far, STELLAB includes the Milky Way, Sculptor, Carina, Fornax, and the LMC. Simply use the galaxy parameter and enter the name of the galaxy with lower cases (spaces need to be replaced by underscores). Then, use the plot_spectro function to visualize the selected abundance ratios."
   ]
  },
  {
   "cell_type": "code",
   "execution_count": null,
   "metadata": {},
   "outputs": [],
   "source": [
    "# Select the galaxy\n",
    "galaxy = \"fornax\"\n",
    "\n",
    "# Plot the abundance ratios\n",
    "matplotlib.rcParams.update({'font.size': 16.0})\n",
    "s.plot_spectro(galaxy=galaxy, xaxis='[Fe/H]', yaxis='[Mg/Fe]')\n",
    "plt.ylim(-1.6, 1.6)"
   ]
  },
  {
   "cell_type": "markdown",
   "metadata": {},
   "source": [
    "## 2. Fit Stellar Abundances with Models"
   ]
  },
  {
   "cell_type": "code",
   "execution_count": null,
   "metadata": {},
   "outputs": [],
   "source": [
    "# \\\\\\\\\\\\\\\\\\\\ Modify below \\\\\\\\\\\\\\\\\\\\\\\\\n",
    "# ====================================\n",
    "\n",
    "# Define the galactic chemical evolution (GCE) parameters\n",
    "\n",
    "# Dimensionless star formation efficiency (must be below 1.0)\n",
    "# Original value --> 0.3\n",
    "sfe = 0.3            \n",
    "\n",
    "# Strength of galactic outflows\n",
    "# Original value --> 2.0\n",
    "mass_loading = 2.0   \n",
    "\n",
    "# Number of Type Ia supernova that occurs per stellar mass formed\n",
    "# Original value --> 0.4e-3\n",
    "nb_1a_per_m = 0.4e-3\n",
    "\n",
    "# ====================================\n",
    "# ////////// Modify above ////////////\n",
    "\n",
    "# Run the GCE code OMEGA\n",
    "o_1 = omega.omega(galaxy=galaxy, SF_law=True, sfe=sfe, mass_loading=mass_loading, \\\n",
    "                  nb_1a_per_m=nb_1a_per_m, transitionmass=10.0)"
   ]
  },
  {
   "cell_type": "code",
   "execution_count": null,
   "metadata": {},
   "outputs": [],
   "source": [
    "# Choose your elemental abundance ratios\n",
    "yaxis = '[Mg/Fe]'\n",
    "xaxis = '[Fe/H]'\n",
    "\n",
    "# Plot stellar abundances derived from observations\n",
    "matplotlib.rcParams.update({'font.size': 16.0})\n",
    "s.plot_spectro(galaxy=galaxy, xaxis=xaxis, yaxis=yaxis)\n",
    "\n",
    "# Overplot the predictions on top of observations\n",
    "xy_0_1 = o_1.plot_spectro(xaxis=xaxis, yaxis=yaxis, return_x_y=True)\n",
    "plt.plot(xy_0_1[0],  xy_0_1[1],  color='w', linewidth=3.0)\n",
    "plt.plot(xy_0_1[0],  xy_0_1[1],  color='m', linewidth=1.5, label='GCE prediction 1')\n",
    "\n",
    "# Update the legend and set the X and Y axis limits.\n",
    "plt.legend(loc='center left', bbox_to_anchor=(1.01, 0.5), markerscale=0.8, fontsize=16)\n",
    "plt.ylim(-1.6, 1.6)\n",
    "plt.xlim(-3.2, 0.2)"
   ]
  },
  {
   "cell_type": "markdown",
   "metadata": {},
   "source": [
    "## Exercises"
   ]
  },
  {
   "cell_type": "markdown",
   "metadata": {},
   "source": [
    "* 1) Try to modify **mass_loading**, the strength of galactic outflows (how much gas is removed from the galaxy). Develop an intuition on how outflows affect the numerical predictions.\n",
    "\n",
    "\n",
    "* 2) Do the same thing with **nb_1a_per_m**, the number of Type Ia supernovae.\n",
    "\n",
    "\n",
    "* 3) Do the same thing with **sfe**, the star formation efficiency.\n",
    "\n",
    "\n",
    "* 4) Try to fit [Si/Fe] instead of [\"Mg/Fe\"]. Are the parameters the same? How do you interpret this experiment?"
   ]
  },
  {
   "cell_type": "code",
   "execution_count": null,
   "metadata": {},
   "outputs": [],
   "source": []
  }
 ],
 "metadata": {
  "kernelspec": {
   "display_name": "Python 3",
   "language": "python",
   "name": "python3"
  },
  "language_info": {
   "codemirror_mode": {
    "name": "ipython",
    "version": 3
   },
   "file_extension": ".py",
   "mimetype": "text/x-python",
   "name": "python",
   "nbconvert_exporter": "python",
   "pygments_lexer": "ipython3",
   "version": "3.7.4"
  }
 },
 "nbformat": 4,
 "nbformat_minor": 2
}
